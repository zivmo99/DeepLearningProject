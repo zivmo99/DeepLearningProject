{
 "cells": [
  {
   "cell_type": "code",
   "execution_count": null,
   "metadata": {
    "_uuid": "915e2efe0713031e10cffdb59f7d917b1130c4f8",
    "gradient": {
     "editing": false,
     "id": "04cfb076-b20e-4222-bf2a-80f4cdbffa3e",
     "kernelId": ""
    },
    "id": "Ym90xfS2Dcri"
   },
   "outputs": [],
   "source": [
    "# Code extensively uses the kernel https://www.kaggle.com/bonhart/pytorch-cnn-from-scratch!\n",
    "\n",
    "# Thank you https://www.kaggle.com/bonhart"
   ]
  },
  {
   "cell_type": "code",
   "execution_count": 1,
   "metadata": {
    "_cell_guid": "b1076dfc-b9ad-4769-8c92-a6c4dae69d19",
    "_uuid": "8f2839f25d086af736a60e9eeb907d3b93b6e0e5",
    "executionInfo": {
     "elapsed": 7865,
     "status": "ok",
     "timestamp": 1641928634426,
     "user": {
      "displayName": "Maxim Levit",
      "photoUrl": "https://lh3.googleusercontent.com/a-/AOh14Giwgt68QDbWFB9jocXOKnezo4YBZ-MoQCrQmMA=s64",
      "userId": "06991491534825156893"
     },
     "user_tz": -120
    },
    "gradient": {
     "editing": false,
     "execution_count": 1,
     "id": "01115464-3ba0-46ab-8b21-c8e79780e6fb",
     "kernelId": ""
    },
    "id": "_zz6giE9Dcrm"
   },
   "outputs": [
    {
     "name": "stdout",
     "output_type": "stream",
     "text": [
      "Collecting package metadata (current_repodata.json): done\n",
      "Solving environment: done\n",
      "\n",
      "## Package Plan ##\n",
      "\n",
      "  environment location: /opt/conda\n",
      "\n",
      "  added / updated specs:\n",
      "    - pandas\n",
      "\n",
      "\n",
      "The following packages will be downloaded:\n",
      "\n",
      "    package                    |            build\n",
      "    ---------------------------|-----------------\n",
      "    ca-certificates-2021.10.8  |       ha878542_0         139 KB  conda-forge\n",
      "    certifi-2021.10.8          |   py38h578d9bd_1         145 KB  conda-forge\n",
      "    conda-4.11.0               |   py38h578d9bd_0        16.9 MB  conda-forge\n",
      "    pandas-1.3.5               |   py38h43a58ef_0        13.0 MB  conda-forge\n",
      "    python-dateutil-2.8.2      |     pyhd8ed1ab_0         240 KB  conda-forge\n",
      "    ------------------------------------------------------------\n",
      "                                           Total:        30.4 MB\n",
      "\n",
      "The following NEW packages will be INSTALLED:\n",
      "\n",
      "  pandas             conda-forge/linux-64::pandas-1.3.5-py38h43a58ef_0\n",
      "  python-dateutil    conda-forge/noarch::python-dateutil-2.8.2-pyhd8ed1ab_0\n",
      "\n",
      "The following packages will be UPDATED:\n",
      "\n",
      "  ca-certificates                      2021.5.30-ha878542_0 --> 2021.10.8-ha878542_0\n",
      "  certifi                          2021.5.30-py38h578d9bd_0 --> 2021.10.8-py38h578d9bd_1\n",
      "  conda                               4.10.3-py38h578d9bd_2 --> 4.11.0-py38h578d9bd_0\n",
      "\n",
      "\n",
      "\n",
      "Downloading and Extracting Packages\n",
      "python-dateutil-2.8. | 240 KB    | ##################################### | 100% \n",
      "conda-4.11.0         | 16.9 MB   | ##################################### | 100% \n",
      "pandas-1.3.5         | 13.0 MB   | ##################################### | 100% \n",
      "certifi-2021.10.8    | 145 KB    | ##################################### | 100% \n",
      "ca-certificates-2021 | 139 KB    | ##################################### | 100% \n",
      "Preparing transaction: done\n",
      "Verifying transaction: done\n",
      "Executing transaction: done\n",
      "Collecting package metadata (current_repodata.json): done\n",
      "Solving environment: done\n",
      "\n",
      "## Package Plan ##\n",
      "\n",
      "  environment location: /opt/conda\n",
      "\n",
      "  added / updated specs:\n",
      "    - seaborn\n",
      "\n",
      "\n",
      "The following packages will be downloaded:\n",
      "\n",
      "    package                    |            build\n",
      "    ---------------------------|-----------------\n",
      "    brotli-1.0.9               |       h7f98852_6          18 KB  conda-forge\n",
      "    brotli-bin-1.0.9           |       h7f98852_6          19 KB  conda-forge\n",
      "    cycler-0.11.0              |     pyhd8ed1ab_0          10 KB  conda-forge\n",
      "    fonttools-4.28.5           |   py38h497a2fe_0         1.6 MB  conda-forge\n",
      "    freetype-2.10.4            |       h0708190_1         890 KB  conda-forge\n",
      "    jbig-2.1                   |    h7f98852_2003          43 KB  conda-forge\n",
      "    jpeg-9d                    |       h36c2ea0_0         264 KB  conda-forge\n",
      "    kiwisolver-1.3.2           |   py38h1fd1430_1          80 KB  conda-forge\n",
      "    lcms2-2.12                 |       hddcbb42_0         443 KB  conda-forge\n",
      "    lerc-2.2.1                 |       h9c3ff4c_0         213 KB  conda-forge\n",
      "    libbrotlicommon-1.0.9      |       h7f98852_6          65 KB  conda-forge\n",
      "    libbrotlidec-1.0.9         |       h7f98852_6          33 KB  conda-forge\n",
      "    libbrotlienc-1.0.9         |       h7f98852_6         286 KB  conda-forge\n",
      "    libdeflate-1.7             |       h7f98852_5          67 KB  conda-forge\n",
      "    libpng-1.6.37              |       h21135ba_2         306 KB  conda-forge\n",
      "    libtiff-4.3.0              |       hf544144_1         668 KB  conda-forge\n",
      "    libwebp-base-1.2.1         |       h7f98852_0         845 KB  conda-forge\n",
      "    matplotlib-base-3.5.1      |   py38hf4fb855_0         7.4 MB  conda-forge\n",
      "    munkres-1.1.4              |     pyh9f0ad1d_0          12 KB  conda-forge\n",
      "    olefile-0.46               |     pyh9f0ad1d_1          32 KB  conda-forge\n",
      "    patsy-0.5.2                |     pyhd8ed1ab_0         188 KB  conda-forge\n",
      "    pillow-7.2.0               |   py38h9776b28_2         671 KB  conda-forge\n",
      "    seaborn-0.11.2             |       hd8ed1ab_0           4 KB  conda-forge\n",
      "    seaborn-base-0.11.2        |     pyhd8ed1ab_0         223 KB  conda-forge\n",
      "    statsmodels-0.13.1         |   py38h6c62de6_0        11.5 MB  conda-forge\n",
      "    unicodedata2-14.0.0        |   py38h497a2fe_0         504 KB  conda-forge\n",
      "    ------------------------------------------------------------\n",
      "                                           Total:        26.2 MB\n",
      "\n",
      "The following NEW packages will be INSTALLED:\n",
      "\n",
      "  brotli             conda-forge/linux-64::brotli-1.0.9-h7f98852_6\n",
      "  brotli-bin         conda-forge/linux-64::brotli-bin-1.0.9-h7f98852_6\n",
      "  cycler             conda-forge/noarch::cycler-0.11.0-pyhd8ed1ab_0\n",
      "  fonttools          conda-forge/linux-64::fonttools-4.28.5-py38h497a2fe_0\n",
      "  freetype           conda-forge/linux-64::freetype-2.10.4-h0708190_1\n",
      "  jbig               conda-forge/linux-64::jbig-2.1-h7f98852_2003\n",
      "  jpeg               conda-forge/linux-64::jpeg-9d-h36c2ea0_0\n",
      "  kiwisolver         conda-forge/linux-64::kiwisolver-1.3.2-py38h1fd1430_1\n",
      "  lcms2              conda-forge/linux-64::lcms2-2.12-hddcbb42_0\n",
      "  lerc               conda-forge/linux-64::lerc-2.2.1-h9c3ff4c_0\n",
      "  libbrotlicommon    conda-forge/linux-64::libbrotlicommon-1.0.9-h7f98852_6\n",
      "  libbrotlidec       conda-forge/linux-64::libbrotlidec-1.0.9-h7f98852_6\n",
      "  libbrotlienc       conda-forge/linux-64::libbrotlienc-1.0.9-h7f98852_6\n",
      "  libdeflate         conda-forge/linux-64::libdeflate-1.7-h7f98852_5\n",
      "  libpng             conda-forge/linux-64::libpng-1.6.37-h21135ba_2\n",
      "  libtiff            conda-forge/linux-64::libtiff-4.3.0-hf544144_1\n",
      "  libwebp-base       conda-forge/linux-64::libwebp-base-1.2.1-h7f98852_0\n",
      "  matplotlib-base    conda-forge/linux-64::matplotlib-base-3.5.1-py38hf4fb855_0\n",
      "  munkres            conda-forge/noarch::munkres-1.1.4-pyh9f0ad1d_0\n",
      "  olefile            conda-forge/noarch::olefile-0.46-pyh9f0ad1d_1\n",
      "  patsy              conda-forge/noarch::patsy-0.5.2-pyhd8ed1ab_0\n",
      "  pillow             conda-forge/linux-64::pillow-7.2.0-py38h9776b28_2\n",
      "  seaborn            conda-forge/noarch::seaborn-0.11.2-hd8ed1ab_0\n",
      "  seaborn-base       conda-forge/noarch::seaborn-base-0.11.2-pyhd8ed1ab_0\n",
      "  statsmodels        conda-forge/linux-64::statsmodels-0.13.1-py38h6c62de6_0\n",
      "  unicodedata2       conda-forge/linux-64::unicodedata2-14.0.0-py38h497a2fe_0\n",
      "\n",
      "\n",
      "\n",
      "Downloading and Extracting Packages\n",
      "olefile-0.46         | 32 KB     | ##################################### | 100% \n",
      "libbrotlidec-1.0.9   | 33 KB     | ##################################### | 100% \n",
      "jbig-2.1             | 43 KB     | ##################################### | 100% \n",
      "fonttools-4.28.5     | 1.6 MB    | ##################################### | 100% \n",
      "libtiff-4.3.0        | 668 KB    | ##################################### | 100% \n",
      "pillow-7.2.0         | 671 KB    | ##################################### | 100% \n",
      "seaborn-0.11.2       | 4 KB      | ##################################### | 100% \n",
      "lcms2-2.12           | 443 KB    | ##################################### | 100% \n",
      "libbrotlienc-1.0.9   | 286 KB    | ##################################### | 100% \n",
      "munkres-1.1.4        | 12 KB     | ##################################### | 100% \n",
      "patsy-0.5.2          | 188 KB    | ##################################### | 100% \n",
      "jpeg-9d              | 264 KB    | ##################################### | 100% \n",
      "brotli-1.0.9         | 18 KB     | ##################################### | 100% \n",
      "unicodedata2-14.0.0  | 504 KB    | ##################################### | 100% \n",
      "libwebp-base-1.2.1   | 845 KB    | ##################################### | 100% \n",
      "seaborn-base-0.11.2  | 223 KB    | ##################################### | 100% \n",
      "cycler-0.11.0        | 10 KB     | ##################################### | 100% \n",
      "lerc-2.2.1           | 213 KB    | ##################################### | 100% \n",
      "libpng-1.6.37        | 306 KB    | ##################################### | 100% \n",
      "freetype-2.10.4      | 890 KB    | ##################################### | 100% \n",
      "libdeflate-1.7       | 67 KB     | ##################################### | 100% \n",
      "libbrotlicommon-1.0. | 65 KB     | ##################################### | 100% \n",
      "brotli-bin-1.0.9     | 19 KB     | ##################################### | 100% \n",
      "matplotlib-base-3.5. | 7.4 MB    | ##################################### | 100% \n",
      "statsmodels-0.13.1   | 11.5 MB   | ##################################### | 100% \n",
      "kiwisolver-1.3.2     | 80 KB     | ##################################### | 100% \n",
      "Preparing transaction: done\n",
      "Verifying transaction: done\n",
      "Executing transaction: done\n"
     ]
    }
   ],
   "source": [
    "# Libraries\n",
    "import os\n",
    "import numpy as np\n",
    "!conda install --yes pandas \n",
    "import pandas as pd\n",
    "\n",
    "import cv2\n",
    "!conda install --yes seaborn \n",
    "import seaborn as sns\n",
    "\n",
    "import matplotlib.pyplot as plt\n",
    "%matplotlib inline\n",
    "\n",
    "from sklearn.model_selection import train_test_split\n",
    "from sklearn.metrics import classification_report\n",
    "from sklearn.metrics import confusion_matrix\n",
    "\n",
    "import torch \n",
    "import torch.nn as nn\n",
    "import torch.nn.functional as F\n",
    "import torchvision\n",
    "import torchvision.transforms as transforms\n",
    "from torch.utils.data import TensorDataset, DataLoader, Dataset"
   ]
  },
  {
   "cell_type": "code",
   "execution_count": 2,
   "metadata": {
    "_cell_guid": "79c7e3d0-c299-4dcb-8224-4455121ee9b0",
    "_uuid": "d629ff2d2480ee46fbb7e2d37f6b5fab8052498a",
    "colab": {
     "base_uri": "https://localhost:8080/"
    },
    "executionInfo": {
     "elapsed": 1550643,
     "status": "ok",
     "timestamp": 1641930353443,
     "user": {
      "displayName": "Maxim Levit",
      "photoUrl": "https://lh3.googleusercontent.com/a-/AOh14Giwgt68QDbWFB9jocXOKnezo4YBZ-MoQCrQmMA=s64",
      "userId": "06991491534825156893"
     },
     "user_tz": -120
    },
    "gradient": {
     "editing": false,
     "execution_count": 2,
     "id": "5757e8f6-1ab5-4504-81f4-43fcfe4bb422",
     "kernelId": ""
    },
    "id": "UNZPrEbxDcrn",
    "outputId": "60465ffe-9618-4be8-e3a0-65ac43e4ec27"
   },
   "outputs": [
    {
     "data": {
      "text/plain": [
       "277524"
      ]
     },
     "execution_count": 2,
     "metadata": {},
     "output_type": "execute_result"
    }
   ],
   "source": [
    "from glob import glob\n",
    "imagePatches = glob('IDC_regular_ps50_idx5/IDC_regular_ps50_idx5/**/*.png', recursive=True)\n",
    "len(imagePatches)"
   ]
  },
  {
   "cell_type": "code",
   "execution_count": 3,
   "metadata": {
    "_uuid": "e8c6c579d1545b2de82440a0f5458c6479e520a9",
    "colab": {
     "base_uri": "https://localhost:8080/",
     "height": 53
    },
    "executionInfo": {
     "elapsed": 252,
     "status": "ok",
     "timestamp": 1641930432487,
     "user": {
      "displayName": "Maxim Levit",
      "photoUrl": "https://lh3.googleusercontent.com/a-/AOh14Giwgt68QDbWFB9jocXOKnezo4YBZ-MoQCrQmMA=s64",
      "userId": "06991491534825156893"
     },
     "user_tz": -120
    },
    "gradient": {
     "editing": false,
     "execution_count": 3,
     "id": "aa0aa8f3-a81e-440b-a665-1438ee9dc10d",
     "kernelId": ""
    },
    "id": "flrn9qftDcro",
    "outputId": "c0c9ec58-abb7-4db5-bf13-9acd68336fd8"
   },
   "outputs": [
    {
     "data": {
      "text/plain": [
       "'IDC_regular_ps50_idx5/IDC_regular_ps50_idx5/12910/1/12910_idx5_x651_y201_class1.png'"
      ]
     },
     "execution_count": 3,
     "metadata": {},
     "output_type": "execute_result"
    }
   ],
   "source": [
    "imagePatches[0]"
   ]
  },
  {
   "cell_type": "code",
   "execution_count": 4,
   "metadata": {
    "_uuid": "897952d56ed60f3acf6a8f26ca1cbfb11e36e6cd",
    "executionInfo": {
     "elapsed": 2,
     "status": "ok",
     "timestamp": 1641930436410,
     "user": {
      "displayName": "Maxim Levit",
      "photoUrl": "https://lh3.googleusercontent.com/a-/AOh14Giwgt68QDbWFB9jocXOKnezo4YBZ-MoQCrQmMA=s64",
      "userId": "06991491534825156893"
     },
     "user_tz": -120
    },
    "gradient": {
     "editing": false,
     "execution_count": 4,
     "id": "b3947e06-2409-4d7a-aeac-5fe15f1741bd",
     "kernelId": ""
    },
    "id": "D9YAuyoGDcrp"
   },
   "outputs": [],
   "source": [
    "import fnmatch\n",
    "patternZero = '*class0.png'\n",
    "patternOne = '*class1.png'\n",
    "classZero = fnmatch.filter(imagePatches, patternZero)\n",
    "classOne = fnmatch.filter(imagePatches, patternOne)"
   ]
  },
  {
   "cell_type": "code",
   "execution_count": 5,
   "metadata": {
    "colab": {
     "base_uri": "https://localhost:8080/"
    },
    "executionInfo": {
     "elapsed": 4,
     "status": "ok",
     "timestamp": 1641930520424,
     "user": {
      "displayName": "Maxim Levit",
      "photoUrl": "https://lh3.googleusercontent.com/a-/AOh14Giwgt68QDbWFB9jocXOKnezo4YBZ-MoQCrQmMA=s64",
      "userId": "06991491534825156893"
     },
     "user_tz": -120
    },
    "gradient": {
     "editing": false,
     "execution_count": 5,
     "id": "0051da7f-5f55-4583-aeaa-360af93af760",
     "kernelId": ""
    },
    "id": "uonV9ld5r2YQ",
    "outputId": "c8d718a5-fa33-4d55-bded-594c8625f8ca"
   },
   "outputs": [
    {
     "data": {
      "text/plain": [
       "True"
      ]
     },
     "execution_count": 5,
     "metadata": {},
     "output_type": "execute_result"
    }
   ],
   "source": [
    "torch.cuda.is_available()"
   ]
  },
  {
   "cell_type": "code",
   "execution_count": 48,
   "metadata": {
    "_uuid": "106e488540fccc30076aa08381c3ba0236d07cef",
    "executionInfo": {
     "elapsed": 730821,
     "status": "ok",
     "timestamp": 1641931256521,
     "user": {
      "displayName": "Maxim Levit",
      "photoUrl": "https://lh3.googleusercontent.com/a-/AOh14Giwgt68QDbWFB9jocXOKnezo4YBZ-MoQCrQmMA=s64",
      "userId": "06991491534825156893"
     },
     "user_tz": -120
    },
    "gradient": {
     "editing": false,
     "execution_count": 79,
     "id": "42d53f12-7744-4d77-a5de-6363d60ffc6a",
     "kernelId": ""
    },
    "id": "C3NEklHnDcrp"
   },
   "outputs": [],
   "source": [
    "\n",
    "z=[]\n",
    "x=[]\n",
    "X=[]\n",
    "y=[]\n",
    "Y=[]\n",
    "ID=[]\n",
    "cl=[]\n",
    "Num_picture=[]\n",
    "matrix=[] #define empty matrix\n",
    "i=0\n",
    "for img in imagePatches:\n",
    "    \n",
    "    imagePatches1=imagePatches[i].split(\"/\")\n",
    "    #print(imagePatches1)\n",
    "    imagePatches2=imagePatches1[4].split(\"_\")\n",
    "    #print(imagePatches2)\n",
    "    x=imagePatches2[2].split(\"x\")\n",
    "    x=x[1]\n",
    "    #print(x)\n",
    "    y=imagePatches2[3].split(\"y\")\n",
    "    y=y[1]\n",
    "    #print(y)\n",
    "    cl=imagePatches2[4].split(\".png\")\n",
    "    cl=cl[0]\n",
    "   \n",
    "    if cl=='class0':\n",
    "        cl='0'\n",
    "    elif cl=='class1':\n",
    "        cl='1'\n",
    "        \n",
    "    ID=imagePatches2[1]\n",
    "    Num_picture=imagePatches2[0]\n",
    "    X=[Num_picture,ID,x,y,cl]\n",
    "     \n",
    "    matrix.append(X) #add fully defined column into the row\n",
    "\n",
    "   # if img in classZero:\n",
    "       # z.append(0)\n",
    "   #elif img in classOne:\n",
    "      #  z.append(1)\n",
    "    i=i+1\n",
    "column_names=[\"Num_Folder\",\"ID\",\"x\",\"y\",\"labels\"]\n",
    "images_df = pd.DataFrame(matrix,columns=column_names)\n",
    "images_df.head(277524)\n",
    "images_df.to_csv(r'dataset.csv', index = False)\n",
    "#print(X)\n"
   ]
  },
  {
   "cell_type": "code",
   "execution_count": 14,
   "metadata": {
    "_uuid": "0489668124e3590a61343eac9f45d00d08894c8d",
    "executionInfo": {
     "elapsed": 246,
     "status": "ok",
     "timestamp": 1641931492887,
     "user": {
      "displayName": "Maxim Levit",
      "photoUrl": "https://lh3.googleusercontent.com/a-/AOh14Giwgt68QDbWFB9jocXOKnezo4YBZ-MoQCrQmMA=s64",
      "userId": "06991491534825156893"
     },
     "user_tz": -120
    },
    "gradient": {
     "editing": false,
     "execution_count": 57,
     "id": "dfd02c84-6020-4a54-976f-1b505c8fc301",
     "kernelId": ""
    },
    "id": "UwUCPXVfDcrq"
   },
   "outputs": [],
   "source": [
    "#images_df = pd.DataFrame()"
   ]
  },
  {
   "cell_type": "code",
   "execution_count": 27,
   "metadata": {
    "_uuid": "0853ca6328fe66cd4ccf935550c96d575f4e598b",
    "executionInfo": {
     "elapsed": 3,
     "status": "ok",
     "timestamp": 1641931495544,
     "user": {
      "displayName": "Maxim Levit",
      "photoUrl": "https://lh3.googleusercontent.com/a-/AOh14Giwgt68QDbWFB9jocXOKnezo4YBZ-MoQCrQmMA=s64",
      "userId": "06991491534825156893"
     },
     "user_tz": -120
    },
    "gradient": {
     "editing": false,
     "execution_count": 44,
     "id": "7dbfe463-ef6a-424b-bb95-eb1b9f453020",
     "kernelId": ""
    },
    "id": "Sd_-l6yIDcrq"
   },
   "outputs": [],
   "source": [
    "#images_df[\"Num_folder\"]=Num_picture\n",
    "#images_df[\"id\"]=ID\n",
    "#images_df[\"x\"]=x\n",
    "#images_df[\"y\"]=y\n",
    "#images_df[\"images\"] = imagePatches\n",
    "#images_df[\"labels\"] = z"
   ]
  },
  {
   "cell_type": "code",
   "execution_count": 28,
   "metadata": {
    "_uuid": "e7d446abe34633dbe3e558505131c22bccd9fd6c",
    "colab": {
     "base_uri": "https://localhost:8080/",
     "height": 206
    },
    "executionInfo": {
     "elapsed": 5,
     "status": "ok",
     "timestamp": 1641931498789,
     "user": {
      "displayName": "Maxim Levit",
      "photoUrl": "https://lh3.googleusercontent.com/a-/AOh14Giwgt68QDbWFB9jocXOKnezo4YBZ-MoQCrQmMA=s64",
      "userId": "06991491534825156893"
     },
     "user_tz": -120
    },
    "gradient": {
     "editing": false,
     "execution_count": 45,
     "id": "fa74b245-e8c8-4a15-ab77-4a3d2685afda",
     "kernelId": ""
    },
    "id": "W7KWg2uHDcrr",
    "outputId": "48c61e26-6230-4419-bed5-00f735f1e5bb"
   },
   "outputs": [],
   "source": [
    "#images_df.head()"
   ]
  },
  {
   "cell_type": "code",
   "execution_count": 50,
   "metadata": {
    "_uuid": "bf791fae50824823380aa2c3cab7333880109853",
    "colab": {
     "base_uri": "https://localhost:8080/"
    },
    "executionInfo": {
     "elapsed": 321,
     "status": "ok",
     "timestamp": 1641931502918,
     "user": {
      "displayName": "Maxim Levit",
      "photoUrl": "https://lh3.googleusercontent.com/a-/AOh14Giwgt68QDbWFB9jocXOKnezo4YBZ-MoQCrQmMA=s64",
      "userId": "06991491534825156893"
     },
     "user_tz": -120
    },
    "gradient": {
     "editing": false,
     "execution_count": 46,
     "id": "4e390707-997b-44fd-97a7-970046cb4031",
     "kernelId": ""
    },
    "id": "cTlAuHeoDcrs",
    "outputId": "e517586d-f3be-4d71-8aa1-063eb30fd1cd"
   },
   "outputs": [
    {
     "data": {
      "text/plain": [
       "labels\n",
       "0    198738\n",
       "1     78786\n",
       "Name: labels, dtype: int64"
      ]
     },
     "execution_count": 50,
     "metadata": {},
     "output_type": "execute_result"
    }
   ],
   "source": [
    "images_df.groupby(['labels'])['labels'].count()"
   ]
  },
  {
   "cell_type": "code",
   "execution_count": 51,
   "metadata": {
    "_uuid": "5b2bfe3dbeec54a5001834ea96ec0e24085f4cbf",
    "colab": {
     "base_uri": "https://localhost:8080/"
    },
    "executionInfo": {
     "elapsed": 2,
     "status": "ok",
     "timestamp": 1641931505768,
     "user": {
      "displayName": "Maxim Levit",
      "photoUrl": "https://lh3.googleusercontent.com/a-/AOh14Giwgt68QDbWFB9jocXOKnezo4YBZ-MoQCrQmMA=s64",
      "userId": "06991491534825156893"
     },
     "user_tz": -120
    },
    "gradient": {
     "editing": false,
     "execution_count": 47,
     "id": "d13cc3a6-a1b8-47bc-9b6e-8644f4094451",
     "kernelId": ""
    },
    "id": "cTbNNWPZDcrs",
    "outputId": "36c70da7-05eb-4119-faa3-c63829b39864"
   },
   "outputs": [
    {
     "data": {
      "text/plain": [
       "(222019, 55505)"
      ]
     },
     "execution_count": 51,
     "metadata": {},
     "output_type": "execute_result"
    }
   ],
   "source": [
    "#Splitting data into train and val\n",
    "train, val = train_test_split(images_df, stratify=images_df.labels, test_size=0.2)\n",
    "len(train), len(val)"
   ]
  },
  {
   "cell_type": "code",
   "execution_count": null,
   "metadata": {
    "_uuid": "c7d4df9265cf87377ec865636ae31567e05a33cb",
    "executionInfo": {
     "elapsed": 2,
     "status": "ok",
     "timestamp": 1641931509398,
     "user": {
      "displayName": "Maxim Levit",
      "photoUrl": "https://lh3.googleusercontent.com/a-/AOh14Giwgt68QDbWFB9jocXOKnezo4YBZ-MoQCrQmMA=s64",
      "userId": "06991491534825156893"
     },
     "user_tz": -120
    },
    "gradient": {
     "editing": false,
     "execution_count": 49,
     "id": "f9e4ea62-10a6-4c45-bfd0-20c1425d9893",
     "kernelId": ""
    },
    "id": "G17PytGJDcrt"
   },
   "outputs": [],
   "source": [
    "class MyDataset(Dataset):\n",
    "    def __init__(self, df_data,transform=None):\n",
    "        super().__init__()\n",
    "        self.df = df_data.values\n",
    "        \n",
    "        self.transform = transform\n",
    "\n",
    "    def __len__(self):\n",
    "        return len(self.df)\n",
    "    \n",
    "    def __getitem__(self, index):\n",
    "        img_path,label = self.df[index]\n",
    "        \n",
    "        image = cv2.imread(img_path)\n",
    "        image = cv2.resize(image, (50,50))\n",
    "        if self.transform is not None:\n",
    "            image = self.transform(image)\n",
    "        return image, label"
   ]
  },
  {
   "cell_type": "code",
   "execution_count": null,
   "metadata": {
    "_uuid": "9517232a2dccf9405ec8da24a9884342a513ffff",
    "colab": {
     "base_uri": "https://localhost:8080/",
     "height": 35
    },
    "executionInfo": {
     "elapsed": 255,
     "status": "ok",
     "timestamp": 1641941184281,
     "user": {
      "displayName": "Maxim Levit",
      "photoUrl": "https://lh3.googleusercontent.com/a-/AOh14Giwgt68QDbWFB9jocXOKnezo4YBZ-MoQCrQmMA=s64",
      "userId": "06991491534825156893"
     },
     "user_tz": -120
    },
    "gradient": {
     "editing": false,
     "execution_count": 13,
     "id": "e396dc3a-5e87-49e9-ad70-b71379ee26ee",
     "kernelId": ""
    },
    "id": "NR4Ysc8lDcrt",
    "outputId": "dd60cf74-28ee-4919-e6c9-2c5be7e8461a"
   },
   "outputs": [
    {
     "data": {
      "text/plain": [
       "'Quadro M4000'"
      ]
     },
     "execution_count": 13,
     "metadata": {},
     "output_type": "execute_result"
    }
   ],
   "source": [
    "## Parameters for model\n",
    "\n",
    "# Hyper parameters\n",
    "num_epochs = 15\n",
    "num_classes = 2\n",
    "batch_size = 128\n",
    "learning_rate = 0.0002\n",
    "\n",
    "# Device configuration\n",
    "device = torch.device(\"cuda:0\" if torch.cuda.is_available() else \"cpu\")\n",
    "torch.cuda.get_device_name(0)"
   ]
  },
  {
   "cell_type": "code",
   "execution_count": null,
   "metadata": {
    "_uuid": "50afc41fe1b9c6bdf12feb6315588f667f174854",
    "executionInfo": {
     "elapsed": 1,
     "status": "ok",
     "timestamp": 1641941185721,
     "user": {
      "displayName": "Maxim Levit",
      "photoUrl": "https://lh3.googleusercontent.com/a-/AOh14Giwgt68QDbWFB9jocXOKnezo4YBZ-MoQCrQmMA=s64",
      "userId": "06991491534825156893"
     },
     "user_tz": -120
    },
    "gradient": {
     "editing": false,
     "execution_count": 14,
     "id": "e9708cd3-24e2-4a76-bb46-e6a93468238e",
     "kernelId": ""
    },
    "id": "7WU1mdQLDcru"
   },
   "outputs": [],
   "source": [
    "trans_train = transforms.Compose([transforms.ToPILImage(),\n",
    "                                  transforms.Pad(64, padding_mode='reflect'),\n",
    "                                  transforms.RandomHorizontalFlip(), \n",
    "                                  transforms.RandomVerticalFlip(),\n",
    "                                  transforms.RandomRotation(20), \n",
    "                                  transforms.ToTensor(),\n",
    "                                  transforms.Normalize(mean=[0.5, 0.5, 0.5],std=[0.5, 0.5, 0.5])])\n",
    "\n",
    "trans_valid = transforms.Compose([transforms.ToPILImage(),\n",
    "                                  transforms.Pad(64, padding_mode='reflect'),\n",
    "                                  transforms.ToTensor(),\n",
    "                                  transforms.Normalize(mean=[0.5, 0.5, 0.5],std=[0.5, 0.5, 0.5])])\n",
    "\n",
    "dataset_train = MyDataset(df_data=train, transform=trans_train)\n",
    "dataset_valid = MyDataset(df_data=val,transform=trans_valid)\n",
    "\n",
    "loader_train = DataLoader(dataset = dataset_train, batch_size=batch_size, shuffle=True, num_workers=0)\n",
    "loader_valid = DataLoader(dataset = dataset_valid, batch_size=batch_size//2, shuffle=False, num_workers=0)"
   ]
  },
  {
   "cell_type": "code",
   "execution_count": null,
   "metadata": {
    "_uuid": "e15f2ad345704c1fe3ee6012287d22113ef70a7b",
    "executionInfo": {
     "elapsed": 2,
     "status": "ok",
     "timestamp": 1641941189539,
     "user": {
      "displayName": "Maxim Levit",
      "photoUrl": "https://lh3.googleusercontent.com/a-/AOh14Giwgt68QDbWFB9jocXOKnezo4YBZ-MoQCrQmMA=s64",
      "userId": "06991491534825156893"
     },
     "user_tz": -120
    },
    "gradient": {
     "editing": false,
     "execution_count": 15,
     "id": "0b8e9e5e-7c1d-495d-b078-7e036b9e6e83",
     "kernelId": ""
    },
    "id": "JkTh4-QiDcru"
   },
   "outputs": [],
   "source": [
    "class SimpleCNN(nn.Module):\n",
    "    def __init__(self):\n",
    "        # ancestor constructor call\n",
    "        super(SimpleCNN, self).__init__()\n",
    "        self.conv1 = nn.Conv2d(in_channels=3, out_channels=32, kernel_size=3, padding=2)\n",
    "        self.conv2 = nn.Conv2d(in_channels=32, out_channels=64, kernel_size=3, padding=2)\n",
    "        self.conv3 = nn.Conv2d(in_channels=64, out_channels=128, kernel_size=3, padding=2)\n",
    "        self.conv4 = nn.Conv2d(in_channels=128, out_channels=256, kernel_size=3, padding=2)\n",
    "        self.conv5 = nn.Conv2d(in_channels=256, out_channels=512, kernel_size=3, padding=2)\n",
    "        self.bn1 = nn.BatchNorm2d(32)\n",
    "        self.bn2 = nn.BatchNorm2d(64)\n",
    "        self.bn3 = nn.BatchNorm2d(128)\n",
    "        self.bn4 = nn.BatchNorm2d(256)\n",
    "        self.bn5 = nn.BatchNorm2d(512)\n",
    "        self.pool = nn.MaxPool2d(kernel_size=2, stride=2)\n",
    "        self.avg = nn.AvgPool2d(7)\n",
    "        self.fc = nn.Linear(512 * 1 * 1, 2) # !!!\n",
    "        \n",
    "    def forward(self, x):\n",
    "        x = self.pool(F.leaky_relu(self.bn1(self.conv1(x)))) # first convolutional layer then batchnorm, then activation then pooling layer.\n",
    "        x = self.pool(F.leaky_relu(self.bn2(self.conv2(x))))\n",
    "        x = self.pool(F.leaky_relu(self.bn3(self.conv3(x))))\n",
    "        x = self.pool(F.leaky_relu(self.bn4(self.conv4(x))))\n",
    "        x = self.pool(F.leaky_relu(self.bn5(self.conv5(x))))\n",
    "        x = self.avg(x)\n",
    "        #print(x.shape) # lifehack to find out the correct dimension for the Linear Layer\n",
    "        x = x.view(-1, 512 * 1 * 1) # !!!\n",
    "        x = self.fc(x)\n",
    "        return x"
   ]
  },
  {
   "cell_type": "code",
   "execution_count": null,
   "metadata": {
    "_uuid": "0360156820e79f956b33e9fcc10bd3335fc395f5",
    "executionInfo": {
     "elapsed": 237,
     "status": "ok",
     "timestamp": 1641941194402,
     "user": {
      "displayName": "Maxim Levit",
      "photoUrl": "https://lh3.googleusercontent.com/a-/AOh14Giwgt68QDbWFB9jocXOKnezo4YBZ-MoQCrQmMA=s64",
      "userId": "06991491534825156893"
     },
     "user_tz": -120
    },
    "gradient": {
     "editing": false,
     "execution_count": 16,
     "id": "44b7ef95-04b8-46a5-9059-a09d542c1dc0",
     "kernelId": ""
    },
    "id": "t_ncZhmEDcru"
   },
   "outputs": [],
   "source": [
    "model = SimpleCNN().to(device)"
   ]
  },
  {
   "cell_type": "code",
   "execution_count": null,
   "metadata": {
    "_uuid": "9e2051afd6bc198da29d20c77fb2082169a930af",
    "executionInfo": {
     "elapsed": 2,
     "status": "ok",
     "timestamp": 1641941195518,
     "user": {
      "displayName": "Maxim Levit",
      "photoUrl": "https://lh3.googleusercontent.com/a-/AOh14Giwgt68QDbWFB9jocXOKnezo4YBZ-MoQCrQmMA=s64",
      "userId": "06991491534825156893"
     },
     "user_tz": -120
    },
    "gradient": {
     "editing": false,
     "execution_count": 17,
     "id": "7c412628-fb7c-406f-bbd9-2b49b298ab0c",
     "kernelId": ""
    },
    "id": "WQjiI_P7Dcrv"
   },
   "outputs": [],
   "source": [
    "# Loss and optimizer\n",
    "criterion = nn.CrossEntropyLoss()\n",
    "optimizer = torch.optim.Adamax(model.parameters(), lr=learning_rate)"
   ]
  },
  {
   "cell_type": "code",
   "execution_count": null,
   "metadata": {
    "_uuid": "1075be6e0d1c18d34fa1f0b1dd0ff28ffa93a4f9",
    "colab": {
     "base_uri": "https://localhost:8080/"
    },
    "gradient": {
     "editing": false,
     "execution_count": 18,
     "id": "ab235353-19eb-467e-a57b-f1c4759bf7a1",
     "kernelId": ""
    },
    "id": "SRtkSkwsDcrv",
    "outputId": "a2167e04-e0ec-4396-cf06-5890c246e9bd"
   },
   "outputs": [
    {
     "name": "stdout",
     "output_type": "stream",
     "text": [
      "Epoch [1/15], Step [100/1735], Loss: 0.3196,time:51.98941922187805\n",
      "Epoch [1/15], Step [200/1735], Loss: 0.3146,time:101.18283581733704\n",
      "Epoch [1/15], Step [300/1735], Loss: 0.3223,time:150.24122381210327\n",
      "Epoch [1/15], Step [400/1735], Loss: 0.2752,time:199.85076069831848\n",
      "Epoch [1/15], Step [500/1735], Loss: 0.3153,time:249.8501317501068\n",
      "Epoch [1/15], Step [600/1735], Loss: 0.3250,time:299.3554301261902\n",
      "Epoch [1/15], Step [700/1735], Loss: 0.3327,time:348.870400428772\n",
      "Epoch [1/15], Step [800/1735], Loss: 0.4160,time:398.55421710014343\n",
      "Epoch [1/15], Step [900/1735], Loss: 0.3640,time:448.5875663757324\n",
      "Epoch [1/15], Step [1000/1735], Loss: 0.3433,time:498.2936625480652\n",
      "Epoch [1/15], Step [1100/1735], Loss: 0.2784,time:548.0360383987427\n",
      "Epoch [1/15], Step [1200/1735], Loss: 0.2794,time:597.9991376399994\n",
      "Epoch [1/15], Step [1300/1735], Loss: 0.3045,time:648.0178511142731\n",
      "Epoch [1/15], Step [1400/1735], Loss: 0.2917,time:698.4805524349213\n",
      "Epoch [1/15], Step [1500/1735], Loss: 0.2200,time:748.4816768169403\n",
      "Epoch [1/15], Step [1600/1735], Loss: 0.2981,time:798.8976285457611\n",
      "Epoch [1/15], Step [1700/1735], Loss: 0.3981,time:849.4520745277405\n",
      "Epoch [2/15], Step [100/1735], Loss: 0.3069,time:46.3920521736145\n",
      "Epoch [2/15], Step [200/1735], Loss: 0.2829,time:93.2789659500122\n",
      "Epoch [2/15], Step [300/1735], Loss: 0.2956,time:140.58425641059875\n",
      "Epoch [2/15], Step [400/1735], Loss: 0.3235,time:188.81372356414795\n",
      "Epoch [2/15], Step [500/1735], Loss: 0.2520,time:236.90216064453125\n",
      "Epoch [2/15], Step [600/1735], Loss: 0.2671,time:285.4084906578064\n",
      "Epoch [2/15], Step [700/1735], Loss: 0.3882,time:334.1123766899109\n",
      "Epoch [2/15], Step [800/1735], Loss: 0.2020,time:382.96857357025146\n",
      "Epoch [2/15], Step [900/1735], Loss: 0.3823,time:433.22024869918823\n",
      "Epoch [2/15], Step [1000/1735], Loss: 0.1627,time:482.7511260509491\n",
      "Epoch [2/15], Step [1100/1735], Loss: 0.3270,time:531.2942652702332\n",
      "Epoch [2/15], Step [1200/1735], Loss: 0.3755,time:579.4547469615936\n",
      "Epoch [2/15], Step [1300/1735], Loss: 0.3529,time:628.4882154464722\n",
      "Epoch [2/15], Step [1400/1735], Loss: 0.3404,time:677.7537274360657\n",
      "Epoch [2/15], Step [1500/1735], Loss: 0.2789,time:726.4501068592072\n",
      "Epoch [2/15], Step [1600/1735], Loss: 0.2904,time:775.3725712299347\n",
      "Epoch [2/15], Step [1700/1735], Loss: 0.3257,time:823.7442021369934\n",
      "Epoch [3/15], Step [100/1735], Loss: 0.3121,time:46.516033411026\n",
      "Epoch [3/15], Step [200/1735], Loss: 0.3601,time:93.91476583480835\n",
      "Epoch [3/15], Step [300/1735], Loss: 0.4475,time:140.95420718193054\n",
      "Epoch [3/15], Step [400/1735], Loss: 0.3034,time:190.90767407417297\n",
      "Epoch [3/15], Step [500/1735], Loss: 0.2939,time:239.45379543304443\n",
      "Epoch [3/15], Step [600/1735], Loss: 0.3375,time:288.00761318206787\n",
      "Epoch [3/15], Step [700/1735], Loss: 0.2426,time:336.6772155761719\n",
      "Epoch [3/15], Step [800/1735], Loss: 0.2732,time:385.93370294570923\n",
      "Epoch [3/15], Step [900/1735], Loss: 0.2479,time:447.7323594093323\n",
      "Epoch [3/15], Step [1000/1735], Loss: 0.2100,time:496.4579577445984\n",
      "Epoch [3/15], Step [1100/1735], Loss: 0.3610,time:544.9566931724548\n",
      "Epoch [3/15], Step [1200/1735], Loss: 0.3263,time:593.5099530220032\n",
      "Epoch [3/15], Step [1300/1735], Loss: 0.2150,time:642.208878993988\n",
      "Epoch [3/15], Step [1400/1735], Loss: 0.1828,time:690.7886497974396\n",
      "Epoch [3/15], Step [1500/1735], Loss: 0.2071,time:739.4994380474091\n",
      "Epoch [3/15], Step [1600/1735], Loss: 0.2333,time:788.7539324760437\n",
      "Epoch [3/15], Step [1700/1735], Loss: 0.3106,time:838.1353993415833\n",
      "Epoch [4/15], Step [100/1735], Loss: 0.2653,time:46.46373009681702\n",
      "Epoch [4/15], Step [200/1735], Loss: 0.3367,time:94.95478105545044\n",
      "Epoch [4/15], Step [300/1735], Loss: 0.2917,time:142.24412655830383\n",
      "Epoch [4/15], Step [400/1735], Loss: 0.2575,time:189.91798186302185\n",
      "Epoch [4/15], Step [500/1735], Loss: 0.3699,time:239.34402465820312\n",
      "Epoch [4/15], Step [600/1735], Loss: 0.2722,time:288.29745078086853\n",
      "Epoch [4/15], Step [700/1735], Loss: 0.2483,time:336.6628601551056\n",
      "Epoch [4/15], Step [800/1735], Loss: 0.2680,time:385.14926195144653\n",
      "Epoch [4/15], Step [900/1735], Loss: 0.1923,time:434.0936484336853\n",
      "Epoch [4/15], Step [1000/1735], Loss: 0.2678,time:483.677711725235\n",
      "Epoch [4/15], Step [1100/1735], Loss: 0.3087,time:533.3674821853638\n",
      "Epoch [4/15], Step [1200/1735], Loss: 0.3184,time:583.7166194915771\n",
      "Epoch [4/15], Step [1300/1735], Loss: 0.3359,time:633.4521427154541\n",
      "Epoch [4/15], Step [1400/1735], Loss: 0.2524,time:684.1491005420685\n",
      "Epoch [4/15], Step [1500/1735], Loss: 0.1798,time:733.8335382938385\n",
      "Epoch [4/15], Step [1600/1735], Loss: 0.2421,time:783.6016216278076\n",
      "Epoch [4/15], Step [1700/1735], Loss: 0.2474,time:833.2657542228699\n",
      "Epoch [5/15], Step [100/1735], Loss: 0.2459,time:46.45458173751831\n",
      "Epoch [5/15], Step [200/1735], Loss: 0.2303,time:93.60417437553406\n",
      "Epoch [5/15], Step [300/1735], Loss: 0.2797,time:141.37743711471558\n",
      "Epoch [5/15], Step [400/1735], Loss: 0.2777,time:190.59914994239807\n",
      "Epoch [5/15], Step [500/1735], Loss: 0.2458,time:240.04179048538208\n",
      "Epoch [5/15], Step [600/1735], Loss: 0.4072,time:289.3701467514038\n",
      "Epoch [5/15], Step [700/1735], Loss: 0.2583,time:350.72287034988403\n",
      "Epoch [5/15], Step [800/1735], Loss: 0.3157,time:400.25840282440186\n",
      "Epoch [5/15], Step [900/1735], Loss: 0.2302,time:451.0064842700958\n",
      "Epoch [5/15], Step [1000/1735], Loss: 0.2678,time:500.47933888435364\n",
      "Epoch [5/15], Step [1100/1735], Loss: 0.2537,time:549.7336287498474\n",
      "Epoch [5/15], Step [1200/1735], Loss: 0.3177,time:599.9254252910614\n",
      "Epoch [5/15], Step [1300/1735], Loss: 0.3139,time:649.6250207424164\n",
      "Epoch [5/15], Step [1400/1735], Loss: 0.2533,time:698.5484507083893\n",
      "Epoch [5/15], Step [1500/1735], Loss: 0.2530,time:747.3202705383301\n",
      "Epoch [5/15], Step [1600/1735], Loss: 0.2440,time:797.2526307106018\n",
      "Epoch [5/15], Step [1700/1735], Loss: 0.3670,time:846.7617354393005\n",
      "Epoch [6/15], Step [100/1735], Loss: 0.2553,time:46.55470824241638\n",
      "Epoch [6/15], Step [200/1735], Loss: 0.2054,time:93.55505132675171\n",
      "Epoch [6/15], Step [300/1735], Loss: 0.2222,time:140.86644959449768\n",
      "Epoch [6/15], Step [400/1735], Loss: 0.2577,time:189.57462668418884\n",
      "Epoch [6/15], Step [500/1735], Loss: 0.2395,time:238.3373715877533\n",
      "Epoch [6/15], Step [600/1735], Loss: 0.2351,time:287.2115879058838\n",
      "Epoch [6/15], Step [700/1735], Loss: 0.2051,time:336.1061940193176\n",
      "Epoch [6/15], Step [800/1735], Loss: 0.2807,time:384.70591926574707\n",
      "Epoch [6/15], Step [900/1735], Loss: 0.1769,time:432.8339350223541\n",
      "Epoch [6/15], Step [1000/1735], Loss: 0.2251,time:481.92770075798035\n",
      "Epoch [6/15], Step [1100/1735], Loss: 0.3030,time:530.6615462303162\n",
      "Epoch [6/15], Step [1200/1735], Loss: 0.2195,time:579.3404865264893\n",
      "Epoch [6/15], Step [1300/1735], Loss: 0.2990,time:628.1871354579926\n",
      "Epoch [6/15], Step [1400/1735], Loss: 0.2450,time:677.2549130916595\n",
      "Epoch [6/15], Step [1500/1735], Loss: 0.1944,time:726.0846829414368\n",
      "Epoch [6/15], Step [1600/1735], Loss: 0.2617,time:774.8954675197601\n",
      "Epoch [6/15], Step [1700/1735], Loss: 0.2656,time:824.9880435466766\n",
      "Epoch [7/15], Step [100/1735], Loss: 0.2672,time:46.57488751411438\n",
      "Epoch [7/15], Step [200/1735], Loss: 0.2409,time:94.04848575592041\n",
      "Epoch [7/15], Step [300/1735], Loss: 0.1728,time:141.34904527664185\n",
      "Epoch [7/15], Step [400/1735], Loss: 0.2667,time:189.09496593475342\n",
      "Epoch [7/15], Step [500/1735], Loss: 0.3401,time:237.49643230438232\n",
      "Epoch [7/15], Step [600/1735], Loss: 0.2239,time:286.2268633842468\n",
      "Epoch [7/15], Step [700/1735], Loss: 0.3098,time:335.2106251716614\n",
      "Epoch [7/15], Step [800/1735], Loss: 0.2642,time:384.95451068878174\n",
      "Epoch [7/15], Step [900/1735], Loss: 0.2542,time:435.0330092906952\n",
      "Epoch [7/15], Step [1000/1735], Loss: 0.3058,time:483.982784986496\n",
      "Epoch [7/15], Step [1100/1735], Loss: 0.2963,time:533.2827129364014\n",
      "Epoch [7/15], Step [1200/1735], Loss: 0.2005,time:583.2724633216858\n",
      "Epoch [7/15], Step [1300/1735], Loss: 0.2351,time:632.1326711177826\n",
      "Epoch [7/15], Step [1400/1735], Loss: 0.3041,time:681.7927331924438\n",
      "Epoch [7/15], Step [1500/1735], Loss: 0.2995,time:730.5724020004272\n",
      "Epoch [7/15], Step [1600/1735], Loss: 0.2375,time:779.10782122612\n",
      "Epoch [7/15], Step [1700/1735], Loss: 0.3238,time:827.6923966407776\n",
      "Epoch [8/15], Step [100/1735], Loss: 0.2251,time:48.52239441871643\n",
      "Epoch [8/15], Step [200/1735], Loss: 0.2685,time:95.83476495742798\n",
      "Epoch [8/15], Step [300/1735], Loss: 0.2830,time:142.98193097114563\n",
      "Epoch [8/15], Step [400/1735], Loss: 0.1584,time:190.68337845802307\n",
      "Epoch [8/15], Step [500/1735], Loss: 0.2757,time:239.33591198921204\n",
      "Epoch [8/15], Step [600/1735], Loss: 0.1668,time:288.02298069000244\n",
      "Epoch [8/15], Step [700/1735], Loss: 0.2570,time:337.0094430446625\n",
      "Epoch [8/15], Step [800/1735], Loss: 0.2432,time:386.84102392196655\n",
      "Epoch [8/15], Step [900/1735], Loss: 0.2263,time:435.9566824436188\n",
      "Epoch [8/15], Step [1000/1735], Loss: 0.2496,time:485.27869153022766\n",
      "Epoch [8/15], Step [1100/1735], Loss: 0.3130,time:533.3436818122864\n",
      "Epoch [8/15], Step [1200/1735], Loss: 0.2769,time:582.1204693317413\n",
      "Epoch [8/15], Step [1300/1735], Loss: 0.2675,time:630.7685379981995\n",
      "Epoch [8/15], Step [1400/1735], Loss: 0.2497,time:679.0959532260895\n",
      "Epoch [8/15], Step [1500/1735], Loss: 0.2186,time:729.509476184845\n",
      "Epoch [8/15], Step [1600/1735], Loss: 0.2022,time:778.8808686733246\n",
      "Epoch [8/15], Step [1700/1735], Loss: 0.2223,time:827.3161311149597\n",
      "Epoch [9/15], Step [100/1735], Loss: 0.2533,time:46.66318440437317\n",
      "Epoch [9/15], Step [200/1735], Loss: 0.3341,time:93.4892647266388\n",
      "Epoch [9/15], Step [300/1735], Loss: 0.2547,time:141.14158368110657\n",
      "Epoch [9/15], Step [400/1735], Loss: 0.2025,time:189.11458706855774\n",
      "Epoch [9/15], Step [500/1735], Loss: 0.1417,time:238.03755116462708\n",
      "Epoch [9/15], Step [600/1735], Loss: 0.3551,time:287.11381006240845\n",
      "Epoch [9/15], Step [700/1735], Loss: 0.2096,time:335.98266792297363\n",
      "Epoch [9/15], Step [800/1735], Loss: 0.2522,time:384.86002588272095\n",
      "Epoch [9/15], Step [900/1735], Loss: 0.2051,time:433.6541292667389\n",
      "Epoch [9/15], Step [1000/1735], Loss: 0.2635,time:482.6616311073303\n",
      "Epoch [9/15], Step [1100/1735], Loss: 0.2537,time:531.9506511688232\n",
      "Epoch [9/15], Step [1200/1735], Loss: 0.1592,time:581.238778591156\n",
      "Epoch [9/15], Step [1300/1735], Loss: 0.2478,time:634.182407617569\n",
      "Epoch [9/15], Step [1400/1735], Loss: 0.3331,time:683.1053421497345\n",
      "Epoch [9/15], Step [1500/1735], Loss: 0.2530,time:731.9615559577942\n",
      "Epoch [9/15], Step [1600/1735], Loss: 0.2197,time:781.869699716568\n",
      "Epoch [9/15], Step [1700/1735], Loss: 0.3085,time:830.8327965736389\n",
      "Epoch [10/15], Step [100/1735], Loss: 0.2741,time:46.42213773727417\n",
      "Epoch [10/15], Step [200/1735], Loss: 0.1925,time:93.38512945175171\n",
      "Epoch [10/15], Step [300/1735], Loss: 0.2698,time:140.73994302749634\n",
      "Epoch [10/15], Step [400/1735], Loss: 0.1783,time:188.72985529899597\n",
      "Epoch [10/15], Step [500/1735], Loss: 0.2433,time:237.0070984363556\n",
      "Epoch [10/15], Step [600/1735], Loss: 0.2310,time:286.7971680164337\n",
      "Epoch [10/15], Step [700/1735], Loss: 0.3045,time:337.20032238960266\n",
      "Epoch [10/15], Step [800/1735], Loss: 0.2215,time:386.8872354030609\n",
      "Epoch [10/15], Step [900/1735], Loss: 0.2582,time:436.1244206428528\n",
      "Epoch [10/15], Step [1000/1735], Loss: 0.2390,time:485.2879829406738\n",
      "Epoch [10/15], Step [1100/1735], Loss: 0.3265,time:535.3371138572693\n",
      "Epoch [10/15], Step [1200/1735], Loss: 0.2324,time:584.5785677433014\n",
      "Epoch [10/15], Step [1300/1735], Loss: 0.3036,time:634.2336173057556\n",
      "Epoch [10/15], Step [1400/1735], Loss: 0.2218,time:683.0186369419098\n",
      "Epoch [10/15], Step [1500/1735], Loss: 0.2589,time:731.6463534832001\n",
      "Epoch [10/15], Step [1600/1735], Loss: 0.3447,time:780.948340177536\n",
      "Epoch [10/15], Step [1700/1735], Loss: 0.2446,time:830.4249532222748\n",
      "Epoch [11/15], Step [100/1735], Loss: 0.1861,time:46.60300135612488\n",
      "Epoch [11/15], Step [200/1735], Loss: 0.4083,time:93.67412996292114\n",
      "Epoch [11/15], Step [300/1735], Loss: 0.2458,time:140.84983205795288\n",
      "Epoch [11/15], Step [400/1735], Loss: 0.2924,time:188.97986960411072\n",
      "Epoch [11/15], Step [500/1735], Loss: 0.2875,time:237.8666388988495\n",
      "Epoch [11/15], Step [600/1735], Loss: 0.2259,time:287.54331398010254\n",
      "Epoch [11/15], Step [700/1735], Loss: 0.2262,time:337.5453872680664\n",
      "Epoch [11/15], Step [800/1735], Loss: 0.2814,time:386.7370140552521\n",
      "Epoch [11/15], Step [900/1735], Loss: 0.2627,time:435.7236416339874\n",
      "Epoch [11/15], Step [1000/1735], Loss: 0.1278,time:484.42789244651794\n",
      "Epoch [11/15], Step [1100/1735], Loss: 0.2283,time:533.3525259494781\n",
      "Epoch [11/15], Step [1200/1735], Loss: 0.1745,time:582.4378457069397\n",
      "Epoch [11/15], Step [1300/1735], Loss: 0.2325,time:634.0222864151001\n",
      "Epoch [11/15], Step [1400/1735], Loss: 0.1592,time:682.9712686538696\n",
      "Epoch [11/15], Step [1500/1735], Loss: 0.1781,time:731.8269326686859\n",
      "Epoch [11/15], Step [1600/1735], Loss: 0.2045,time:780.8803331851959\n",
      "Epoch [11/15], Step [1700/1735], Loss: 0.2311,time:830.6445252895355\n",
      "Epoch [12/15], Step [100/1735], Loss: 0.1830,time:46.465065002441406\n",
      "Epoch [12/15], Step [200/1735], Loss: 0.2447,time:93.71209812164307\n",
      "Epoch [12/15], Step [300/1735], Loss: 0.2503,time:141.2851688861847\n",
      "Epoch [12/15], Step [400/1735], Loss: 0.2095,time:189.39994359016418\n",
      "Epoch [12/15], Step [500/1735], Loss: 0.2367,time:238.46454882621765\n",
      "Epoch [12/15], Step [600/1735], Loss: 0.1716,time:287.72138237953186\n",
      "Epoch [12/15], Step [700/1735], Loss: 0.2862,time:337.8366355895996\n",
      "Epoch [12/15], Step [800/1735], Loss: 0.2488,time:387.3669924736023\n",
      "Epoch [12/15], Step [900/1735], Loss: 0.1978,time:436.6360213756561\n",
      "Epoch [12/15], Step [1000/1735], Loss: 0.2249,time:486.21934366226196\n",
      "Epoch [12/15], Step [1100/1735], Loss: 0.2326,time:535.4729859828949\n",
      "Epoch [12/15], Step [1200/1735], Loss: 0.3327,time:584.4673838615417\n",
      "Epoch [12/15], Step [1300/1735], Loss: 0.2785,time:634.0939037799835\n",
      "Epoch [12/15], Step [1400/1735], Loss: 0.1654,time:684.1128566265106\n",
      "Epoch [12/15], Step [1500/1735], Loss: 0.1904,time:732.9214329719543\n",
      "Epoch [12/15], Step [1600/1735], Loss: 0.2470,time:781.3499331474304\n",
      "Epoch [12/15], Step [1700/1735], Loss: 0.2332,time:830.1734490394592\n",
      "Epoch [13/15], Step [100/1735], Loss: 0.2767,time:46.612077951431274\n",
      "Epoch [13/15], Step [200/1735], Loss: 0.2037,time:93.656240940094\n",
      "Epoch [13/15], Step [300/1735], Loss: 0.2013,time:141.41307473182678\n",
      "Epoch [13/15], Step [400/1735], Loss: 0.2153,time:189.16286420822144\n",
      "Epoch [13/15], Step [500/1735], Loss: 0.2329,time:237.47949934005737\n",
      "Epoch [13/15], Step [600/1735], Loss: 0.3150,time:286.3457524776459\n",
      "Epoch [13/15], Step [700/1735], Loss: 0.1745,time:336.7713861465454\n",
      "Epoch [13/15], Step [800/1735], Loss: 0.2895,time:387.79663157463074\n",
      "Epoch [13/15], Step [900/1735], Loss: 0.3324,time:440.2927086353302\n",
      "Epoch [13/15], Step [1000/1735], Loss: 0.1623,time:492.7837610244751\n",
      "Epoch [13/15], Step [1100/1735], Loss: 0.1971,time:543.1797578334808\n",
      "Epoch [13/15], Step [1200/1735], Loss: 0.2564,time:592.0163073539734\n",
      "Epoch [13/15], Step [1300/1735], Loss: 0.2364,time:641.1370596885681\n",
      "Epoch [13/15], Step [1400/1735], Loss: 0.2213,time:690.2297923564911\n",
      "Epoch [13/15], Step [1500/1735], Loss: 0.3327,time:739.4969851970673\n",
      "Epoch [13/15], Step [1600/1735], Loss: 0.2762,time:788.6345114707947\n",
      "Epoch [13/15], Step [1700/1735], Loss: 0.2017,time:838.5863540172577\n",
      "Epoch [14/15], Step [100/1735], Loss: 0.2761,time:46.80255627632141\n",
      "Epoch [14/15], Step [200/1735], Loss: 0.2517,time:94.25468420982361\n",
      "Epoch [14/15], Step [300/1735], Loss: 0.1874,time:141.87437796592712\n",
      "Epoch [14/15], Step [400/1735], Loss: 0.2126,time:190.29015040397644\n",
      "Epoch [14/15], Step [500/1735], Loss: 0.2183,time:239.29430508613586\n",
      "Epoch [14/15], Step [600/1735], Loss: 0.2036,time:288.9615533351898\n",
      "Epoch [14/15], Step [700/1735], Loss: 0.2200,time:339.7726078033447\n",
      "Epoch [14/15], Step [800/1735], Loss: 0.2063,time:389.90308594703674\n",
      "Epoch [14/15], Step [900/1735], Loss: 0.2659,time:439.9129376411438\n",
      "Epoch [14/15], Step [1000/1735], Loss: 0.2244,time:489.9453902244568\n",
      "Epoch [14/15], Step [1100/1735], Loss: 0.2405,time:540.117582321167\n",
      "Epoch [14/15], Step [1200/1735], Loss: 0.2080,time:591.6829328536987\n",
      "Epoch [14/15], Step [1300/1735], Loss: 0.2715,time:642.5023090839386\n",
      "Epoch [14/15], Step [1400/1735], Loss: 0.1834,time:692.9454891681671\n",
      "Epoch [14/15], Step [1500/1735], Loss: 0.1680,time:742.7395014762878\n",
      "Epoch [14/15], Step [1600/1735], Loss: 0.2180,time:793.038192987442\n",
      "Epoch [14/15], Step [1700/1735], Loss: 0.2986,time:842.447900056839\n",
      "Epoch [15/15], Step [100/1735], Loss: 0.2993,time:46.77974605560303\n",
      "Epoch [15/15], Step [200/1735], Loss: 0.2595,time:94.47964525222778\n",
      "Epoch [15/15], Step [300/1735], Loss: 0.1958,time:141.9292402267456\n",
      "Epoch [15/15], Step [400/1735], Loss: 0.1992,time:193.1422679424286\n",
      "Epoch [15/15], Step [500/1735], Loss: 0.2417,time:244.26840996742249\n",
      "Epoch [15/15], Step [600/1735], Loss: 0.2625,time:293.83623456954956\n",
      "Epoch [15/15], Step [700/1735], Loss: 0.2593,time:343.3246216773987\n",
      "Epoch [15/15], Step [800/1735], Loss: 0.1515,time:392.7613639831543\n",
      "Epoch [15/15], Step [900/1735], Loss: 0.1849,time:442.48115634918213\n",
      "Epoch [15/15], Step [1000/1735], Loss: 0.1752,time:493.65069818496704\n",
      "Epoch [15/15], Step [1100/1735], Loss: 0.2902,time:543.5661005973816\n",
      "Epoch [15/15], Step [1200/1735], Loss: 0.3703,time:593.4299163818359\n",
      "Epoch [15/15], Step [1300/1735], Loss: 0.2735,time:643.4559643268585\n",
      "Epoch [15/15], Step [1400/1735], Loss: 0.2629,time:693.830087184906\n",
      "Epoch [15/15], Step [1500/1735], Loss: 0.2431,time:744.2501294612885\n",
      "Epoch [15/15], Step [1600/1735], Loss: 0.1790,time:795.3425631523132\n",
      "Epoch [15/15], Step [1700/1735], Loss: 0.3725,time:846.3033018112183\n"
     ]
    }
   ],
   "source": [
    "# Train the model\n",
    "import gc\n",
    "import time\n",
    "total_step = len(loader_train)\n",
    "for epoch in range(num_epochs):\n",
    "    start= time.time()\n",
    "    for i, (images, labels) in enumerate(loader_train):\n",
    "        images = images.to(device)\n",
    "        labels = labels.to(device)\n",
    "        \n",
    "        # Forward pass\n",
    "        outputs = model(images)\n",
    "       # gc.collect()\n",
    "        #torch.cuda.empty_cache()\n",
    "        loss = criterion(outputs, labels)\n",
    "        \n",
    "        \n",
    "        # Backward and optimize\n",
    "        optimizer.zero_grad()\n",
    "        loss.backward()\n",
    "        optimizer.step()\n",
    "       \n",
    "        \n",
    "        if (i+1) % 100 == 0:\n",
    "            stop= time.time()\n",
    "            end=stop-start\n",
    "            print ('Epoch [{}/{}], Step [{}/{}], Loss: {:.4f},time:{}' \n",
    "                   .format(epoch+1, num_epochs, i+1, total_step, loss.item(),end))"
   ]
  },
  {
   "cell_type": "code",
   "execution_count": null,
   "metadata": {
    "gradient": {
     "editing": false,
     "execution_count": 20,
     "id": "d9a33d2b-3bdc-4f96-9e03-8a18414a7a65",
     "kernelId": ""
    },
    "id": "CGFS_WHXDcrv"
   },
   "outputs": [],
   "source": [
    "#plt.plot(history.history['loss'])\n",
    "#plt.title('model loss: Epoch=15 ,Step=1735')\n",
    "#plt.legend(['train'], loc='upper left')\n",
    "#plt.show()"
   ]
  },
  {
   "cell_type": "code",
   "execution_count": null,
   "metadata": {
    "_uuid": "9e5394b140012fb796f43a8fd0b558625a1b073f",
    "gradient": {
     "editing": false,
     "execution_count": 21,
     "id": "b9f03de9-e094-4207-9e8b-ce182538b6e1",
     "kernelId": ""
    },
    "id": "70evm24KDcrw",
    "outputId": "6dcc4fa1-c87e-4115-8ae0-c6753843e73a"
   },
   "outputs": [
    {
     "name": "stdout",
     "output_type": "stream",
     "text": [
      "Test Accuracy of the model on the test images: 90.62066480497252 %\n"
     ]
    }
   ],
   "source": [
    "# Test the model\n",
    "model.eval()  # eval mode (batchnorm uses moving mean/variance instead of mini-batch mean/variance)\n",
    "confusion_matrix = torch.zeros(2, 2)\n",
    "with torch.no_grad():\n",
    "    correct = 0\n",
    "    total = 0\n",
    "    for images, labels in loader_valid:\n",
    "        images = images.to(device)\n",
    "        labels = labels.to(device)\n",
    "        outputs = model(images)\n",
    "        _, predicted = torch.max(outputs.data, 1)\n",
    "        total += labels.size(0)\n",
    "        correct += (predicted == labels).sum().item()\n",
    "        for t, p in zip(labels.view(-1), predicted.view(-1)):\n",
    "                confusion_matrix[t.long(), p.long()] += 1\n",
    "                 \n",
    "    print('Test Accuracy of the model on the test images: {} %'.format(100 * correct / total))\n",
    "\n",
    "# Save the model checkpoint\n",
    "torch.save(model.state_dict(), 'model.ckpt')"
   ]
  },
  {
   "cell_type": "code",
   "execution_count": null,
   "metadata": {
    "gradient": {
     "editing": false,
     "execution_count": 22,
     "id": "deff7749-9860-4d28-8083-8d8f36757d15",
     "kernelId": ""
    },
    "id": "ZEeqWX4yDcrw",
    "outputId": "c36bb1ff-e7cc-450a-a171-e12bd2b609f2"
   },
   "outputs": [
    {
     "name": "stdout",
     "output_type": "stream",
     "text": [
      "tensor([[37553.,  2195.],\n",
      "        [ 3011., 12746.]])\n"
     ]
    }
   ],
   "source": [
    "print(confusion_matrix)"
   ]
  },
  {
   "cell_type": "code",
   "execution_count": null,
   "metadata": {
    "gradient": {
     "id": "3fb3babf-4e56-417f-8316-fd2bf372ca3c",
     "kernelId": ""
    }
   },
   "outputs": [],
   "source": []
  }
 ],
 "metadata": {
  "accelerator": "GPU",
  "colab": {
   "name": "new_breast_histopathology.ipynb",
   "provenance": []
  },
  "kernelspec": {
   "display_name": "Python 3 (ipykernel)",
   "language": "python",
   "name": "python3"
  },
  "language_info": {
   "codemirror_mode": {
    "name": "ipython",
    "version": 3
   },
   "file_extension": ".py",
   "mimetype": "text/x-python",
   "name": "python",
   "nbconvert_exporter": "python",
   "pygments_lexer": "ipython3",
   "version": "3.8.12"
  }
 },
 "nbformat": 4,
 "nbformat_minor": 4
}
