{
 "cells": [
  {
   "cell_type": "code",
   "execution_count": 1,
   "metadata": {
    "_uuid": "915e2efe0713031e10cffdb59f7d917b1130c4f8",
    "gradient": {
     "editing": false,
     "id": "04cfb076-b20e-4222-bf2a-80f4cdbffa3e",
     "kernelId": "bd22c9dc-26df-4e2c-b38a-6fa14c912e90"
    },
    "id": "Ym90xfS2Dcri"
   },
   "outputs": [],
   "source": [
    "# Code extensively uses the kernel https://www.kaggle.com/bonhart/pytorch-cnn-from-scratch!\n",
    "\n",
    "# Thank you https://www.kaggle.com/bonhart"
   ]
  },
  {
   "cell_type": "code",
   "execution_count": 2,
   "metadata": {
    "_cell_guid": "b1076dfc-b9ad-4769-8c92-a6c4dae69d19",
    "_uuid": "8f2839f25d086af736a60e9eeb907d3b93b6e0e5",
    "executionInfo": {
     "elapsed": 7865,
     "status": "ok",
     "timestamp": 1641928634426,
     "user": {
      "displayName": "Maxim Levit",
      "photoUrl": "https://lh3.googleusercontent.com/a-/AOh14Giwgt68QDbWFB9jocXOKnezo4YBZ-MoQCrQmMA=s64",
      "userId": "06991491534825156893"
     },
     "user_tz": -120
    },
    "gradient": {
     "editing": false,
     "execution_count": 1,
     "id": "01115464-3ba0-46ab-8b21-c8e79780e6fb",
     "kernelId": "bd22c9dc-26df-4e2c-b38a-6fa14c912e90"
    },
    "id": "_zz6giE9Dcrm"
   },
   "outputs": [
    {
     "name": "stdout",
     "output_type": "stream",
     "text": [
      "Collecting package metadata (current_repodata.json): done\n",
      "Solving environment: done\n",
      "\n",
      "## Package Plan ##\n",
      "\n",
      "  environment location: /opt/conda\n",
      "\n",
      "  added / updated specs:\n",
      "    - pandas\n",
      "\n",
      "\n",
      "The following packages will be downloaded:\n",
      "\n",
      "    package                    |            build\n",
      "    ---------------------------|-----------------\n",
      "    ca-certificates-2021.10.8  |       ha878542_0         139 KB  conda-forge\n",
      "    certifi-2021.10.8          |   py38h578d9bd_1         145 KB  conda-forge\n",
      "    conda-4.11.0               |   py38h578d9bd_0        16.9 MB  conda-forge\n",
      "    pandas-1.3.5               |   py38h43a58ef_0        13.0 MB  conda-forge\n",
      "    python-dateutil-2.8.2      |     pyhd8ed1ab_0         240 KB  conda-forge\n",
      "    ------------------------------------------------------------\n",
      "                                           Total:        30.4 MB\n",
      "\n",
      "The following NEW packages will be INSTALLED:\n",
      "\n",
      "  pandas             conda-forge/linux-64::pandas-1.3.5-py38h43a58ef_0\n",
      "  python-dateutil    conda-forge/noarch::python-dateutil-2.8.2-pyhd8ed1ab_0\n",
      "\n",
      "The following packages will be UPDATED:\n",
      "\n",
      "  ca-certificates                      2021.5.30-ha878542_0 --> 2021.10.8-ha878542_0\n",
      "  certifi                          2021.5.30-py38h578d9bd_0 --> 2021.10.8-py38h578d9bd_1\n",
      "  conda                               4.10.3-py38h578d9bd_2 --> 4.11.0-py38h578d9bd_0\n",
      "\n",
      "\n",
      "\n",
      "Downloading and Extracting Packages\n",
      "conda-4.11.0         | 16.9 MB   | ##################################### | 100% \n",
      "ca-certificates-2021 | 139 KB    | ##################################### | 100% \n",
      "certifi-2021.10.8    | 145 KB    | ##################################### | 100% \n",
      "python-dateutil-2.8. | 240 KB    | ##################################### | 100% \n",
      "pandas-1.3.5         | 13.0 MB   | ##################################### | 100% \n",
      "Preparing transaction: done\n",
      "Verifying transaction: done\n",
      "Executing transaction: done\n",
      "Collecting package metadata (current_repodata.json): done\n",
      "Solving environment: done\n",
      "\n",
      "## Package Plan ##\n",
      "\n",
      "  environment location: /opt/conda\n",
      "\n",
      "  added / updated specs:\n",
      "    - seaborn\n",
      "\n",
      "\n",
      "The following packages will be downloaded:\n",
      "\n",
      "    package                    |            build\n",
      "    ---------------------------|-----------------\n",
      "    brotli-1.0.9               |       h7f98852_6          18 KB  conda-forge\n",
      "    brotli-bin-1.0.9           |       h7f98852_6          19 KB  conda-forge\n",
      "    cycler-0.11.0              |     pyhd8ed1ab_0          10 KB  conda-forge\n",
      "    fonttools-4.28.5           |   py38h497a2fe_0         1.6 MB  conda-forge\n",
      "    freetype-2.10.4            |       h0708190_1         890 KB  conda-forge\n",
      "    jbig-2.1                   |    h7f98852_2003          43 KB  conda-forge\n",
      "    jpeg-9d                    |       h36c2ea0_0         264 KB  conda-forge\n",
      "    kiwisolver-1.3.2           |   py38h1fd1430_1          80 KB  conda-forge\n",
      "    lcms2-2.12                 |       hddcbb42_0         443 KB  conda-forge\n",
      "    lerc-2.2.1                 |       h9c3ff4c_0         213 KB  conda-forge\n",
      "    libbrotlicommon-1.0.9      |       h7f98852_6          65 KB  conda-forge\n",
      "    libbrotlidec-1.0.9         |       h7f98852_6          33 KB  conda-forge\n",
      "    libbrotlienc-1.0.9         |       h7f98852_6         286 KB  conda-forge\n",
      "    libdeflate-1.7             |       h7f98852_5          67 KB  conda-forge\n",
      "    libpng-1.6.37              |       h21135ba_2         306 KB  conda-forge\n",
      "    libtiff-4.3.0              |       hf544144_1         668 KB  conda-forge\n",
      "    libwebp-base-1.2.1         |       h7f98852_0         845 KB  conda-forge\n",
      "    matplotlib-base-3.5.1      |   py38hf4fb855_0         7.4 MB  conda-forge\n",
      "    munkres-1.1.4              |     pyh9f0ad1d_0          12 KB  conda-forge\n",
      "    olefile-0.46               |     pyh9f0ad1d_1          32 KB  conda-forge\n",
      "    patsy-0.5.2                |     pyhd8ed1ab_0         188 KB  conda-forge\n",
      "    pillow-7.2.0               |   py38h9776b28_2         671 KB  conda-forge\n",
      "    seaborn-0.11.2             |       hd8ed1ab_0           4 KB  conda-forge\n",
      "    seaborn-base-0.11.2        |     pyhd8ed1ab_0         223 KB  conda-forge\n",
      "    statsmodels-0.13.1         |   py38h6c62de6_0        11.5 MB  conda-forge\n",
      "    unicodedata2-14.0.0        |   py38h497a2fe_0         504 KB  conda-forge\n",
      "    ------------------------------------------------------------\n",
      "                                           Total:        26.2 MB\n",
      "\n",
      "The following NEW packages will be INSTALLED:\n",
      "\n",
      "  brotli             conda-forge/linux-64::brotli-1.0.9-h7f98852_6\n",
      "  brotli-bin         conda-forge/linux-64::brotli-bin-1.0.9-h7f98852_6\n",
      "  cycler             conda-forge/noarch::cycler-0.11.0-pyhd8ed1ab_0\n",
      "  fonttools          conda-forge/linux-64::fonttools-4.28.5-py38h497a2fe_0\n",
      "  freetype           conda-forge/linux-64::freetype-2.10.4-h0708190_1\n",
      "  jbig               conda-forge/linux-64::jbig-2.1-h7f98852_2003\n",
      "  jpeg               conda-forge/linux-64::jpeg-9d-h36c2ea0_0\n",
      "  kiwisolver         conda-forge/linux-64::kiwisolver-1.3.2-py38h1fd1430_1\n",
      "  lcms2              conda-forge/linux-64::lcms2-2.12-hddcbb42_0\n",
      "  lerc               conda-forge/linux-64::lerc-2.2.1-h9c3ff4c_0\n",
      "  libbrotlicommon    conda-forge/linux-64::libbrotlicommon-1.0.9-h7f98852_6\n",
      "  libbrotlidec       conda-forge/linux-64::libbrotlidec-1.0.9-h7f98852_6\n",
      "  libbrotlienc       conda-forge/linux-64::libbrotlienc-1.0.9-h7f98852_6\n",
      "  libdeflate         conda-forge/linux-64::libdeflate-1.7-h7f98852_5\n",
      "  libpng             conda-forge/linux-64::libpng-1.6.37-h21135ba_2\n",
      "  libtiff            conda-forge/linux-64::libtiff-4.3.0-hf544144_1\n",
      "  libwebp-base       conda-forge/linux-64::libwebp-base-1.2.1-h7f98852_0\n",
      "  matplotlib-base    conda-forge/linux-64::matplotlib-base-3.5.1-py38hf4fb855_0\n",
      "  munkres            conda-forge/noarch::munkres-1.1.4-pyh9f0ad1d_0\n",
      "  olefile            conda-forge/noarch::olefile-0.46-pyh9f0ad1d_1\n",
      "  patsy              conda-forge/noarch::patsy-0.5.2-pyhd8ed1ab_0\n",
      "  pillow             conda-forge/linux-64::pillow-7.2.0-py38h9776b28_2\n",
      "  seaborn            conda-forge/noarch::seaborn-0.11.2-hd8ed1ab_0\n",
      "  seaborn-base       conda-forge/noarch::seaborn-base-0.11.2-pyhd8ed1ab_0\n",
      "  statsmodels        conda-forge/linux-64::statsmodels-0.13.1-py38h6c62de6_0\n",
      "  unicodedata2       conda-forge/linux-64::unicodedata2-14.0.0-py38h497a2fe_0\n",
      "\n",
      "\n",
      "\n",
      "Downloading and Extracting Packages\n",
      "jbig-2.1             | 43 KB     | ##################################### | 100% \n",
      "patsy-0.5.2          | 188 KB    | ##################################### | 100% \n",
      "freetype-2.10.4      | 890 KB    | ##################################### | 100% \n",
      "statsmodels-0.13.1   | 11.5 MB   | ##################################### | 100% \n",
      "matplotlib-base-3.5. | 7.4 MB    | ##################################### | 100% \n",
      "brotli-bin-1.0.9     | 19 KB     | ##################################### | 100% \n",
      "libdeflate-1.7       | 67 KB     | ##################################### | 100% \n",
      "libwebp-base-1.2.1   | 845 KB    | ##################################### | 100% \n",
      "seaborn-base-0.11.2  | 223 KB    | ##################################### | 100% \n",
      "libbrotlicommon-1.0. | 65 KB     | ##################################### | 100% \n",
      "lerc-2.2.1           | 213 KB    | ##################################### | 100% \n",
      "kiwisolver-1.3.2     | 80 KB     | ##################################### | 100% \n",
      "pillow-7.2.0         | 671 KB    | ##################################### | 100% \n",
      "libpng-1.6.37        | 306 KB    | ##################################### | 100% \n",
      "libtiff-4.3.0        | 668 KB    | ##################################### | 100% \n",
      "libbrotlidec-1.0.9   | 33 KB     | ##################################### | 100% \n",
      "olefile-0.46         | 32 KB     | ##################################### | 100% \n",
      "munkres-1.1.4        | 12 KB     | ##################################### | 100% \n",
      "seaborn-0.11.2       | 4 KB      | ##################################### | 100% \n",
      "jpeg-9d              | 264 KB    | ##################################### | 100% \n",
      "brotli-1.0.9         | 18 KB     | ##################################### | 100% \n",
      "libbrotlienc-1.0.9   | 286 KB    | ##################################### | 100% \n",
      "cycler-0.11.0        | 10 KB     | ##################################### | 100% \n",
      "lcms2-2.12           | 443 KB    | ##################################### | 100% \n",
      "fonttools-4.28.5     | 1.6 MB    | ##################################### | 100% \n",
      "unicodedata2-14.0.0  | 504 KB    | ##################################### | 100% \n",
      "Preparing transaction: done\n",
      "Verifying transaction: done\n",
      "Executing transaction: done\n"
     ]
    }
   ],
   "source": [
    "# Libraries\n",
    "import os\n",
    "import numpy as np\n",
    "!conda install --yes pandas \n",
    "import pandas as pd\n",
    "\n",
    "import cv2\n",
    "!conda install --yes seaborn \n",
    "import seaborn as sns\n",
    "\n",
    "import matplotlib.pyplot as plt\n",
    "%matplotlib inline\n",
    "\n",
    "from sklearn.model_selection import train_test_split\n",
    "from sklearn.metrics import classification_report\n",
    "from sklearn.metrics import confusion_matrix\n",
    "\n",
    "import torch \n",
    "import torch.nn as nn\n",
    "import torch.nn.functional as F\n",
    "import torchvision\n",
    "import torchvision.transforms as transforms\n",
    "from torch.utils.data import TensorDataset, DataLoader, Dataset"
   ]
  },
  {
   "cell_type": "code",
   "execution_count": 3,
   "metadata": {
    "_cell_guid": "79c7e3d0-c299-4dcb-8224-4455121ee9b0",
    "_uuid": "d629ff2d2480ee46fbb7e2d37f6b5fab8052498a",
    "colab": {
     "base_uri": "https://localhost:8080/"
    },
    "executionInfo": {
     "elapsed": 1550643,
     "status": "ok",
     "timestamp": 1641930353443,
     "user": {
      "displayName": "Maxim Levit",
      "photoUrl": "https://lh3.googleusercontent.com/a-/AOh14Giwgt68QDbWFB9jocXOKnezo4YBZ-MoQCrQmMA=s64",
      "userId": "06991491534825156893"
     },
     "user_tz": -120
    },
    "gradient": {
     "editing": false,
     "execution_count": 2,
     "id": "5757e8f6-1ab5-4504-81f4-43fcfe4bb422",
     "kernelId": "bd22c9dc-26df-4e2c-b38a-6fa14c912e90"
    },
    "id": "UNZPrEbxDcrn",
    "outputId": "60465ffe-9618-4be8-e3a0-65ac43e4ec27"
   },
   "outputs": [
    {
     "data": {
      "text/plain": [
       "277524"
      ]
     },
     "execution_count": 3,
     "metadata": {},
     "output_type": "execute_result"
    }
   ],
   "source": [
    "from glob import glob\n",
    "imagePatches = glob('IDC_regular_ps50_idx5/IDC_regular_ps50_idx5/**/*.png', recursive=True)\n",
    "len(imagePatches)"
   ]
  },
  {
   "cell_type": "code",
   "execution_count": 4,
   "metadata": {
    "_uuid": "e8c6c579d1545b2de82440a0f5458c6479e520a9",
    "colab": {
     "base_uri": "https://localhost:8080/",
     "height": 53
    },
    "executionInfo": {
     "elapsed": 252,
     "status": "ok",
     "timestamp": 1641930432487,
     "user": {
      "displayName": "Maxim Levit",
      "photoUrl": "https://lh3.googleusercontent.com/a-/AOh14Giwgt68QDbWFB9jocXOKnezo4YBZ-MoQCrQmMA=s64",
      "userId": "06991491534825156893"
     },
     "user_tz": -120
    },
    "gradient": {
     "editing": false,
     "execution_count": 3,
     "id": "aa0aa8f3-a81e-440b-a665-1438ee9dc10d",
     "kernelId": "bd22c9dc-26df-4e2c-b38a-6fa14c912e90"
    },
    "id": "flrn9qftDcro",
    "outputId": "c0c9ec58-abb7-4db5-bf13-9acd68336fd8"
   },
   "outputs": [
    {
     "data": {
      "text/plain": [
       "'IDC_regular_ps50_idx5/IDC_regular_ps50_idx5/12910/1/12910_idx5_x651_y201_class1.png'"
      ]
     },
     "execution_count": 4,
     "metadata": {},
     "output_type": "execute_result"
    }
   ],
   "source": [
    "imagePatches[0]"
   ]
  },
  {
   "cell_type": "code",
   "execution_count": 5,
   "metadata": {
    "_uuid": "897952d56ed60f3acf6a8f26ca1cbfb11e36e6cd",
    "executionInfo": {
     "elapsed": 2,
     "status": "ok",
     "timestamp": 1641930436410,
     "user": {
      "displayName": "Maxim Levit",
      "photoUrl": "https://lh3.googleusercontent.com/a-/AOh14Giwgt68QDbWFB9jocXOKnezo4YBZ-MoQCrQmMA=s64",
      "userId": "06991491534825156893"
     },
     "user_tz": -120
    },
    "gradient": {
     "editing": false,
     "execution_count": 4,
     "id": "b3947e06-2409-4d7a-aeac-5fe15f1741bd",
     "kernelId": "bd22c9dc-26df-4e2c-b38a-6fa14c912e90"
    },
    "id": "D9YAuyoGDcrp"
   },
   "outputs": [],
   "source": [
    "import fnmatch\n",
    "patternZero = '*class0.png'\n",
    "patternOne = '*class1.png'\n",
    "classZero = fnmatch.filter(imagePatches, patternZero)\n",
    "classOne = fnmatch.filter(imagePatches, patternOne)"
   ]
  },
  {
   "cell_type": "code",
   "execution_count": 6,
   "metadata": {
    "colab": {
     "base_uri": "https://localhost:8080/"
    },
    "executionInfo": {
     "elapsed": 4,
     "status": "ok",
     "timestamp": 1641930520424,
     "user": {
      "displayName": "Maxim Levit",
      "photoUrl": "https://lh3.googleusercontent.com/a-/AOh14Giwgt68QDbWFB9jocXOKnezo4YBZ-MoQCrQmMA=s64",
      "userId": "06991491534825156893"
     },
     "user_tz": -120
    },
    "gradient": {
     "editing": false,
     "execution_count": 5,
     "id": "0051da7f-5f55-4583-aeaa-360af93af760",
     "kernelId": "bd22c9dc-26df-4e2c-b38a-6fa14c912e90"
    },
    "id": "uonV9ld5r2YQ",
    "outputId": "c8d718a5-fa33-4d55-bded-594c8625f8ca"
   },
   "outputs": [
    {
     "data": {
      "text/plain": [
       "True"
      ]
     },
     "execution_count": 6,
     "metadata": {},
     "output_type": "execute_result"
    }
   ],
   "source": [
    "torch.cuda.is_available()"
   ]
  },
  {
   "cell_type": "code",
   "execution_count": 7,
   "metadata": {
    "_uuid": "106e488540fccc30076aa08381c3ba0236d07cef",
    "executionInfo": {
     "elapsed": 730821,
     "status": "ok",
     "timestamp": 1641931256521,
     "user": {
      "displayName": "Maxim Levit",
      "photoUrl": "https://lh3.googleusercontent.com/a-/AOh14Giwgt68QDbWFB9jocXOKnezo4YBZ-MoQCrQmMA=s64",
      "userId": "06991491534825156893"
     },
     "user_tz": -120
    },
    "gradient": {
     "editing": false,
     "execution_count": 7,
     "id": "42d53f12-7744-4d77-a5de-6363d60ffc6a",
     "kernelId": "bd22c9dc-26df-4e2c-b38a-6fa14c912e90"
    },
    "id": "C3NEklHnDcrp"
   },
   "outputs": [
    {
     "data": {
      "text/html": [
       "<div>\n",
       "<style scoped>\n",
       "    .dataframe tbody tr th:only-of-type {\n",
       "        vertical-align: middle;\n",
       "    }\n",
       "\n",
       "    .dataframe tbody tr th {\n",
       "        vertical-align: top;\n",
       "    }\n",
       "\n",
       "    .dataframe thead th {\n",
       "        text-align: right;\n",
       "    }\n",
       "</style>\n",
       "<table border=\"1\" class=\"dataframe\">\n",
       "  <thead>\n",
       "    <tr style=\"text-align: right;\">\n",
       "      <th></th>\n",
       "      <th>images</th>\n",
       "      <th>labels</th>\n",
       "    </tr>\n",
       "  </thead>\n",
       "  <tbody>\n",
       "    <tr>\n",
       "      <th>0</th>\n",
       "      <td>IDC_regular_ps50_idx5/IDC_regular_ps50_idx5/12...</td>\n",
       "      <td>1</td>\n",
       "    </tr>\n",
       "    <tr>\n",
       "      <th>1</th>\n",
       "      <td>IDC_regular_ps50_idx5/IDC_regular_ps50_idx5/12...</td>\n",
       "      <td>1</td>\n",
       "    </tr>\n",
       "    <tr>\n",
       "      <th>2</th>\n",
       "      <td>IDC_regular_ps50_idx5/IDC_regular_ps50_idx5/12...</td>\n",
       "      <td>1</td>\n",
       "    </tr>\n",
       "    <tr>\n",
       "      <th>3</th>\n",
       "      <td>IDC_regular_ps50_idx5/IDC_regular_ps50_idx5/12...</td>\n",
       "      <td>1</td>\n",
       "    </tr>\n",
       "    <tr>\n",
       "      <th>4</th>\n",
       "      <td>IDC_regular_ps50_idx5/IDC_regular_ps50_idx5/12...</td>\n",
       "      <td>1</td>\n",
       "    </tr>\n",
       "  </tbody>\n",
       "</table>\n",
       "</div>"
      ],
      "text/plain": [
       "                                              images  labels\n",
       "0  IDC_regular_ps50_idx5/IDC_regular_ps50_idx5/12...       1\n",
       "1  IDC_regular_ps50_idx5/IDC_regular_ps50_idx5/12...       1\n",
       "2  IDC_regular_ps50_idx5/IDC_regular_ps50_idx5/12...       1\n",
       "3  IDC_regular_ps50_idx5/IDC_regular_ps50_idx5/12...       1\n",
       "4  IDC_regular_ps50_idx5/IDC_regular_ps50_idx5/12...       1"
      ]
     },
     "execution_count": 7,
     "metadata": {},
     "output_type": "execute_result"
    }
   ],
   "source": [
    "\n",
    "z=[]\n",
    "x=[]\n",
    "X=[]\n",
    "y=[]\n",
    "Y=[]\n",
    "ID=[]\n",
    "cl=[]\n",
    "labels=[]\n",
    "Num_Folder=[]\n",
    "matrix=[] #define empty matrix\n",
    "i=0\n",
    "for img in imagePatches:\n",
    "    \n",
    "    imagePatches1=imagePatches[i].split(\"/\")\n",
    "    #print(imagePatches1)\n",
    "    imagePatches2=imagePatches1[4].split(\"_\")\n",
    "    #print(imagePatches2)\n",
    "    x=imagePatches2[2].split(\"x\")\n",
    "    x=x[1]\n",
    "    #print(x)\n",
    "    y=imagePatches2[3].split(\"y\")\n",
    "    y=y[1]\n",
    "    #print(y)\n",
    "    labels=imagePatches2[4].split(\".png\")\n",
    "    cl=labels[0]\n",
    "   \n",
    "    if cl=='class0':\n",
    "        cl=0\n",
    "    elif cl=='class1':\n",
    "         cl=1\n",
    "        \n",
    "    ID=imagePatches2[1]\n",
    "    Num_Folder=imagePatches2[0]\n",
    "    images=imagePatches[i]\n",
    "    #X=[Num_Folder,ID,x,y,images,cl]\n",
    "    X=[images,cl]\n",
    "     \n",
    "    matrix.append(X) #add fully defined column into the row\n",
    "    #z = []\n",
    "    #if img in classZero:\n",
    "        #z.append(0)\n",
    "    #elif img in classOne:\n",
    "       # z.append(1)\n",
    "    i=i+1\n",
    "#column_names=[\"Num_Folder\",\"ID\",\"x\",\"y\",\"images\",\"labels\"]\n",
    "column_names=[\"images\",\"labels\"]\n",
    "images_df = pd.DataFrame(matrix,columns=column_names)\n",
    "images_df.head()\n",
    "#images_df.to_csv(r'dataset.csv', index = False)\n",
    "\n"
   ]
  },
  {
   "cell_type": "code",
   "execution_count": 8,
   "metadata": {
    "_uuid": "bf791fae50824823380aa2c3cab7333880109853",
    "colab": {
     "base_uri": "https://localhost:8080/"
    },
    "executionInfo": {
     "elapsed": 321,
     "status": "ok",
     "timestamp": 1641931502918,
     "user": {
      "displayName": "Maxim Levit",
      "photoUrl": "https://lh3.googleusercontent.com/a-/AOh14Giwgt68QDbWFB9jocXOKnezo4YBZ-MoQCrQmMA=s64",
      "userId": "06991491534825156893"
     },
     "user_tz": -120
    },
    "gradient": {
     "editing": false,
     "execution_count": 8,
     "id": "4e390707-997b-44fd-97a7-970046cb4031",
     "kernelId": "bd22c9dc-26df-4e2c-b38a-6fa14c912e90"
    },
    "id": "cTlAuHeoDcrs",
    "outputId": "e517586d-f3be-4d71-8aa1-063eb30fd1cd"
   },
   "outputs": [
    {
     "data": {
      "text/plain": [
       "labels\n",
       "0    198738\n",
       "1     78786\n",
       "Name: labels, dtype: int64"
      ]
     },
     "execution_count": 8,
     "metadata": {},
     "output_type": "execute_result"
    }
   ],
   "source": [
    "images_df.groupby(['labels'])['labels'].count()"
   ]
  },
  {
   "cell_type": "code",
   "execution_count": 9,
   "metadata": {
    "_uuid": "5b2bfe3dbeec54a5001834ea96ec0e24085f4cbf",
    "colab": {
     "base_uri": "https://localhost:8080/"
    },
    "executionInfo": {
     "elapsed": 2,
     "status": "ok",
     "timestamp": 1641931505768,
     "user": {
      "displayName": "Maxim Levit",
      "photoUrl": "https://lh3.googleusercontent.com/a-/AOh14Giwgt68QDbWFB9jocXOKnezo4YBZ-MoQCrQmMA=s64",
      "userId": "06991491534825156893"
     },
     "user_tz": -120
    },
    "gradient": {
     "editing": false,
     "execution_count": 9,
     "id": "d13cc3a6-a1b8-47bc-9b6e-8644f4094451",
     "kernelId": "bd22c9dc-26df-4e2c-b38a-6fa14c912e90"
    },
    "id": "cTbNNWPZDcrs",
    "outputId": "36c70da7-05eb-4119-faa3-c63829b39864"
   },
   "outputs": [
    {
     "data": {
      "text/plain": [
       "(222019, 55505)"
      ]
     },
     "execution_count": 9,
     "metadata": {},
     "output_type": "execute_result"
    }
   ],
   "source": [
    "#Splitting data into train and val\n",
    "train, val = train_test_split(images_df, stratify=images_df.labels, test_size=0.2)\n",
    "len(train), len(val)"
   ]
  },
  {
   "cell_type": "code",
   "execution_count": 10,
   "metadata": {
    "_uuid": "c7d4df9265cf87377ec865636ae31567e05a33cb",
    "executionInfo": {
     "elapsed": 2,
     "status": "ok",
     "timestamp": 1641931509398,
     "user": {
      "displayName": "Maxim Levit",
      "photoUrl": "https://lh3.googleusercontent.com/a-/AOh14Giwgt68QDbWFB9jocXOKnezo4YBZ-MoQCrQmMA=s64",
      "userId": "06991491534825156893"
     },
     "user_tz": -120
    },
    "gradient": {
     "editing": false,
     "execution_count": 10,
     "id": "f9e4ea62-10a6-4c45-bfd0-20c1425d9893",
     "kernelId": "bd22c9dc-26df-4e2c-b38a-6fa14c912e90"
    },
    "id": "G17PytGJDcrt"
   },
   "outputs": [],
   "source": [
    "class MyDataset(Dataset):\n",
    "    def __init__(self, df_data,transform=None):\n",
    "        super().__init__()\n",
    "        self.df = df_data.values\n",
    "        \n",
    "        self.transform = transform\n",
    "\n",
    "    def __len__(self):\n",
    "        return len(self.df)\n",
    "    \n",
    "    def __getitem__(self, index):\n",
    "        img_path,label = self.df[index]\n",
    "        \n",
    "        image = cv2.imread(img_path)\n",
    "        image = cv2.resize(image, (50,50))\n",
    "        if self.transform is not None:\n",
    "            image = self.transform(image)\n",
    "        return image, label"
   ]
  },
  {
   "cell_type": "code",
   "execution_count": 11,
   "metadata": {
    "_uuid": "9517232a2dccf9405ec8da24a9884342a513ffff",
    "colab": {
     "base_uri": "https://localhost:8080/",
     "height": 35
    },
    "executionInfo": {
     "elapsed": 255,
     "status": "ok",
     "timestamp": 1641941184281,
     "user": {
      "displayName": "Maxim Levit",
      "photoUrl": "https://lh3.googleusercontent.com/a-/AOh14Giwgt68QDbWFB9jocXOKnezo4YBZ-MoQCrQmMA=s64",
      "userId": "06991491534825156893"
     },
     "user_tz": -120
    },
    "gradient": {
     "editing": false,
     "execution_count": 11,
     "id": "e396dc3a-5e87-49e9-ad70-b71379ee26ee",
     "kernelId": "bd22c9dc-26df-4e2c-b38a-6fa14c912e90"
    },
    "id": "NR4Ysc8lDcrt",
    "outputId": "dd60cf74-28ee-4919-e6c9-2c5be7e8461a"
   },
   "outputs": [
    {
     "data": {
      "text/plain": [
       "'Quadro M4000'"
      ]
     },
     "execution_count": 11,
     "metadata": {},
     "output_type": "execute_result"
    }
   ],
   "source": [
    "## Parameters for model\n",
    "\n",
    "# Hyper parameters\n",
    "num_epochs = 15\n",
    "num_classes = 2\n",
    "batch_size = 128\n",
    "learning_rate = 0.0002\n",
    "\n",
    "# Device configuration\n",
    "device = torch.device(\"cuda:0\" if torch.cuda.is_available() else \"cpu\")\n",
    "torch.cuda.get_device_name(0)"
   ]
  },
  {
   "cell_type": "code",
   "execution_count": 12,
   "metadata": {
    "_uuid": "50afc41fe1b9c6bdf12feb6315588f667f174854",
    "executionInfo": {
     "elapsed": 1,
     "status": "ok",
     "timestamp": 1641941185721,
     "user": {
      "displayName": "Maxim Levit",
      "photoUrl": "https://lh3.googleusercontent.com/a-/AOh14Giwgt68QDbWFB9jocXOKnezo4YBZ-MoQCrQmMA=s64",
      "userId": "06991491534825156893"
     },
     "user_tz": -120
    },
    "gradient": {
     "editing": false,
     "execution_count": 12,
     "id": "e9708cd3-24e2-4a76-bb46-e6a93468238e",
     "kernelId": "bd22c9dc-26df-4e2c-b38a-6fa14c912e90"
    },
    "id": "7WU1mdQLDcru"
   },
   "outputs": [],
   "source": [
    "trans_train = transforms.Compose([transforms.ToPILImage(),\n",
    "                                  transforms.Pad(64, padding_mode='reflect'),\n",
    "                                  transforms.RandomHorizontalFlip(), \n",
    "                                  transforms.RandomVerticalFlip(),\n",
    "                                  transforms.RandomRotation(20), \n",
    "                                  transforms.ToTensor(),\n",
    "                                  transforms.Normalize(mean=[0.5, 0.5, 0.5],std=[0.5, 0.5, 0.5])])\n",
    "\n",
    "trans_valid = transforms.Compose([transforms.ToPILImage(),\n",
    "                                  transforms.Pad(64, padding_mode='reflect'),\n",
    "                                  transforms.ToTensor(),\n",
    "                                  transforms.Normalize(mean=[0.5, 0.5, 0.5],std=[0.5, 0.5, 0.5])])\n",
    "\n",
    "dataset_train = MyDataset(df_data=train, transform=trans_train)\n",
    "dataset_valid = MyDataset(df_data=val,transform=trans_valid)\n",
    "\n",
    "loader_train = DataLoader(dataset = dataset_train, batch_size=batch_size, shuffle=True, num_workers=0)\n",
    "loader_valid = DataLoader(dataset = dataset_valid, batch_size=batch_size//2, shuffle=False, num_workers=0)"
   ]
  },
  {
   "cell_type": "code",
   "execution_count": 13,
   "metadata": {
    "_uuid": "e15f2ad345704c1fe3ee6012287d22113ef70a7b",
    "executionInfo": {
     "elapsed": 2,
     "status": "ok",
     "timestamp": 1641941189539,
     "user": {
      "displayName": "Maxim Levit",
      "photoUrl": "https://lh3.googleusercontent.com/a-/AOh14Giwgt68QDbWFB9jocXOKnezo4YBZ-MoQCrQmMA=s64",
      "userId": "06991491534825156893"
     },
     "user_tz": -120
    },
    "gradient": {
     "editing": false,
     "execution_count": 13,
     "id": "0b8e9e5e-7c1d-495d-b078-7e036b9e6e83",
     "kernelId": "bd22c9dc-26df-4e2c-b38a-6fa14c912e90"
    },
    "id": "JkTh4-QiDcru"
   },
   "outputs": [],
   "source": [
    "class SimpleCNN(nn.Module):\n",
    "    def __init__(self):\n",
    "        # ancestor constructor call\n",
    "        super(SimpleCNN, self).__init__()\n",
    "        self.conv1 = nn.Conv2d(in_channels=3, out_channels=32, kernel_size=3, padding=2)\n",
    "        self.conv2 = nn.Conv2d(in_channels=32, out_channels=64, kernel_size=3, padding=2)\n",
    "        self.conv3 = nn.Conv2d(in_channels=64, out_channels=128, kernel_size=3, padding=2)\n",
    "        self.conv4 = nn.Conv2d(in_channels=128, out_channels=256, kernel_size=3, padding=2)\n",
    "        self.conv5 = nn.Conv2d(in_channels=256, out_channels=512, kernel_size=3, padding=2)\n",
    "        self.bn1 = nn.BatchNorm2d(32)\n",
    "        self.bn2 = nn.BatchNorm2d(64)\n",
    "        self.bn3 = nn.BatchNorm2d(128)\n",
    "        self.bn4 = nn.BatchNorm2d(256)\n",
    "        self.bn5 = nn.BatchNorm2d(512)\n",
    "        self.pool = nn.MaxPool2d(kernel_size=2, stride=2)\n",
    "        self.avg = nn.AvgPool2d(7)\n",
    "        self.fc = nn.Linear(512 * 1 * 1, 2) # !!!\n",
    "        \n",
    "    def forward(self, x):\n",
    "        x = self.pool(F.leaky_relu(self.bn1(self.conv1(x)))) # first convolutional layer then batchnorm, then activation then pooling layer.\n",
    "        x = self.pool(F.leaky_relu(self.bn2(self.conv2(x))))\n",
    "        x = self.pool(F.leaky_relu(self.bn3(self.conv3(x))))\n",
    "        x = self.pool(F.leaky_relu(self.bn4(self.conv4(x))))\n",
    "        x = self.pool(F.leaky_relu(self.bn5(self.conv5(x))))\n",
    "        x = self.avg(x)\n",
    "        #print(x.shape) # lifehack to find out the correct dimension for the Linear Layer\n",
    "        x = x.view(-1, 512 * 1 * 1) # !!!\n",
    "        x = self.fc(x)\n",
    "        return x"
   ]
  },
  {
   "cell_type": "code",
   "execution_count": 14,
   "metadata": {
    "_uuid": "0360156820e79f956b33e9fcc10bd3335fc395f5",
    "executionInfo": {
     "elapsed": 237,
     "status": "ok",
     "timestamp": 1641941194402,
     "user": {
      "displayName": "Maxim Levit",
      "photoUrl": "https://lh3.googleusercontent.com/a-/AOh14Giwgt68QDbWFB9jocXOKnezo4YBZ-MoQCrQmMA=s64",
      "userId": "06991491534825156893"
     },
     "user_tz": -120
    },
    "gradient": {
     "editing": false,
     "execution_count": 14,
     "id": "44b7ef95-04b8-46a5-9059-a09d542c1dc0",
     "kernelId": "bd22c9dc-26df-4e2c-b38a-6fa14c912e90"
    },
    "id": "t_ncZhmEDcru"
   },
   "outputs": [],
   "source": [
    "model = SimpleCNN().to(device)"
   ]
  },
  {
   "cell_type": "code",
   "execution_count": 15,
   "metadata": {
    "_uuid": "9e2051afd6bc198da29d20c77fb2082169a930af",
    "executionInfo": {
     "elapsed": 2,
     "status": "ok",
     "timestamp": 1641941195518,
     "user": {
      "displayName": "Maxim Levit",
      "photoUrl": "https://lh3.googleusercontent.com/a-/AOh14Giwgt68QDbWFB9jocXOKnezo4YBZ-MoQCrQmMA=s64",
      "userId": "06991491534825156893"
     },
     "user_tz": -120
    },
    "gradient": {
     "editing": false,
     "execution_count": 15,
     "id": "7c412628-fb7c-406f-bbd9-2b49b298ab0c",
     "kernelId": "bd22c9dc-26df-4e2c-b38a-6fa14c912e90"
    },
    "id": "WQjiI_P7Dcrv"
   },
   "outputs": [],
   "source": [
    "# Loss and optimizer\n",
    "criterion = nn.CrossEntropyLoss()\n",
    "optimizer = torch.optim.Adamax(model.parameters(), lr=learning_rate)"
   ]
  },
  {
   "cell_type": "code",
   "execution_count": 16,
   "metadata": {
    "_uuid": "1075be6e0d1c18d34fa1f0b1dd0ff28ffa93a4f9",
    "colab": {
     "base_uri": "https://localhost:8080/"
    },
    "gradient": {
     "editing": false,
     "id": "ab235353-19eb-467e-a57b-f1c4759bf7a1",
     "kernelId": "bd22c9dc-26df-4e2c-b38a-6fa14c912e90"
    },
    "id": "SRtkSkwsDcrv",
    "outputId": "a2167e04-e0ec-4396-cf06-5890c246e9bd"
   },
   "outputs": [
    {
     "name": "stdout",
     "output_type": "stream",
     "text": [
      "Epoch [1/15], Step [100/1735], Loss: 0.3686,Int100_time:70.97502541542053\n",
      "Epoch [1/15], Step [200/1735], Loss: 0.3551,Int100_time:139.48899722099304\n",
      "Epoch [1/15], Step [300/1735], Loss: 0.3337,Int100_time:206.36218452453613\n",
      "Epoch [1/15], Step [400/1735], Loss: 0.2863,Int100_time:271.8614764213562\n",
      "Epoch [1/15], Step [500/1735], Loss: 0.3070,Int100_time:329.8052339553833\n",
      "Epoch [1/15], Step [600/1735], Loss: 0.3595,Int100_time:388.48000597953796\n",
      "Epoch [1/15], Step [700/1735], Loss: 0.3060,Int100_time:464.8700647354126\n",
      "Epoch [1/15], Step [800/1735], Loss: 0.3261,Int100_time:534.8902804851532\n",
      "Epoch [1/15], Step [900/1735], Loss: 0.3929,Int100_time:614.8901526927948\n",
      "Epoch [1/15], Step [1000/1735], Loss: 0.3308,Int100_time:693.0157914161682\n",
      "Epoch [1/15], Step [1100/1735], Loss: 0.3478,Int100_time:769.5658781528473\n",
      "Epoch [1/15], Step [1200/1735], Loss: 0.3198,Int100_time:849.0171222686768\n",
      "Epoch [1/15], Step [1300/1735], Loss: 0.3308,Int100_time:926.390652179718\n",
      "Epoch [1/15], Step [1400/1735], Loss: 0.2724,Int100_time:1003.3933217525482\n",
      "Epoch [1/15], Step [1500/1735], Loss: 0.1792,Int100_time:1080.5475149154663\n",
      "Epoch [1/15], Step [1600/1735], Loss: 0.3330,Int100_time:1157.947173833847\n",
      "Epoch [1/15], Step [1700/1735], Loss: 0.3025,Int100_time:1235.4193665981293\n",
      "Epoch [1/15], Step [1735/1735], Loss: 0.3183,Epotch_time:0.0\n",
      "Epoch [2/15], Step [100/1735], Loss: 0.3321,Int100_time:62.775630950927734\n",
      "Epoch [2/15], Step [200/1735], Loss: 0.3822,Int100_time:125.70420908927917\n",
      "Epoch [2/15], Step [300/1735], Loss: 0.3729,Int100_time:190.81413626670837\n",
      "Epoch [2/15], Step [400/1735], Loss: 0.3159,Int100_time:260.2650694847107\n",
      "Epoch [2/15], Step [500/1735], Loss: 0.2991,Int100_time:329.46013379096985\n",
      "Epoch [2/15], Step [600/1735], Loss: 0.2972,Int100_time:396.0264012813568\n",
      "Epoch [2/15], Step [700/1735], Loss: 0.2993,Int100_time:455.819771528244\n",
      "Epoch [2/15], Step [800/1735], Loss: 0.2219,Int100_time:515.7295963764191\n",
      "Epoch [2/15], Step [900/1735], Loss: 0.2442,Int100_time:576.3505175113678\n",
      "Epoch [2/15], Step [1000/1735], Loss: 0.2139,Int100_time:637.8894031047821\n",
      "Epoch [2/15], Step [1100/1735], Loss: 0.3108,Int100_time:698.213742017746\n",
      "Epoch [2/15], Step [1200/1735], Loss: 0.2354,Int100_time:758.4992852210999\n",
      "Epoch [2/15], Step [1300/1735], Loss: 0.2367,Int100_time:825.5177857875824\n",
      "Epoch [2/15], Step [1400/1735], Loss: 0.2991,Int100_time:894.072550535202\n",
      "Epoch [2/15], Step [1500/1735], Loss: 0.3345,Int100_time:964.6890294551849\n",
      "Epoch [2/15], Step [1600/1735], Loss: 0.4469,Int100_time:1034.23131108284\n",
      "Epoch [2/15], Step [1700/1735], Loss: 0.3046,Int100_time:1104.3958706855774\n",
      "Epoch [2/15], Step [1735/1735], Loss: 0.2405,Epotch_time:0.0\n",
      "Epoch [3/15], Step [100/1735], Loss: 0.2865,Int100_time:60.347944021224976\n",
      "Epoch [3/15], Step [200/1735], Loss: 0.2157,Int100_time:122.86452674865723\n",
      "Epoch [3/15], Step [300/1735], Loss: 0.2421,Int100_time:183.34827947616577\n",
      "Epoch [3/15], Step [400/1735], Loss: 0.2659,Int100_time:244.444598197937\n",
      "Epoch [3/15], Step [500/1735], Loss: 0.2013,Int100_time:308.4780595302582\n",
      "Epoch [3/15], Step [600/1735], Loss: 0.2724,Int100_time:361.9949035644531\n",
      "Epoch [3/15], Step [700/1735], Loss: 0.2552,Int100_time:412.78674507141113\n",
      "Epoch [3/15], Step [800/1735], Loss: 0.3444,Int100_time:463.02371621131897\n",
      "Epoch [3/15], Step [900/1735], Loss: 0.2966,Int100_time:513.0168850421906\n",
      "Epoch [3/15], Step [1000/1735], Loss: 0.2360,Int100_time:563.4596791267395\n",
      "Epoch [3/15], Step [1100/1735], Loss: 0.2943,Int100_time:614.0968127250671\n",
      "Epoch [3/15], Step [1200/1735], Loss: 0.3571,Int100_time:664.9161903858185\n",
      "Epoch [3/15], Step [1300/1735], Loss: 0.2605,Int100_time:716.1672315597534\n",
      "Epoch [3/15], Step [1400/1735], Loss: 0.3520,Int100_time:768.7961075305939\n",
      "Epoch [3/15], Step [1500/1735], Loss: 0.3033,Int100_time:827.1915493011475\n",
      "Epoch [3/15], Step [1600/1735], Loss: 0.3602,Int100_time:884.0005967617035\n",
      "Epoch [3/15], Step [1700/1735], Loss: 0.2522,Int100_time:943.7281150817871\n",
      "Epoch [3/15], Step [1735/1735], Loss: 0.2019,Epotch_time:0.0\n",
      "Epoch [4/15], Step [100/1735], Loss: 0.3391,Int100_time:55.64411187171936\n",
      "Epoch [4/15], Step [200/1735], Loss: 0.2581,Int100_time:107.20825099945068\n",
      "Epoch [4/15], Step [300/1735], Loss: 0.3484,Int100_time:156.52535700798035\n",
      "Epoch [4/15], Step [400/1735], Loss: 0.2231,Int100_time:206.23064041137695\n",
      "Epoch [4/15], Step [500/1735], Loss: 0.2867,Int100_time:257.7876546382904\n",
      "Epoch [4/15], Step [600/1735], Loss: 0.2625,Int100_time:308.9547462463379\n",
      "Epoch [4/15], Step [700/1735], Loss: 0.2569,Int100_time:360.7299449443817\n",
      "Epoch [4/15], Step [800/1735], Loss: 0.2563,Int100_time:413.2853379249573\n",
      "Epoch [4/15], Step [900/1735], Loss: 0.2650,Int100_time:467.7425880432129\n",
      "Epoch [4/15], Step [1000/1735], Loss: 0.4193,Int100_time:523.7573928833008\n",
      "Epoch [4/15], Step [1100/1735], Loss: 0.2648,Int100_time:578.0689356327057\n",
      "Epoch [4/15], Step [1200/1735], Loss: 0.2263,Int100_time:631.8090453147888\n",
      "Epoch [4/15], Step [1300/1735], Loss: 0.2475,Int100_time:685.681188583374\n",
      "Epoch [4/15], Step [1400/1735], Loss: 0.2864,Int100_time:738.6149513721466\n",
      "Epoch [4/15], Step [1500/1735], Loss: 0.2675,Int100_time:791.6776640415192\n",
      "Epoch [4/15], Step [1600/1735], Loss: 0.2118,Int100_time:846.0835659503937\n",
      "Epoch [4/15], Step [1700/1735], Loss: 0.3921,Int100_time:900.635861158371\n",
      "Epoch [4/15], Step [1735/1735], Loss: 0.2113,Epotch_time:0.0\n",
      "Epoch [5/15], Step [100/1735], Loss: 0.2978,Int100_time:48.266310691833496\n",
      "Epoch [5/15], Step [200/1735], Loss: 0.2315,Int100_time:99.85757064819336\n",
      "Epoch [5/15], Step [300/1735], Loss: 0.2684,Int100_time:149.79478907585144\n",
      "Epoch [5/15], Step [400/1735], Loss: 0.2142,Int100_time:199.81540608406067\n",
      "Epoch [5/15], Step [500/1735], Loss: 0.2358,Int100_time:253.91490530967712\n",
      "Epoch [5/15], Step [600/1735], Loss: 0.2639,Int100_time:312.52916383743286\n",
      "Epoch [5/15], Step [700/1735], Loss: 0.3477,Int100_time:364.01227927207947\n",
      "Epoch [5/15], Step [800/1735], Loss: 0.2426,Int100_time:420.910612821579\n",
      "Epoch [5/15], Step [900/1735], Loss: 0.2657,Int100_time:481.05737566947937\n",
      "Epoch [5/15], Step [1000/1735], Loss: 0.2228,Int100_time:535.345547914505\n",
      "Epoch [5/15], Step [1100/1735], Loss: 0.3052,Int100_time:586.0562024116516\n",
      "Epoch [5/15], Step [1200/1735], Loss: 0.2801,Int100_time:637.3467559814453\n",
      "Epoch [5/15], Step [1300/1735], Loss: 0.2126,Int100_time:687.9077966213226\n",
      "Epoch [5/15], Step [1400/1735], Loss: 0.2688,Int100_time:738.2267758846283\n",
      "Epoch [5/15], Step [1500/1735], Loss: 0.2596,Int100_time:789.3588469028473\n",
      "Epoch [5/15], Step [1600/1735], Loss: 0.2411,Int100_time:839.7279307842255\n",
      "Epoch [5/15], Step [1700/1735], Loss: 0.1964,Int100_time:891.0618093013763\n",
      "Epoch [5/15], Step [1735/1735], Loss: 0.3247,Epotch_time:0.0\n",
      "Epoch [6/15], Step [100/1735], Loss: 0.2603,Int100_time:48.410993814468384\n",
      "Epoch [6/15], Step [200/1735], Loss: 0.1495,Int100_time:96.95185232162476\n",
      "Epoch [6/15], Step [300/1735], Loss: 0.3345,Int100_time:149.58546471595764\n",
      "Epoch [6/15], Step [400/1735], Loss: 0.2838,Int100_time:202.6322319507599\n",
      "Epoch [6/15], Step [500/1735], Loss: 0.1954,Int100_time:255.4181351661682\n",
      "Epoch [6/15], Step [600/1735], Loss: 0.2372,Int100_time:306.73352336883545\n",
      "Epoch [6/15], Step [700/1735], Loss: 0.2051,Int100_time:357.65475058555603\n",
      "Epoch [6/15], Step [800/1735], Loss: 0.2023,Int100_time:408.4725205898285\n",
      "Epoch [6/15], Step [900/1735], Loss: 0.2220,Int100_time:459.1484959125519\n",
      "Epoch [6/15], Step [1000/1735], Loss: 0.2716,Int100_time:509.4746153354645\n",
      "Epoch [6/15], Step [1100/1735], Loss: 0.2330,Int100_time:560.4117608070374\n",
      "Epoch [6/15], Step [1200/1735], Loss: 0.3237,Int100_time:611.7464218139648\n",
      "Epoch [6/15], Step [1300/1735], Loss: 0.3516,Int100_time:662.3961372375488\n",
      "Epoch [6/15], Step [1400/1735], Loss: 0.2283,Int100_time:713.759450674057\n",
      "Epoch [6/15], Step [1500/1735], Loss: 0.1584,Int100_time:764.6064646244049\n",
      "Epoch [6/15], Step [1600/1735], Loss: 0.1418,Int100_time:817.0455975532532\n",
      "Epoch [6/15], Step [1700/1735], Loss: 0.2089,Int100_time:868.6361656188965\n",
      "Epoch [6/15], Step [1735/1735], Loss: 0.2094,Epotch_time:0.0\n",
      "Epoch [7/15], Step [100/1735], Loss: 0.2175,Int100_time:46.71282601356506\n",
      "Epoch [7/15], Step [200/1735], Loss: 0.2786,Int100_time:94.56128644943237\n",
      "Epoch [7/15], Step [300/1735], Loss: 0.3887,Int100_time:142.70601963996887\n",
      "Epoch [7/15], Step [400/1735], Loss: 0.2763,Int100_time:192.69469261169434\n",
      "Epoch [7/15], Step [500/1735], Loss: 0.3674,Int100_time:242.6626329421997\n",
      "Epoch [7/15], Step [600/1735], Loss: 0.2542,Int100_time:293.22050976753235\n",
      "Epoch [7/15], Step [700/1735], Loss: 0.2950,Int100_time:343.55106377601624\n",
      "Epoch [7/15], Step [800/1735], Loss: 0.2685,Int100_time:394.42727422714233\n",
      "Epoch [7/15], Step [900/1735], Loss: 0.2796,Int100_time:445.3184790611267\n",
      "Epoch [7/15], Step [1000/1735], Loss: 0.2307,Int100_time:497.42216205596924\n",
      "Epoch [7/15], Step [1100/1735], Loss: 0.2614,Int100_time:551.22949385643\n",
      "Epoch [7/15], Step [1200/1735], Loss: 0.3449,Int100_time:604.1250185966492\n",
      "Epoch [7/15], Step [1300/1735], Loss: 0.2150,Int100_time:660.6220703125\n",
      "Epoch [7/15], Step [1400/1735], Loss: 0.2517,Int100_time:711.4273571968079\n",
      "Epoch [7/15], Step [1500/1735], Loss: 0.2233,Int100_time:761.571964263916\n",
      "Epoch [7/15], Step [1600/1735], Loss: 0.2735,Int100_time:811.0619809627533\n",
      "Epoch [7/15], Step [1700/1735], Loss: 0.2116,Int100_time:860.3752193450928\n",
      "Epoch [7/15], Step [1735/1735], Loss: 0.2188,Epotch_time:0.0\n",
      "Epoch [8/15], Step [100/1735], Loss: 0.2440,Int100_time:46.3912456035614\n",
      "Epoch [8/15], Step [200/1735], Loss: 0.2254,Int100_time:93.45442795753479\n",
      "Epoch [8/15], Step [300/1735], Loss: 0.3076,Int100_time:141.08895063400269\n",
      "Epoch [8/15], Step [400/1735], Loss: 0.2796,Int100_time:188.9207203388214\n",
      "Epoch [8/15], Step [500/1735], Loss: 0.3396,Int100_time:238.33300280570984\n",
      "Epoch [8/15], Step [600/1735], Loss: 0.1901,Int100_time:288.06835770606995\n",
      "Epoch [8/15], Step [700/1735], Loss: 0.1917,Int100_time:337.7345886230469\n",
      "Epoch [8/15], Step [800/1735], Loss: 0.2687,Int100_time:387.2595796585083\n",
      "Epoch [8/15], Step [900/1735], Loss: 0.1997,Int100_time:436.6950023174286\n",
      "Epoch [8/15], Step [1000/1735], Loss: 0.2336,Int100_time:486.41048550605774\n",
      "Epoch [8/15], Step [1100/1735], Loss: 0.2503,Int100_time:535.893269777298\n",
      "Epoch [8/15], Step [1200/1735], Loss: 0.2311,Int100_time:586.1494331359863\n",
      "Epoch [8/15], Step [1300/1735], Loss: 0.3141,Int100_time:636.1801595687866\n",
      "Epoch [8/15], Step [1400/1735], Loss: 0.1738,Int100_time:685.2361283302307\n",
      "Epoch [8/15], Step [1500/1735], Loss: 0.2005,Int100_time:735.0924673080444\n",
      "Epoch [8/15], Step [1600/1735], Loss: 0.3096,Int100_time:784.4995467662811\n",
      "Epoch [8/15], Step [1700/1735], Loss: 0.1869,Int100_time:833.9632897377014\n",
      "Epoch [8/15], Step [1735/1735], Loss: 0.2390,Epotch_time:0.0\n",
      "Epoch [9/15], Step [100/1735], Loss: 0.2172,Int100_time:46.44870710372925\n",
      "Epoch [9/15], Step [200/1735], Loss: 0.2382,Int100_time:93.38212513923645\n",
      "Epoch [9/15], Step [300/1735], Loss: 0.2756,Int100_time:141.45515656471252\n",
      "Epoch [9/15], Step [400/1735], Loss: 0.2289,Int100_time:190.17628502845764\n",
      "Epoch [9/15], Step [500/1735], Loss: 0.2423,Int100_time:239.87332844734192\n",
      "Epoch [9/15], Step [600/1735], Loss: 0.2482,Int100_time:290.2538070678711\n",
      "Epoch [9/15], Step [700/1735], Loss: 0.2171,Int100_time:340.6176915168762\n",
      "Epoch [9/15], Step [800/1735], Loss: 0.1946,Int100_time:390.0169470310211\n",
      "Epoch [9/15], Step [900/1735], Loss: 0.1834,Int100_time:439.36257100105286\n",
      "Epoch [9/15], Step [1000/1735], Loss: 0.2367,Int100_time:488.4901764392853\n",
      "Epoch [9/15], Step [1100/1735], Loss: 0.2303,Int100_time:537.4890892505646\n",
      "Epoch [9/15], Step [1200/1735], Loss: 0.2169,Int100_time:586.6382200717926\n",
      "Epoch [9/15], Step [1300/1735], Loss: 0.1804,Int100_time:635.5106890201569\n",
      "Epoch [9/15], Step [1400/1735], Loss: 0.2504,Int100_time:684.6949653625488\n",
      "Epoch [9/15], Step [1500/1735], Loss: 0.1806,Int100_time:734.1507959365845\n",
      "Epoch [9/15], Step [1600/1735], Loss: 0.2596,Int100_time:783.5846028327942\n",
      "Epoch [9/15], Step [1700/1735], Loss: 0.2654,Int100_time:833.0150997638702\n",
      "Epoch [9/15], Step [1735/1735], Loss: 0.2991,Epotch_time:0.0\n",
      "Epoch [10/15], Step [100/1735], Loss: 0.1712,Int100_time:46.4509220123291\n",
      "Epoch [10/15], Step [200/1735], Loss: 0.1522,Int100_time:94.31912183761597\n",
      "Epoch [10/15], Step [300/1735], Loss: 0.1696,Int100_time:141.40468668937683\n",
      "Epoch [10/15], Step [400/1735], Loss: 0.3125,Int100_time:189.42077350616455\n",
      "Epoch [10/15], Step [500/1735], Loss: 0.2711,Int100_time:238.56425166130066\n",
      "Epoch [10/15], Step [600/1735], Loss: 0.2300,Int100_time:288.046035528183\n",
      "Epoch [10/15], Step [700/1735], Loss: 0.2027,Int100_time:337.52569794654846\n",
      "Epoch [10/15], Step [800/1735], Loss: 0.2661,Int100_time:386.6056799888611\n",
      "Epoch [10/15], Step [900/1735], Loss: 0.1839,Int100_time:435.99231481552124\n",
      "Epoch [10/15], Step [1000/1735], Loss: 0.1918,Int100_time:485.3123269081116\n",
      "Epoch [10/15], Step [1100/1735], Loss: 0.2424,Int100_time:535.25745677948\n",
      "Epoch [10/15], Step [1200/1735], Loss: 0.2777,Int100_time:584.1520330905914\n",
      "Epoch [10/15], Step [1300/1735], Loss: 0.2422,Int100_time:633.4414336681366\n",
      "Epoch [10/15], Step [1400/1735], Loss: 0.3678,Int100_time:682.6897511482239\n",
      "Epoch [10/15], Step [1500/1735], Loss: 0.2672,Int100_time:732.2655699253082\n",
      "Epoch [10/15], Step [1600/1735], Loss: 0.2504,Int100_time:781.48805975914\n",
      "Epoch [10/15], Step [1700/1735], Loss: 0.2682,Int100_time:830.5913214683533\n",
      "Epoch [10/15], Step [1735/1735], Loss: 0.1472,Epotch_time:0.0\n",
      "Epoch [11/15], Step [100/1735], Loss: 0.2165,Int100_time:46.73193335533142\n",
      "Epoch [11/15], Step [200/1735], Loss: 0.2208,Int100_time:93.7156355381012\n",
      "Epoch [11/15], Step [300/1735], Loss: 0.2350,Int100_time:141.15636587142944\n",
      "Epoch [11/15], Step [400/1735], Loss: 0.2317,Int100_time:188.87194347381592\n",
      "Epoch [11/15], Step [500/1735], Loss: 0.2150,Int100_time:237.67296624183655\n",
      "Epoch [11/15], Step [600/1735], Loss: 0.2618,Int100_time:287.1181845664978\n",
      "Epoch [11/15], Step [700/1735], Loss: 0.1657,Int100_time:336.799204826355\n",
      "Epoch [11/15], Step [800/1735], Loss: 0.2870,Int100_time:386.10104751586914\n",
      "Epoch [11/15], Step [900/1735], Loss: 0.2539,Int100_time:435.2970817089081\n",
      "Epoch [11/15], Step [1000/1735], Loss: 0.2376,Int100_time:484.8451142311096\n",
      "Epoch [11/15], Step [1100/1735], Loss: 0.2783,Int100_time:534.8228681087494\n",
      "Epoch [11/15], Step [1200/1735], Loss: 0.2117,Int100_time:584.4118797779083\n",
      "Epoch [11/15], Step [1300/1735], Loss: 0.1657,Int100_time:633.8192126750946\n",
      "Epoch [11/15], Step [1400/1735], Loss: 0.2392,Int100_time:683.5235278606415\n",
      "Epoch [11/15], Step [1500/1735], Loss: 0.2202,Int100_time:733.5890419483185\n",
      "Epoch [11/15], Step [1600/1735], Loss: 0.2698,Int100_time:784.0472371578217\n",
      "Epoch [11/15], Step [1700/1735], Loss: 0.2235,Int100_time:834.3786709308624\n",
      "Epoch [11/15], Step [1735/1735], Loss: 0.3331,Epotch_time:0.0\n",
      "Epoch [12/15], Step [100/1735], Loss: 0.2691,Int100_time:46.38684821128845\n",
      "Epoch [12/15], Step [200/1735], Loss: 0.1714,Int100_time:93.51931953430176\n",
      "Epoch [12/15], Step [300/1735], Loss: 0.2708,Int100_time:141.1158537864685\n",
      "Epoch [12/15], Step [400/1735], Loss: 0.2289,Int100_time:189.5373387336731\n",
      "Epoch [12/15], Step [500/1735], Loss: 0.2034,Int100_time:238.8370749950409\n",
      "Epoch [12/15], Step [600/1735], Loss: 0.3645,Int100_time:288.4856402873993\n",
      "Epoch [12/15], Step [700/1735], Loss: 0.2245,Int100_time:338.1278040409088\n",
      "Epoch [12/15], Step [800/1735], Loss: 0.2405,Int100_time:387.9418122768402\n",
      "Epoch [12/15], Step [900/1735], Loss: 0.2177,Int100_time:438.74302983283997\n",
      "Epoch [12/15], Step [1000/1735], Loss: 0.2619,Int100_time:488.6344082355499\n",
      "Epoch [12/15], Step [1100/1735], Loss: 0.2600,Int100_time:538.1789274215698\n",
      "Epoch [12/15], Step [1200/1735], Loss: 0.2104,Int100_time:588.0842933654785\n",
      "Epoch [12/15], Step [1300/1735], Loss: 0.2216,Int100_time:637.66925573349\n",
      "Epoch [12/15], Step [1400/1735], Loss: 0.1453,Int100_time:687.5948266983032\n",
      "Epoch [12/15], Step [1500/1735], Loss: 0.2338,Int100_time:738.0470118522644\n",
      "Epoch [12/15], Step [1600/1735], Loss: 0.2156,Int100_time:788.3036630153656\n",
      "Epoch [12/15], Step [1700/1735], Loss: 0.2716,Int100_time:838.4166421890259\n",
      "Epoch [12/15], Step [1735/1735], Loss: 0.2311,Epotch_time:0.0\n",
      "Epoch [13/15], Step [100/1735], Loss: 0.1963,Int100_time:46.67584991455078\n",
      "Epoch [13/15], Step [200/1735], Loss: 0.2925,Int100_time:93.59657621383667\n",
      "Epoch [13/15], Step [300/1735], Loss: 0.1601,Int100_time:141.0934557914734\n",
      "Epoch [13/15], Step [400/1735], Loss: 0.2673,Int100_time:189.8696255683899\n",
      "Epoch [13/15], Step [500/1735], Loss: 0.1824,Int100_time:240.18106269836426\n",
      "Epoch [13/15], Step [600/1735], Loss: 0.1699,Int100_time:291.23039197921753\n",
      "Epoch [13/15], Step [700/1735], Loss: 0.2383,Int100_time:342.91246485710144\n",
      "Epoch [13/15], Step [800/1735], Loss: 0.1934,Int100_time:393.9684491157532\n",
      "Epoch [13/15], Step [900/1735], Loss: 0.2614,Int100_time:444.0544681549072\n",
      "Epoch [13/15], Step [1000/1735], Loss: 0.2033,Int100_time:494.9185643196106\n",
      "Epoch [13/15], Step [1100/1735], Loss: 0.1633,Int100_time:545.5207250118256\n",
      "Epoch [13/15], Step [1200/1735], Loss: 0.2018,Int100_time:596.3302273750305\n",
      "Epoch [13/15], Step [1300/1735], Loss: 0.2498,Int100_time:647.281361579895\n",
      "Epoch [13/15], Step [1400/1735], Loss: 0.2159,Int100_time:697.109890460968\n",
      "Epoch [13/15], Step [1500/1735], Loss: 0.3256,Int100_time:746.4241859912872\n",
      "Epoch [13/15], Step [1600/1735], Loss: 0.2203,Int100_time:795.6473481655121\n",
      "Epoch [13/15], Step [1700/1735], Loss: 0.2913,Int100_time:845.3448779582977\n",
      "Epoch [13/15], Step [1735/1735], Loss: 0.1748,Epotch_time:0.0\n",
      "Epoch [14/15], Step [100/1735], Loss: 0.1678,Int100_time:46.56835222244263\n",
      "Epoch [14/15], Step [200/1735], Loss: 0.1906,Int100_time:93.60125756263733\n",
      "Epoch [14/15], Step [300/1735], Loss: 0.3054,Int100_time:140.82080054283142\n",
      "Epoch [14/15], Step [400/1735], Loss: 0.1762,Int100_time:189.16692876815796\n",
      "Epoch [14/15], Step [500/1735], Loss: 0.2214,Int100_time:238.16041898727417\n",
      "Epoch [14/15], Step [600/1735], Loss: 0.1953,Int100_time:287.2302622795105\n",
      "Epoch [14/15], Step [700/1735], Loss: 0.2351,Int100_time:337.302405834198\n",
      "Epoch [14/15], Step [800/1735], Loss: 0.1922,Int100_time:386.22845554351807\n",
      "Epoch [14/15], Step [900/1735], Loss: 0.2135,Int100_time:435.7486963272095\n",
      "Epoch [14/15], Step [1000/1735], Loss: 0.2426,Int100_time:485.67067694664\n",
      "Epoch [14/15], Step [1100/1735], Loss: 0.2637,Int100_time:535.3548130989075\n",
      "Epoch [14/15], Step [1200/1735], Loss: 0.3728,Int100_time:585.2734560966492\n",
      "Epoch [14/15], Step [1300/1735], Loss: 0.2032,Int100_time:635.3977751731873\n",
      "Epoch [14/15], Step [1400/1735], Loss: 0.2770,Int100_time:685.1002640724182\n",
      "Epoch [14/15], Step [1500/1735], Loss: 0.3381,Int100_time:735.0506620407104\n",
      "Epoch [14/15], Step [1600/1735], Loss: 0.2613,Int100_time:784.5141091346741\n",
      "Epoch [14/15], Step [1700/1735], Loss: 0.2075,Int100_time:834.0856261253357\n",
      "Epoch [14/15], Step [1735/1735], Loss: 0.1934,Epotch_time:0.0\n",
      "Epoch [15/15], Step [100/1735], Loss: 0.2663,Int100_time:46.48945689201355\n",
      "Epoch [15/15], Step [200/1735], Loss: 0.2113,Int100_time:93.61681890487671\n",
      "Epoch [15/15], Step [300/1735], Loss: 0.2231,Int100_time:141.27425980567932\n",
      "Epoch [15/15], Step [400/1735], Loss: 0.2801,Int100_time:189.12140798568726\n",
      "Epoch [15/15], Step [500/1735], Loss: 0.2129,Int100_time:238.04515314102173\n",
      "Epoch [15/15], Step [600/1735], Loss: 0.2856,Int100_time:288.34212946891785\n",
      "Epoch [15/15], Step [700/1735], Loss: 0.2535,Int100_time:339.13327646255493\n",
      "Epoch [15/15], Step [800/1735], Loss: 0.1662,Int100_time:389.72162771224976\n",
      "Epoch [15/15], Step [900/1735], Loss: 0.2720,Int100_time:440.46942353248596\n",
      "Epoch [15/15], Step [1000/1735], Loss: 0.2603,Int100_time:491.1396622657776\n",
      "Epoch [15/15], Step [1100/1735], Loss: 0.2214,Int100_time:541.5287532806396\n",
      "Epoch [15/15], Step [1200/1735], Loss: 0.2283,Int100_time:591.6075520515442\n",
      "Epoch [15/15], Step [1300/1735], Loss: 0.2331,Int100_time:641.717093706131\n",
      "Epoch [15/15], Step [1400/1735], Loss: 0.2294,Int100_time:691.3222842216492\n",
      "Epoch [15/15], Step [1500/1735], Loss: 0.2187,Int100_time:741.2697896957397\n",
      "Epoch [15/15], Step [1600/1735], Loss: 0.1751,Int100_time:791.0545356273651\n",
      "Epoch [15/15], Step [1700/1735], Loss: 0.2911,Int100_time:840.8656520843506\n",
      "Epoch [15/15], Step [1735/1735], Loss: 0.1574,Epotch_time:0.0\n"
     ]
    }
   ],
   "source": [
    "# Train the model\n",
    "import gc\n",
    "import time\n",
    "x=[]\n",
    "Epotch_stop=0\n",
    "Int100_time=0\n",
    "Int100_time1=np.zeros(1735)\n",
    "\n",
    "total_step = len(loader_train)\n",
    "for epoch in range(num_epochs):\n",
    "    start= time.time()\n",
    "    \n",
    "    for i, (images, labels) in enumerate(loader_train):\n",
    "        #print(images)\n",
    "        images = images.to(device)\n",
    "        labels = labels.to(device)\n",
    "        \n",
    "        # Forward pass\n",
    "        outputs = model(images)\n",
    "       # gc.collect()\n",
    "        #torch.cuda.empty_cache()\n",
    "        loss = criterion(outputs, labels)\n",
    "        \n",
    "        \n",
    "        # Backward and optimize\n",
    "        optimizer.zero_grad()\n",
    "        loss.backward()\n",
    "        optimizer.step()\n",
    "        \n",
    "        \n",
    "       \n",
    "        if (i+1) % 100 == 0:\n",
    "            stop= time.time()\n",
    "            Int100_time=stop-start\n",
    "            Int100_time1[i]=Int100_time1[i]+Int100_time           \n",
    "            print ('Epoch [{}/{}], Step [{}/{}], Loss: {:.4f},Int100_time:{}' \n",
    "                   .format(epoch+1, num_epochs, i+1, total_step, loss.item(),Int100_time))\n",
    "        elif (i+1) % 1735 == 0:\n",
    "            print ('Epoch [{}/{}], Step [{}/{}], Loss: {:.4f},Epotch_time:{}' \n",
    "                   .format(epoch+1, num_epochs, i+1, total_step, loss.item(),Int100_time1[i]))\n",
    "    \n"
   ]
  },
  {
   "cell_type": "code",
   "execution_count": 17,
   "metadata": {
    "_uuid": "9e5394b140012fb796f43a8fd0b558625a1b073f",
    "gradient": {
     "editing": false,
     "id": "b9f03de9-e094-4207-9e8b-ce182538b6e1",
     "kernelId": "bd22c9dc-26df-4e2c-b38a-6fa14c912e90"
    },
    "id": "70evm24KDcrw",
    "outputId": "6dcc4fa1-c87e-4115-8ae0-c6753843e73a"
   },
   "outputs": [
    {
     "name": "stdout",
     "output_type": "stream",
     "text": [
      "Test Accuracy of the model on the test images: 89.8207368705522 %\n"
     ]
    }
   ],
   "source": [
    "# Test the model\n",
    "model.eval()  # eval mode (batchnorm uses moving mean/variance instead of mini-batch mean/variance)\n",
    "confusion_matrix = torch.zeros(2, 2)\n",
    "with torch.no_grad():\n",
    "    correct = 0\n",
    "    total = 0\n",
    "    for images, labels in loader_valid:\n",
    "        images = images.to(device)\n",
    "        labels = labels.to(device)\n",
    "        outputs = model(images)\n",
    "        _, predicted = torch.max(outputs.data, 1)\n",
    "        total += labels.size(0)\n",
    "        correct += (predicted == labels).sum().item()\n",
    "        for t, p in zip(labels.view(-1), predicted.view(-1)):\n",
    "                confusion_matrix[t.long(), p.long()] += 1\n",
    "                 \n",
    "    print('Test Accuracy of the model on the test images: {} %'.format(100 * correct / total))\n",
    "\n",
    "# Save the model checkpoint\n",
    "torch.save(model.state_dict(), 'model.ckpt')"
   ]
  },
  {
   "cell_type": "code",
   "execution_count": 18,
   "metadata": {
    "gradient": {
     "editing": false,
     "id": "deff7749-9860-4d28-8083-8d8f36757d15",
     "kernelId": "bd22c9dc-26df-4e2c-b38a-6fa14c912e90"
    },
    "id": "ZEeqWX4yDcrw",
    "outputId": "c36bb1ff-e7cc-450a-a171-e12bd2b609f2"
   },
   "outputs": [
    {
     "name": "stdout",
     "output_type": "stream",
     "text": [
      "tensor([[35930.,  3818.],\n",
      "        [ 1832., 13925.]])\n"
     ]
    }
   ],
   "source": [
    "print(confusion_matrix)"
   ]
  },
  {
   "cell_type": "code",
   "execution_count": null,
   "metadata": {
    "gradient": {
     "editing": false,
     "id": "3fb3babf-4e56-417f-8316-fd2bf372ca3c",
     "kernelId": "bd22c9dc-26df-4e2c-b38a-6fa14c912e90"
    }
   },
   "outputs": [],
   "source": []
  },
  {
   "cell_type": "code",
   "execution_count": null,
   "metadata": {},
   "outputs": [],
   "source": []
  }
 ],
 "metadata": {
  "accelerator": "GPU",
  "colab": {
   "name": "new_breast_histopathology.ipynb",
   "provenance": []
  },
  "kernelspec": {
   "display_name": "Python 3 (ipykernel)",
   "language": "python",
   "name": "python3"
  },
  "language_info": {
   "codemirror_mode": {
    "name": "ipython",
    "version": 3
   },
   "file_extension": ".py",
   "mimetype": "text/x-python",
   "name": "python",
   "nbconvert_exporter": "python",
   "pygments_lexer": "ipython3",
   "version": "3.8.12"
  }
 },
 "nbformat": 4,
 "nbformat_minor": 4
}
