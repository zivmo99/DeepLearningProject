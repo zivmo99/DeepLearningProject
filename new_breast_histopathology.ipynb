{
 "cells": [
  {
   "cell_type": "code",
   "execution_count": null,
   "metadata": {
    "_uuid": "915e2efe0713031e10cffdb59f7d917b1130c4f8",
    "gradient": {
     "editing": false,
     "id": "04cfb076-b20e-4222-bf2a-80f4cdbffa3e",
     "kernelId": "333b5024-c52b-4c33-b852-f0f4966bb37b"
    },
    "id": "Ym90xfS2Dcri"
   },
   "outputs": [],
   "source": [
    "# Code extensively uses the kernel https://www.kaggle.com/bonhart/pytorch-cnn-from-scratch!\n",
    "\n",
    "# Thank you https://www.kaggle.com/bonhart"
   ]
  },
  {
   "cell_type": "code",
   "execution_count": null,
   "metadata": {
    "_cell_guid": "b1076dfc-b9ad-4769-8c92-a6c4dae69d19",
    "_uuid": "8f2839f25d086af736a60e9eeb907d3b93b6e0e5",
    "executionInfo": {
     "elapsed": 7865,
     "status": "ok",
     "timestamp": 1641928634426,
     "user": {
      "displayName": "Maxim Levit",
      "photoUrl": "https://lh3.googleusercontent.com/a-/AOh14Giwgt68QDbWFB9jocXOKnezo4YBZ-MoQCrQmMA=s64",
      "userId": "06991491534825156893"
     },
     "user_tz": -120
    },
    "gradient": {
     "editing": false,
     "execution_count": 1,
     "id": "01115464-3ba0-46ab-8b21-c8e79780e6fb",
     "kernelId": "333b5024-c52b-4c33-b852-f0f4966bb37b"
    },
    "id": "_zz6giE9Dcrm"
   },
   "outputs": [
    {
     "name": "stdout",
     "output_type": "stream",
     "text": [
      "Collecting package metadata (current_repodata.json): done\n",
      "Solving environment: done\n",
      "\n",
      "## Package Plan ##\n",
      "\n",
      "  environment location: /opt/conda\n",
      "\n",
      "  added / updated specs:\n",
      "    - pandas\n",
      "\n",
      "\n",
      "The following packages will be downloaded:\n",
      "\n",
      "    package                    |            build\n",
      "    ---------------------------|-----------------\n",
      "    ca-certificates-2021.10.8  |       ha878542_0         139 KB  conda-forge\n",
      "    certifi-2021.10.8          |   py38h578d9bd_1         145 KB  conda-forge\n",
      "    conda-4.11.0               |   py38h578d9bd_0        16.9 MB  conda-forge\n",
      "    pandas-1.3.5               |   py38h43a58ef_0        13.0 MB  conda-forge\n",
      "    python-dateutil-2.8.2      |     pyhd8ed1ab_0         240 KB  conda-forge\n",
      "    ------------------------------------------------------------\n",
      "                                           Total:        30.4 MB\n",
      "\n",
      "The following NEW packages will be INSTALLED:\n",
      "\n",
      "  pandas             conda-forge/linux-64::pandas-1.3.5-py38h43a58ef_0\n",
      "  python-dateutil    conda-forge/noarch::python-dateutil-2.8.2-pyhd8ed1ab_0\n",
      "\n",
      "The following packages will be UPDATED:\n",
      "\n",
      "  ca-certificates                      2021.5.30-ha878542_0 --> 2021.10.8-ha878542_0\n",
      "  certifi                          2021.5.30-py38h578d9bd_0 --> 2021.10.8-py38h578d9bd_1\n",
      "  conda                               4.10.3-py38h578d9bd_2 --> 4.11.0-py38h578d9bd_0\n",
      "\n",
      "\n",
      "\n",
      "Downloading and Extracting Packages\n",
      "certifi-2021.10.8    | 145 KB    | ##################################### | 100% \n",
      "ca-certificates-2021 | 139 KB    | ##################################### | 100% \n",
      "pandas-1.3.5         | 13.0 MB   | ##################################### | 100% \n",
      "conda-4.11.0         | 16.9 MB   | ##################################### | 100% \n",
      "python-dateutil-2.8. | 240 KB    | ##################################### | 100% \n",
      "Preparing transaction: done\n",
      "Verifying transaction: done\n",
      "Executing transaction: done\n",
      "Collecting package metadata (current_repodata.json): done\n",
      "Solving environment: done\n",
      "\n",
      "## Package Plan ##\n",
      "\n",
      "  environment location: /opt/conda\n",
      "\n",
      "  added / updated specs:\n",
      "    - seaborn\n",
      "\n",
      "\n",
      "The following packages will be downloaded:\n",
      "\n",
      "    package                    |            build\n",
      "    ---------------------------|-----------------\n",
      "    brotli-1.0.9               |       h7f98852_6          18 KB  conda-forge\n",
      "    brotli-bin-1.0.9           |       h7f98852_6          19 KB  conda-forge\n",
      "    cycler-0.11.0              |     pyhd8ed1ab_0          10 KB  conda-forge\n",
      "    fonttools-4.28.5           |   py38h497a2fe_0         1.6 MB  conda-forge\n",
      "    freetype-2.10.4            |       h0708190_1         890 KB  conda-forge\n",
      "    jbig-2.1                   |    h7f98852_2003          43 KB  conda-forge\n",
      "    jpeg-9d                    |       h36c2ea0_0         264 KB  conda-forge\n",
      "    kiwisolver-1.3.2           |   py38h1fd1430_1          80 KB  conda-forge\n",
      "    lcms2-2.12                 |       hddcbb42_0         443 KB  conda-forge\n",
      "    lerc-2.2.1                 |       h9c3ff4c_0         213 KB  conda-forge\n",
      "    libbrotlicommon-1.0.9      |       h7f98852_6          65 KB  conda-forge\n",
      "    libbrotlidec-1.0.9         |       h7f98852_6          33 KB  conda-forge\n",
      "    libbrotlienc-1.0.9         |       h7f98852_6         286 KB  conda-forge\n",
      "    libdeflate-1.7             |       h7f98852_5          67 KB  conda-forge\n",
      "    libpng-1.6.37              |       h21135ba_2         306 KB  conda-forge\n",
      "    libtiff-4.3.0              |       hf544144_1         668 KB  conda-forge\n",
      "    libwebp-base-1.2.2         |       h7f98852_0         858 KB  conda-forge\n",
      "    matplotlib-base-3.5.1      |   py38hf4fb855_0         7.4 MB  conda-forge\n",
      "    munkres-1.1.4              |     pyh9f0ad1d_0          12 KB  conda-forge\n",
      "    olefile-0.46               |     pyh9f0ad1d_1          32 KB  conda-forge\n",
      "    patsy-0.5.2                |     pyhd8ed1ab_0         188 KB  conda-forge\n",
      "    pillow-7.2.0               |   py38h9776b28_2         671 KB  conda-forge\n",
      "    seaborn-0.11.2             |       hd8ed1ab_0           4 KB  conda-forge\n",
      "    seaborn-base-0.11.2        |     pyhd8ed1ab_0         223 KB  conda-forge\n",
      "    statsmodels-0.13.1         |   py38h6c62de6_0        11.5 MB  conda-forge\n",
      "    unicodedata2-14.0.0        |   py38h497a2fe_0         504 KB  conda-forge\n",
      "    ------------------------------------------------------------\n",
      "                                           Total:        26.2 MB\n",
      "\n",
      "The following NEW packages will be INSTALLED:\n",
      "\n",
      "  brotli             conda-forge/linux-64::brotli-1.0.9-h7f98852_6\n",
      "  brotli-bin         conda-forge/linux-64::brotli-bin-1.0.9-h7f98852_6\n",
      "  cycler             conda-forge/noarch::cycler-0.11.0-pyhd8ed1ab_0\n",
      "  fonttools          conda-forge/linux-64::fonttools-4.28.5-py38h497a2fe_0\n",
      "  freetype           conda-forge/linux-64::freetype-2.10.4-h0708190_1\n",
      "  jbig               conda-forge/linux-64::jbig-2.1-h7f98852_2003\n",
      "  jpeg               conda-forge/linux-64::jpeg-9d-h36c2ea0_0\n",
      "  kiwisolver         conda-forge/linux-64::kiwisolver-1.3.2-py38h1fd1430_1\n",
      "  lcms2              conda-forge/linux-64::lcms2-2.12-hddcbb42_0\n",
      "  lerc               conda-forge/linux-64::lerc-2.2.1-h9c3ff4c_0\n",
      "  libbrotlicommon    conda-forge/linux-64::libbrotlicommon-1.0.9-h7f98852_6\n",
      "  libbrotlidec       conda-forge/linux-64::libbrotlidec-1.0.9-h7f98852_6\n",
      "  libbrotlienc       conda-forge/linux-64::libbrotlienc-1.0.9-h7f98852_6\n",
      "  libdeflate         conda-forge/linux-64::libdeflate-1.7-h7f98852_5\n",
      "  libpng             conda-forge/linux-64::libpng-1.6.37-h21135ba_2\n",
      "  libtiff            conda-forge/linux-64::libtiff-4.3.0-hf544144_1\n",
      "  libwebp-base       conda-forge/linux-64::libwebp-base-1.2.2-h7f98852_0\n",
      "  matplotlib-base    conda-forge/linux-64::matplotlib-base-3.5.1-py38hf4fb855_0\n",
      "  munkres            conda-forge/noarch::munkres-1.1.4-pyh9f0ad1d_0\n",
      "  olefile            conda-forge/noarch::olefile-0.46-pyh9f0ad1d_1\n",
      "  patsy              conda-forge/noarch::patsy-0.5.2-pyhd8ed1ab_0\n",
      "  pillow             conda-forge/linux-64::pillow-7.2.0-py38h9776b28_2\n",
      "  seaborn            conda-forge/noarch::seaborn-0.11.2-hd8ed1ab_0\n",
      "  seaborn-base       conda-forge/noarch::seaborn-base-0.11.2-pyhd8ed1ab_0\n",
      "  statsmodels        conda-forge/linux-64::statsmodels-0.13.1-py38h6c62de6_0\n",
      "  unicodedata2       conda-forge/linux-64::unicodedata2-14.0.0-py38h497a2fe_0\n",
      "\n",
      "\n",
      "\n",
      "Downloading and Extracting Packages\n",
      "fonttools-4.28.5     | 1.6 MB    | ##################################### | 100% \n",
      "pillow-7.2.0         | 671 KB    | ##################################### | 100% \n",
      "libwebp-base-1.2.2   | 858 KB    | ##################################### | 100% \n",
      "libpng-1.6.37        | 306 KB    | ##################################### | 100% \n",
      "matplotlib-base-3.5. | 7.4 MB    | ##################################### | 100% \n",
      "kiwisolver-1.3.2     | 80 KB     | ##################################### | 100% \n",
      "libbrotlienc-1.0.9   | 286 KB    | ##################################### | 100% \n",
      "cycler-0.11.0        | 10 KB     | ##################################### | 100% \n",
      "seaborn-0.11.2       | 4 KB      | ##################################### | 100% \n",
      "olefile-0.46         | 32 KB     | ##################################### | 100% \n",
      "libbrotlicommon-1.0. | 65 KB     | ##################################### | 100% \n",
      "munkres-1.1.4        | 12 KB     | ##################################### | 100% \n",
      "lerc-2.2.1           | 213 KB    | ##################################### | 100% \n",
      "jpeg-9d              | 264 KB    | ##################################### | 100% \n",
      "brotli-1.0.9         | 18 KB     | ##################################### | 100% \n",
      "freetype-2.10.4      | 890 KB    | ##################################### | 100% \n",
      "libdeflate-1.7       | 67 KB     | ##################################### | 100% \n",
      "libbrotlidec-1.0.9   | 33 KB     | ##################################### | 100% \n",
      "libtiff-4.3.0        | 668 KB    | ##################################### | 100% \n",
      "statsmodels-0.13.1   | 11.5 MB   | ##################################### | 100% \n",
      "patsy-0.5.2          | 188 KB    | ##################################### | 100% \n",
      "seaborn-base-0.11.2  | 223 KB    | ##################################### | 100% \n",
      "jbig-2.1             | 43 KB     | ##################################### | 100% \n",
      "lcms2-2.12           | 443 KB    | ##################################### | 100% \n",
      "brotli-bin-1.0.9     | 19 KB     | ##################################### | 100% \n",
      "unicodedata2-14.0.0  | 504 KB    | ##################################### | 100% \n",
      "Preparing transaction: done\n",
      "Verifying transaction: done\n",
      "Executing transaction: done\n"
     ]
    }
   ],
   "source": [
    "# Libraries\n",
    "import os\n",
    "import numpy as np\n",
    "!conda install --yes pandas \n",
    "import pandas as pd\n",
    "\n",
    "import cv2\n",
    "!conda install --yes seaborn \n",
    "import seaborn as sns\n",
    "\n",
    "import matplotlib.pyplot as plt\n",
    "%matplotlib inline\n",
    "\n",
    "from sklearn.model_selection import train_test_split\n",
    "from sklearn.metrics import classification_report\n",
    "from sklearn.metrics import confusion_matrix\n",
    "\n",
    "import torch \n",
    "import torch.nn as nn\n",
    "import torch.nn.functional as F\n",
    "import torchvision\n",
    "import torchvision.transforms as transforms\n",
    "from torch.utils.data import TensorDataset, DataLoader, Dataset"
   ]
  },
  {
   "cell_type": "code",
   "execution_count": null,
   "metadata": {
    "_cell_guid": "79c7e3d0-c299-4dcb-8224-4455121ee9b0",
    "_uuid": "d629ff2d2480ee46fbb7e2d37f6b5fab8052498a",
    "colab": {
     "base_uri": "https://localhost:8080/"
    },
    "executionInfo": {
     "elapsed": 1550643,
     "status": "ok",
     "timestamp": 1641930353443,
     "user": {
      "displayName": "Maxim Levit",
      "photoUrl": "https://lh3.googleusercontent.com/a-/AOh14Giwgt68QDbWFB9jocXOKnezo4YBZ-MoQCrQmMA=s64",
      "userId": "06991491534825156893"
     },
     "user_tz": -120
    },
    "gradient": {
     "editing": false,
     "execution_count": 2,
     "id": "5757e8f6-1ab5-4504-81f4-43fcfe4bb422",
     "kernelId": "333b5024-c52b-4c33-b852-f0f4966bb37b"
    },
    "id": "UNZPrEbxDcrn",
    "outputId": "60465ffe-9618-4be8-e3a0-65ac43e4ec27"
   },
   "outputs": [
    {
     "data": {
      "text/plain": [
       "277524"
      ]
     },
     "execution_count": 2,
     "metadata": {},
     "output_type": "execute_result"
    }
   ],
   "source": [
    "from glob import glob\n",
    "imagePatches = glob('IDC_regular_ps50_idx5/IDC_regular_ps50_idx5/**/*.png', recursive=True)\n",
    "len(imagePatches)"
   ]
  },
  {
   "cell_type": "code",
   "execution_count": null,
   "metadata": {
    "_uuid": "e8c6c579d1545b2de82440a0f5458c6479e520a9",
    "colab": {
     "base_uri": "https://localhost:8080/",
     "height": 53
    },
    "executionInfo": {
     "elapsed": 252,
     "status": "ok",
     "timestamp": 1641930432487,
     "user": {
      "displayName": "Maxim Levit",
      "photoUrl": "https://lh3.googleusercontent.com/a-/AOh14Giwgt68QDbWFB9jocXOKnezo4YBZ-MoQCrQmMA=s64",
      "userId": "06991491534825156893"
     },
     "user_tz": -120
    },
    "gradient": {
     "editing": false,
     "execution_count": 3,
     "id": "aa0aa8f3-a81e-440b-a665-1438ee9dc10d",
     "kernelId": "333b5024-c52b-4c33-b852-f0f4966bb37b"
    },
    "id": "flrn9qftDcro",
    "outputId": "c0c9ec58-abb7-4db5-bf13-9acd68336fd8"
   },
   "outputs": [
    {
     "data": {
      "text/plain": [
       "'IDC_regular_ps50_idx5/IDC_regular_ps50_idx5/12910/1/12910_idx5_x651_y201_class1.png'"
      ]
     },
     "execution_count": 3,
     "metadata": {},
     "output_type": "execute_result"
    }
   ],
   "source": [
    "imagePatches[0]"
   ]
  },
  {
   "cell_type": "code",
   "execution_count": null,
   "metadata": {
    "_uuid": "897952d56ed60f3acf6a8f26ca1cbfb11e36e6cd",
    "executionInfo": {
     "elapsed": 2,
     "status": "ok",
     "timestamp": 1641930436410,
     "user": {
      "displayName": "Maxim Levit",
      "photoUrl": "https://lh3.googleusercontent.com/a-/AOh14Giwgt68QDbWFB9jocXOKnezo4YBZ-MoQCrQmMA=s64",
      "userId": "06991491534825156893"
     },
     "user_tz": -120
    },
    "gradient": {
     "editing": false,
     "execution_count": 4,
     "id": "b3947e06-2409-4d7a-aeac-5fe15f1741bd",
     "kernelId": "333b5024-c52b-4c33-b852-f0f4966bb37b"
    },
    "id": "D9YAuyoGDcrp"
   },
   "outputs": [],
   "source": [
    "#import fnmatch\n",
    "#patternZero = '*class0.png'\n",
    "#patternOne = '*class1.png'\n",
    "#classZero = fnmatch.filter(imagePatches, patternZero)\n",
    "#classOne = fnmatch.filter(imagePatches, patternOne)"
   ]
  },
  {
   "cell_type": "code",
   "execution_count": null,
   "metadata": {
    "colab": {
     "base_uri": "https://localhost:8080/"
    },
    "executionInfo": {
     "elapsed": 4,
     "status": "ok",
     "timestamp": 1641930520424,
     "user": {
      "displayName": "Maxim Levit",
      "photoUrl": "https://lh3.googleusercontent.com/a-/AOh14Giwgt68QDbWFB9jocXOKnezo4YBZ-MoQCrQmMA=s64",
      "userId": "06991491534825156893"
     },
     "user_tz": -120
    },
    "gradient": {
     "editing": false,
     "execution_count": 5,
     "id": "0051da7f-5f55-4583-aeaa-360af93af760",
     "kernelId": "333b5024-c52b-4c33-b852-f0f4966bb37b"
    },
    "id": "uonV9ld5r2YQ",
    "outputId": "c8d718a5-fa33-4d55-bded-594c8625f8ca"
   },
   "outputs": [
    {
     "data": {
      "text/plain": [
       "True"
      ]
     },
     "execution_count": 5,
     "metadata": {},
     "output_type": "execute_result"
    }
   ],
   "source": [
    "torch.cuda.is_available()"
   ]
  },
  {
   "cell_type": "code",
   "execution_count": null,
   "metadata": {
    "_uuid": "106e488540fccc30076aa08381c3ba0236d07cef",
    "executionInfo": {
     "elapsed": 730821,
     "status": "ok",
     "timestamp": 1641931256521,
     "user": {
      "displayName": "Maxim Levit",
      "photoUrl": "https://lh3.googleusercontent.com/a-/AOh14Giwgt68QDbWFB9jocXOKnezo4YBZ-MoQCrQmMA=s64",
      "userId": "06991491534825156893"
     },
     "user_tz": -120
    },
    "gradient": {
     "editing": false,
     "execution_count": 6,
     "id": "42d53f12-7744-4d77-a5de-6363d60ffc6a",
     "kernelId": "333b5024-c52b-4c33-b852-f0f4966bb37b"
    },
    "id": "C3NEklHnDcrp"
   },
   "outputs": [
    {
     "data": {
      "text/html": [
       "<div>\n",
       "<style scoped>\n",
       "    .dataframe tbody tr th:only-of-type {\n",
       "        vertical-align: middle;\n",
       "    }\n",
       "\n",
       "    .dataframe tbody tr th {\n",
       "        vertical-align: top;\n",
       "    }\n",
       "\n",
       "    .dataframe thead th {\n",
       "        text-align: right;\n",
       "    }\n",
       "</style>\n",
       "<table border=\"1\" class=\"dataframe\">\n",
       "  <thead>\n",
       "    <tr style=\"text-align: right;\">\n",
       "      <th></th>\n",
       "      <th>images</th>\n",
       "      <th>labels</th>\n",
       "    </tr>\n",
       "  </thead>\n",
       "  <tbody>\n",
       "    <tr>\n",
       "      <th>0</th>\n",
       "      <td>IDC_regular_ps50_idx5/IDC_regular_ps50_idx5/12...</td>\n",
       "      <td>1</td>\n",
       "    </tr>\n",
       "    <tr>\n",
       "      <th>1</th>\n",
       "      <td>IDC_regular_ps50_idx5/IDC_regular_ps50_idx5/12...</td>\n",
       "      <td>1</td>\n",
       "    </tr>\n",
       "    <tr>\n",
       "      <th>2</th>\n",
       "      <td>IDC_regular_ps50_idx5/IDC_regular_ps50_idx5/12...</td>\n",
       "      <td>1</td>\n",
       "    </tr>\n",
       "    <tr>\n",
       "      <th>3</th>\n",
       "      <td>IDC_regular_ps50_idx5/IDC_regular_ps50_idx5/12...</td>\n",
       "      <td>1</td>\n",
       "    </tr>\n",
       "    <tr>\n",
       "      <th>4</th>\n",
       "      <td>IDC_regular_ps50_idx5/IDC_regular_ps50_idx5/12...</td>\n",
       "      <td>1</td>\n",
       "    </tr>\n",
       "  </tbody>\n",
       "</table>\n",
       "</div>"
      ],
      "text/plain": [
       "                                              images  labels\n",
       "0  IDC_regular_ps50_idx5/IDC_regular_ps50_idx5/12...       1\n",
       "1  IDC_regular_ps50_idx5/IDC_regular_ps50_idx5/12...       1\n",
       "2  IDC_regular_ps50_idx5/IDC_regular_ps50_idx5/12...       1\n",
       "3  IDC_regular_ps50_idx5/IDC_regular_ps50_idx5/12...       1\n",
       "4  IDC_regular_ps50_idx5/IDC_regular_ps50_idx5/12...       1"
      ]
     },
     "execution_count": 6,
     "metadata": {},
     "output_type": "execute_result"
    }
   ],
   "source": [
    "\n",
    "z=[]\n",
    "x=[]\n",
    "X=[]\n",
    "y=[]\n",
    "Y=[]\n",
    "ID=[]\n",
    "cl=[]\n",
    "labels=[]\n",
    "Num_Folder=[]\n",
    "matrix=[] #define empty matrix\n",
    "i=0\n",
    "for img in imagePatches:\n",
    "    \n",
    "    imagePatches1=imagePatches[i].split(\"/\")\n",
    "    #print(imagePatches1)\n",
    "    imagePatches2=imagePatches1[4].split(\"_\")\n",
    "    #print(imagePatches2)\n",
    "    x=imagePatches2[2].split(\"x\")\n",
    "    x=x[1]\n",
    "    #print(x)\n",
    "    y=imagePatches2[3].split(\"y\")\n",
    "    y=y[1]\n",
    "    #print(y)\n",
    "    labels=imagePatches2[4].split(\".png\")\n",
    "    cl=labels[0]\n",
    "   \n",
    "    if cl=='class0':\n",
    "        cl=0\n",
    "    elif cl=='class1':\n",
    "         cl=1\n",
    "        \n",
    "    ID=imagePatches2[1]\n",
    "    Num_Folder=imagePatches2[0]\n",
    "    images=imagePatches[i]\n",
    "    #X=[Num_Folder,ID,x,y,images,cl]\n",
    "    X=[images,cl]\n",
    "     \n",
    "    matrix.append(X) #add fully defined column into the row\n",
    "    #z = []\n",
    "    #if img in classZero:\n",
    "        #z.append(0)\n",
    "    #elif img in classOne:\n",
    "       # z.append(1)\n",
    "    i=i+1\n",
    "#column_names=[\"Num_Folder\",\"ID\",\"x\",\"y\",\"images\",\"labels\"]\n",
    "column_names=[\"images\",\"labels\"]\n",
    "images_df = pd.DataFrame(matrix,columns=column_names)\n",
    "images_df.head()\n",
    "#images_df.to_csv(r'dataset.csv', index = False)\n",
    "\n"
   ]
  },
  {
   "cell_type": "code",
   "execution_count": null,
   "metadata": {
    "_uuid": "bf791fae50824823380aa2c3cab7333880109853",
    "colab": {
     "base_uri": "https://localhost:8080/"
    },
    "executionInfo": {
     "elapsed": 321,
     "status": "ok",
     "timestamp": 1641931502918,
     "user": {
      "displayName": "Maxim Levit",
      "photoUrl": "https://lh3.googleusercontent.com/a-/AOh14Giwgt68QDbWFB9jocXOKnezo4YBZ-MoQCrQmMA=s64",
      "userId": "06991491534825156893"
     },
     "user_tz": -120
    },
    "gradient": {
     "editing": false,
     "execution_count": 7,
     "id": "4e390707-997b-44fd-97a7-970046cb4031",
     "kernelId": "333b5024-c52b-4c33-b852-f0f4966bb37b"
    },
    "id": "cTlAuHeoDcrs",
    "outputId": "e517586d-f3be-4d71-8aa1-063eb30fd1cd"
   },
   "outputs": [
    {
     "data": {
      "text/plain": [
       "labels\n",
       "0    198738\n",
       "1     78786\n",
       "Name: labels, dtype: int64"
      ]
     },
     "execution_count": 7,
     "metadata": {},
     "output_type": "execute_result"
    }
   ],
   "source": [
    "images_df.groupby(['labels'])['labels'].count()"
   ]
  },
  {
   "cell_type": "code",
   "execution_count": null,
   "metadata": {
    "_uuid": "5b2bfe3dbeec54a5001834ea96ec0e24085f4cbf",
    "colab": {
     "base_uri": "https://localhost:8080/"
    },
    "executionInfo": {
     "elapsed": 2,
     "status": "ok",
     "timestamp": 1641931505768,
     "user": {
      "displayName": "Maxim Levit",
      "photoUrl": "https://lh3.googleusercontent.com/a-/AOh14Giwgt68QDbWFB9jocXOKnezo4YBZ-MoQCrQmMA=s64",
      "userId": "06991491534825156893"
     },
     "user_tz": -120
    },
    "gradient": {
     "editing": false,
     "execution_count": 8,
     "id": "d13cc3a6-a1b8-47bc-9b6e-8644f4094451",
     "kernelId": "333b5024-c52b-4c33-b852-f0f4966bb37b"
    },
    "id": "cTbNNWPZDcrs",
    "outputId": "36c70da7-05eb-4119-faa3-c63829b39864"
   },
   "outputs": [
    {
     "data": {
      "text/plain": [
       "(222019, 55505)"
      ]
     },
     "execution_count": 8,
     "metadata": {},
     "output_type": "execute_result"
    }
   ],
   "source": [
    "#Splitting data into train and val\n",
    "train, val = train_test_split(images_df, stratify=images_df.labels, test_size=0.2)\n",
    "len(train), len(val)"
   ]
  },
  {
   "cell_type": "code",
   "execution_count": null,
   "metadata": {
    "_uuid": "c7d4df9265cf87377ec865636ae31567e05a33cb",
    "executionInfo": {
     "elapsed": 2,
     "status": "ok",
     "timestamp": 1641931509398,
     "user": {
      "displayName": "Maxim Levit",
      "photoUrl": "https://lh3.googleusercontent.com/a-/AOh14Giwgt68QDbWFB9jocXOKnezo4YBZ-MoQCrQmMA=s64",
      "userId": "06991491534825156893"
     },
     "user_tz": -120
    },
    "gradient": {
     "editing": false,
     "execution_count": 9,
     "id": "f9e4ea62-10a6-4c45-bfd0-20c1425d9893",
     "kernelId": "333b5024-c52b-4c33-b852-f0f4966bb37b"
    },
    "id": "G17PytGJDcrt"
   },
   "outputs": [],
   "source": [
    "class MyDataset(Dataset):\n",
    "    def __init__(self, df_data,transform=None):\n",
    "        super().__init__()\n",
    "        self.df = df_data.values\n",
    "        \n",
    "        self.transform = transform\n",
    "\n",
    "    def __len__(self):\n",
    "        return len(self.df)\n",
    "    \n",
    "    def __getitem__(self, index):\n",
    "        img_path,label = self.df[index]\n",
    "        \n",
    "        image = cv2.imread(img_path)\n",
    "        image = cv2.resize(image, (50,50))\n",
    "        if self.transform is not None:\n",
    "            image = self.transform(image)\n",
    "        return image, label"
   ]
  },
  {
   "cell_type": "code",
   "execution_count": null,
   "metadata": {
    "_uuid": "9517232a2dccf9405ec8da24a9884342a513ffff",
    "colab": {
     "base_uri": "https://localhost:8080/",
     "height": 35
    },
    "executionInfo": {
     "elapsed": 255,
     "status": "ok",
     "timestamp": 1641941184281,
     "user": {
      "displayName": "Maxim Levit",
      "photoUrl": "https://lh3.googleusercontent.com/a-/AOh14Giwgt68QDbWFB9jocXOKnezo4YBZ-MoQCrQmMA=s64",
      "userId": "06991491534825156893"
     },
     "user_tz": -120
    },
    "gradient": {
     "editing": false,
     "execution_count": 10,
     "id": "e396dc3a-5e87-49e9-ad70-b71379ee26ee",
     "kernelId": "333b5024-c52b-4c33-b852-f0f4966bb37b"
    },
    "id": "NR4Ysc8lDcrt",
    "outputId": "dd60cf74-28ee-4919-e6c9-2c5be7e8461a"
   },
   "outputs": [
    {
     "data": {
      "text/plain": [
       "'Quadro M4000'"
      ]
     },
     "execution_count": 10,
     "metadata": {},
     "output_type": "execute_result"
    }
   ],
   "source": [
    "## Parameters for model\n",
    "\n",
    "# Hyper parameters\n",
    "num_epochs = 10\n",
    "num_classes = 2\n",
    "batch_size = 128\n",
    "learning_rate = 0.002\n",
    "\n",
    "# Device configuration\n",
    "device = torch.device(\"cuda:0\" if torch.cuda.is_available() else \"cpu\")\n",
    "torch.cuda.get_device_name(0)"
   ]
  },
  {
   "cell_type": "code",
   "execution_count": null,
   "metadata": {
    "_uuid": "50afc41fe1b9c6bdf12feb6315588f667f174854",
    "executionInfo": {
     "elapsed": 1,
     "status": "ok",
     "timestamp": 1641941185721,
     "user": {
      "displayName": "Maxim Levit",
      "photoUrl": "https://lh3.googleusercontent.com/a-/AOh14Giwgt68QDbWFB9jocXOKnezo4YBZ-MoQCrQmMA=s64",
      "userId": "06991491534825156893"
     },
     "user_tz": -120
    },
    "gradient": {
     "editing": false,
     "execution_count": 11,
     "id": "e9708cd3-24e2-4a76-bb46-e6a93468238e",
     "kernelId": "333b5024-c52b-4c33-b852-f0f4966bb37b"
    },
    "id": "7WU1mdQLDcru"
   },
   "outputs": [],
   "source": [
    "trans_train = transforms.Compose([transforms.ToPILImage(),\n",
    "                                  transforms.Pad(64, padding_mode='reflect'),\n",
    "                                  transforms.RandomHorizontalFlip(), \n",
    "                                  transforms.RandomVerticalFlip(),\n",
    "                                  transforms.RandomRotation(20), \n",
    "                                  transforms.ToTensor(),\n",
    "                                  transforms.Normalize(mean=[0.5, 0.5, 0.5],std=[0.5, 0.5, 0.5])])\n",
    "\n",
    "trans_valid = transforms.Compose([transforms.ToPILImage(),\n",
    "                                  transforms.Pad(64, padding_mode='reflect'),\n",
    "                                  transforms.ToTensor(),\n",
    "                                  transforms.Normalize(mean=[0.5, 0.5, 0.5],std=[0.5, 0.5, 0.5])])\n",
    "\n",
    "dataset_train = MyDataset(df_data=train, transform=trans_train)\n",
    "dataset_valid = MyDataset(df_data=val,transform=trans_valid)\n",
    "\n",
    "loader_train = DataLoader(dataset = dataset_train, batch_size=batch_size, shuffle=True, num_workers=0)\n",
    "loader_valid = DataLoader(dataset = dataset_valid, batch_size=batch_size//2, shuffle=False, num_workers=0)"
   ]
  },
  {
   "cell_type": "code",
   "execution_count": null,
   "metadata": {
    "_uuid": "e15f2ad345704c1fe3ee6012287d22113ef70a7b",
    "executionInfo": {
     "elapsed": 2,
     "status": "ok",
     "timestamp": 1641941189539,
     "user": {
      "displayName": "Maxim Levit",
      "photoUrl": "https://lh3.googleusercontent.com/a-/AOh14Giwgt68QDbWFB9jocXOKnezo4YBZ-MoQCrQmMA=s64",
      "userId": "06991491534825156893"
     },
     "user_tz": -120
    },
    "gradient": {
     "editing": false,
     "execution_count": 12,
     "id": "0b8e9e5e-7c1d-495d-b078-7e036b9e6e83",
     "kernelId": "333b5024-c52b-4c33-b852-f0f4966bb37b"
    },
    "id": "JkTh4-QiDcru"
   },
   "outputs": [],
   "source": [
    "class SimpleCNN(nn.Module):\n",
    "    def __init__(self):\n",
    "        # ancestor constructor call\n",
    "        super(SimpleCNN, self).__init__()\n",
    "        self.conv1 = nn.Conv2d(in_channels=3, out_channels=32, kernel_size=3, padding=2)\n",
    "        self.conv2 = nn.Conv2d(in_channels=32, out_channels=64, kernel_size=3, padding=2)\n",
    "        self.conv3 = nn.Conv2d(in_channels=64, out_channels=128, kernel_size=3, padding=2)\n",
    "        self.conv4 = nn.Conv2d(in_channels=128, out_channels=256, kernel_size=3, padding=2)\n",
    "        self.conv5 = nn.Conv2d(in_channels=256, out_channels=512, kernel_size=3, padding=2)\n",
    "        self.bn1 = nn.BatchNorm2d(32)\n",
    "        self.bn2 = nn.BatchNorm2d(64)\n",
    "        self.bn3 = nn.BatchNorm2d(128)\n",
    "        self.bn4 = nn.BatchNorm2d(256)\n",
    "        self.bn5 = nn.BatchNorm2d(512)\n",
    "        self.pool = nn.MaxPool2d(kernel_size=2, stride=2)\n",
    "        self.avg = nn.AvgPool2d(7)\n",
    "        self.fc = nn.Linear(512 * 1 * 1, 2) # !!!\n",
    "        \n",
    "    def forward(self, x):\n",
    "        x = self.pool(F.leaky_relu(self.bn1(self.conv1(x)))) # first convolutional layer then batchnorm, then activation then pooling layer.\n",
    "        x = self.pool(F.leaky_relu(self.bn2(self.conv2(x))))\n",
    "        x = self.pool(F.leaky_relu(self.bn3(self.conv3(x))))\n",
    "        x = self.pool(F.leaky_relu(self.bn4(self.conv4(x))))\n",
    "        x = self.pool(F.leaky_relu(self.bn5(self.conv5(x))))\n",
    "        x = self.avg(x)\n",
    "        #print(x.shape) # lifehack to find out the correct dimension for the Linear Layer\n",
    "        x = x.view(-1, 512 * 1 * 1) # !!!\n",
    "        x = self.fc(x)\n",
    "        return x"
   ]
  },
  {
   "cell_type": "code",
   "execution_count": null,
   "metadata": {
    "_uuid": "0360156820e79f956b33e9fcc10bd3335fc395f5",
    "executionInfo": {
     "elapsed": 237,
     "status": "ok",
     "timestamp": 1641941194402,
     "user": {
      "displayName": "Maxim Levit",
      "photoUrl": "https://lh3.googleusercontent.com/a-/AOh14Giwgt68QDbWFB9jocXOKnezo4YBZ-MoQCrQmMA=s64",
      "userId": "06991491534825156893"
     },
     "user_tz": -120
    },
    "gradient": {
     "editing": false,
     "execution_count": 13,
     "id": "44b7ef95-04b8-46a5-9059-a09d542c1dc0",
     "kernelId": "333b5024-c52b-4c33-b852-f0f4966bb37b"
    },
    "id": "t_ncZhmEDcru"
   },
   "outputs": [],
   "source": [
    "model = SimpleCNN().to(device)"
   ]
  },
  {
   "cell_type": "code",
   "execution_count": null,
   "metadata": {
    "_uuid": "9e2051afd6bc198da29d20c77fb2082169a930af",
    "executionInfo": {
     "elapsed": 2,
     "status": "ok",
     "timestamp": 1641941195518,
     "user": {
      "displayName": "Maxim Levit",
      "photoUrl": "https://lh3.googleusercontent.com/a-/AOh14Giwgt68QDbWFB9jocXOKnezo4YBZ-MoQCrQmMA=s64",
      "userId": "06991491534825156893"
     },
     "user_tz": -120
    },
    "gradient": {
     "editing": false,
     "execution_count": 14,
     "id": "7c412628-fb7c-406f-bbd9-2b49b298ab0c",
     "kernelId": "333b5024-c52b-4c33-b852-f0f4966bb37b"
    },
    "id": "WQjiI_P7Dcrv"
   },
   "outputs": [],
   "source": [
    "# Loss and optimizer\n",
    "criterion = nn.CrossEntropyLoss()\n",
    "optimizer = torch.optim.Adamax(model.parameters(), lr=learning_rate)"
   ]
  },
  {
   "cell_type": "code",
   "execution_count": null,
   "metadata": {
    "_uuid": "1075be6e0d1c18d34fa1f0b1dd0ff28ffa93a4f9",
    "colab": {
     "base_uri": "https://localhost:8080/"
    },
    "gradient": {
     "editing": false,
     "execution_count": 15,
     "id": "ab235353-19eb-467e-a57b-f1c4759bf7a1",
     "kernelId": "333b5024-c52b-4c33-b852-f0f4966bb37b"
    },
    "id": "SRtkSkwsDcrv",
    "outputId": "a2167e04-e0ec-4396-cf06-5890c246e9bd"
   },
   "outputs": [
    {
     "name": "stdout",
     "output_type": "stream",
     "text": [
      "Epoch [1/10], Step [100/1735], Loss: 0.4188,Int100_time:0.8878546039263407 min\n",
      "Epoch [1/10], Step [200/1735], Loss: 0.3170,Int100_time:1.7149613897005718 min\n",
      "Epoch [1/10], Step [300/1735], Loss: 0.2498,Int100_time:2.5587140679359437 min\n",
      "Epoch [1/10], Step [400/1735], Loss: 0.3101,Int100_time:3.403786067167918 min\n",
      "Epoch [1/10], Step [500/1735], Loss: 0.3146,Int100_time:4.255747103691101 min\n",
      "Epoch [1/10], Step [600/1735], Loss: 0.3419,Int100_time:5.102215103308359 min\n",
      "Epoch [1/10], Step [700/1735], Loss: 0.3387,Int100_time:5.948793379465739 min\n",
      "Epoch [1/10], Step [800/1735], Loss: 0.2369,Int100_time:6.798520211378733 min\n",
      "Epoch [1/10], Step [900/1735], Loss: 0.3310,Int100_time:7.653374099731446 min\n",
      "Epoch [1/10], Step [1000/1735], Loss: 0.2879,Int100_time:8.501130823294321 min\n",
      "Epoch [1/10], Step [1100/1735], Loss: 0.3886,Int100_time:9.419687032699585 min\n",
      "Epoch [1/10], Step [1200/1735], Loss: 0.2302,Int100_time:10.285756413141886 min\n",
      "Epoch [1/10], Step [1300/1735], Loss: 0.3346,Int100_time:11.478717935085296 min\n",
      "Epoch [1/10], Step [1400/1735], Loss: 0.3574,Int100_time:12.333330527941387 min\n",
      "Epoch [1/10], Step [1500/1735], Loss: 0.3740,Int100_time:13.182926849524181 min\n",
      "Epoch [1/10], Step [1600/1735], Loss: 0.3227,Int100_time:14.040768003463745 min\n",
      "Epoch [1/10], Step [1700/1735], Loss: 0.3305,Int100_time:14.892951703071594 min\n",
      "Epoch [1],Loss: 0.3354,Epoch_time:15.195220577716828 min\n",
      "Epoch [2/10], Step [100/1735], Loss: 0.3021,Int100_time:0.786089547475179 min\n",
      "Epoch [2/10], Step [200/1735], Loss: 0.2750,Int100_time:1.573978102207184 min\n",
      "Epoch [2/10], Step [300/1735], Loss: 0.3133,Int100_time:2.372271541754405 min\n",
      "Epoch [2/10], Step [400/1735], Loss: 0.3174,Int100_time:3.1852458238601686 min\n",
      "Epoch [2/10], Step [500/1735], Loss: 0.2441,Int100_time:4.010439491271972 min\n",
      "Epoch [2/10], Step [600/1735], Loss: 0.2455,Int100_time:4.849925172328949 min\n",
      "Epoch [2/10], Step [700/1735], Loss: 0.3104,Int100_time:5.686648921171824 min\n",
      "Epoch [2/10], Step [800/1735], Loss: 0.3059,Int100_time:6.523955810070038 min\n",
      "Epoch [2/10], Step [900/1735], Loss: 0.3433,Int100_time:7.360507233937581 min\n",
      "Epoch [2/10], Step [1000/1735], Loss: 0.2922,Int100_time:8.212390498320262 min\n",
      "Epoch [2/10], Step [1100/1735], Loss: 0.3782,Int100_time:9.05919314622879 min\n",
      "Epoch [2/10], Step [1200/1735], Loss: 0.4049,Int100_time:9.920529623826345 min\n",
      "Epoch [2/10], Step [1300/1735], Loss: 0.2794,Int100_time:10.756538558006287 min\n",
      "Epoch [2/10], Step [1400/1735], Loss: 0.2404,Int100_time:11.596665600935617 min\n",
      "Epoch [2/10], Step [1500/1735], Loss: 0.2821,Int100_time:12.441759669780732 min\n",
      "Epoch [2/10], Step [1600/1735], Loss: 0.3481,Int100_time:13.304174625873566 min\n",
      "Epoch [2/10], Step [1700/1735], Loss: 0.2975,Int100_time:14.150471679369609 min\n",
      "Epoch [2],Loss: 0.3396,Epoch_time:29.64121123949687 min\n",
      "Epoch [3/10], Step [100/1735], Loss: 0.3787,Int100_time:0.7856664220492046 min\n",
      "Epoch [3/10], Step [200/1735], Loss: 0.2243,Int100_time:1.573351534207662 min\n",
      "Epoch [3/10], Step [300/1735], Loss: 0.2904,Int100_time:2.3677964051564535 min\n",
      "Epoch [3/10], Step [400/1735], Loss: 0.2648,Int100_time:3.1858524044354755 min\n",
      "Epoch [3/10], Step [500/1735], Loss: 0.2408,Int100_time:4.029130951563517 min\n",
      "Epoch [3/10], Step [600/1735], Loss: 0.2734,Int100_time:4.884046498934428 min\n",
      "Epoch [3/10], Step [700/1735], Loss: 0.3355,Int100_time:5.724383656183878 min\n",
      "Epoch [3/10], Step [800/1735], Loss: 0.2401,Int100_time:6.564483777681986 min\n",
      "Epoch [3/10], Step [900/1735], Loss: 0.3922,Int100_time:7.420428093274435 min\n",
      "Epoch [3/10], Step [1000/1735], Loss: 0.2768,Int100_time:8.269236207008362 min\n",
      "Epoch [3/10], Step [1100/1735], Loss: 0.2994,Int100_time:9.115548133850098 min\n",
      "Epoch [3/10], Step [1200/1735], Loss: 0.2365,Int100_time:9.965183766682943 min\n",
      "Epoch [3/10], Step [1300/1735], Loss: 0.2493,Int100_time:10.808515115578968 min\n",
      "Epoch [3/10], Step [1400/1735], Loss: 0.2630,Int100_time:11.652203965187073 min\n",
      "Epoch [3/10], Step [1500/1735], Loss: 0.2664,Int100_time:12.512171904246012 min\n",
      "Epoch [3/10], Step [1600/1735], Loss: 0.3317,Int100_time:13.396193226178488 min\n",
      "Epoch [3/10], Step [1700/1735], Loss: 0.2184,Int100_time:14.29484140475591 min\n",
      "Epoch [3],Loss: 0.2552,Epoch_time:44.272098028659826 min\n",
      "Epoch [4/10], Step [100/1735], Loss: 0.3261,Int100_time:0.8219684481620788 min\n",
      "Epoch [4/10], Step [200/1735], Loss: 0.2407,Int100_time:1.6131939888000488 min\n",
      "Epoch [4/10], Step [300/1735], Loss: 0.2149,Int100_time:2.40910781621933 min\n",
      "Epoch [4/10], Step [400/1735], Loss: 0.3303,Int100_time:3.220010844866435 min\n",
      "Epoch [4/10], Step [500/1735], Loss: 0.2716,Int100_time:4.059326497713725 min\n",
      "Epoch [4/10], Step [600/1735], Loss: 0.2499,Int100_time:4.894063945611318 min\n",
      "Epoch [4/10], Step [700/1735], Loss: 0.2170,Int100_time:5.729501370588938 min\n",
      "Epoch [4/10], Step [800/1735], Loss: 0.2530,Int100_time:6.564095143477122 min\n",
      "Epoch [4/10], Step [900/1735], Loss: 0.2329,Int100_time:7.409534974892934 min\n",
      "Epoch [4/10], Step [1000/1735], Loss: 0.3433,Int100_time:8.244696692625682 min\n",
      "Epoch [4/10], Step [1100/1735], Loss: 0.1912,Int100_time:9.085034720102946 min\n",
      "Epoch [4/10], Step [1200/1735], Loss: 0.3500,Int100_time:9.92295156319936 min\n",
      "Epoch [4/10], Step [1300/1735], Loss: 0.2222,Int100_time:10.755858357747396 min\n",
      "Epoch [4/10], Step [1400/1735], Loss: 0.2828,Int100_time:11.593491737047831 min\n",
      "Epoch [4/10], Step [1500/1735], Loss: 0.2361,Int100_time:12.426873433589936 min\n",
      "Epoch [4/10], Step [1600/1735], Loss: 0.2724,Int100_time:13.269895386695861 min\n",
      "Epoch [4/10], Step [1700/1735], Loss: 0.2410,Int100_time:14.117456106344859 min\n",
      "Epoch [4],Loss: 0.2658,Epoch_time:58.68419671853384 min\n",
      "Epoch [5/10], Step [100/1735], Loss: 0.2182,Int100_time:0.7852956016858419 min\n",
      "Epoch [5/10], Step [200/1735], Loss: 0.2600,Int100_time:1.5869651516278585 min\n",
      "Epoch [5/10], Step [300/1735], Loss: 0.2636,Int100_time:2.3875326474507648 min\n",
      "Epoch [5/10], Step [400/1735], Loss: 0.2595,Int100_time:3.2033430178960165 min\n",
      "Epoch [5/10], Step [500/1735], Loss: 0.1803,Int100_time:4.040336859226227 min\n",
      "Epoch [5/10], Step [600/1735], Loss: 0.2455,Int100_time:4.869964285691579 min\n",
      "Epoch [5/10], Step [700/1735], Loss: 0.2130,Int100_time:5.702321271101634 min\n",
      "Epoch [5/10], Step [800/1735], Loss: 0.2909,Int100_time:6.536650037765503 min\n",
      "Epoch [5/10], Step [900/1735], Loss: 0.2826,Int100_time:7.370697100957234 min\n",
      "Epoch [5/10], Step [1000/1735], Loss: 0.1892,Int100_time:8.209091405073801 min\n",
      "Epoch [5/10], Step [1100/1735], Loss: 0.2823,Int100_time:9.04297446012497 min\n",
      "Epoch [5/10], Step [1200/1735], Loss: 0.2349,Int100_time:9.881782933076222 min\n",
      "Epoch [5/10], Step [1300/1735], Loss: 0.2448,Int100_time:10.727734486262003 min\n",
      "Epoch [5/10], Step [1400/1735], Loss: 0.1698,Int100_time:11.561360049247742 min\n",
      "Epoch [5/10], Step [1500/1735], Loss: 0.2427,Int100_time:12.384617265065511 min\n",
      "Epoch [5/10], Step [1600/1735], Loss: 0.2221,Int100_time:13.215050661563874 min\n",
      "Epoch [5/10], Step [1700/1735], Loss: 0.2467,Int100_time:14.051819360256195 min\n",
      "Epoch [5],Loss: 0.2040,Epoch_time:73.02876634200415 min\n",
      "Epoch [6/10], Step [100/1735], Loss: 0.2382,Int100_time:0.784864087899526 min\n",
      "Epoch [6/10], Step [200/1735], Loss: 0.2660,Int100_time:1.5729460795720418 min\n",
      "Epoch [6/10], Step [300/1735], Loss: 0.2191,Int100_time:2.373958647251129 min\n",
      "Epoch [6/10], Step [400/1735], Loss: 0.3098,Int100_time:3.1894936561584473 min\n",
      "Epoch [6/10], Step [500/1735], Loss: 0.2036,Int100_time:4.029836515585582 min\n",
      "Epoch [6/10], Step [600/1735], Loss: 0.2425,Int100_time:4.888041361172994 min\n",
      "Epoch [6/10], Step [700/1735], Loss: 0.2683,Int100_time:5.736186401049296 min\n",
      "Epoch [6/10], Step [800/1735], Loss: 0.2210,Int100_time:6.582499372959137 min\n",
      "Epoch [6/10], Step [900/1735], Loss: 0.2491,Int100_time:7.43493758837382 min\n",
      "Epoch [6/10], Step [1000/1735], Loss: 0.2825,Int100_time:8.273227723439534 min\n",
      "Epoch [6/10], Step [1100/1735], Loss: 0.2700,Int100_time:9.11107416152954 min\n",
      "Epoch [6/10], Step [1200/1735], Loss: 0.2344,Int100_time:9.94933545589447 min\n",
      "Epoch [6/10], Step [1300/1735], Loss: 0.3111,Int100_time:10.787600270907085 min\n",
      "Epoch [6/10], Step [1400/1735], Loss: 0.2760,Int100_time:11.629567074775697 min\n",
      "Epoch [6/10], Step [1500/1735], Loss: 0.2839,Int100_time:12.470918854077658 min\n",
      "Epoch [6/10], Step [1600/1735], Loss: 0.2570,Int100_time:13.312543296813965 min\n",
      "Epoch [6/10], Step [1700/1735], Loss: 0.2771,Int100_time:14.15401359796524 min\n",
      "Epoch [6],Loss: 0.2887,Epoch_time:87.4759978890419 min\n",
      "Epoch [7/10], Step [100/1735], Loss: 0.1979,Int100_time:0.7875589807828267 min\n",
      "Epoch [7/10], Step [200/1735], Loss: 0.3298,Int100_time:1.5785917202631632 min\n",
      "Epoch [7/10], Step [300/1735], Loss: 0.2622,Int100_time:2.377706793944041 min\n",
      "Epoch [7/10], Step [400/1735], Loss: 0.3001,Int100_time:3.1944047808647156 min\n",
      "Epoch [7/10], Step [500/1735], Loss: 0.2822,Int100_time:4.029077998797098 min\n",
      "Epoch [7/10], Step [600/1735], Loss: 0.2519,Int100_time:4.8681857546170555 min\n",
      "Epoch [7/10], Step [700/1735], Loss: 0.2359,Int100_time:5.715504145622253 min\n",
      "Epoch [7/10], Step [800/1735], Loss: 0.2392,Int100_time:6.563915276527405 min\n",
      "Epoch [7/10], Step [900/1735], Loss: 0.2700,Int100_time:7.405523061752319 min\n",
      "Epoch [7/10], Step [1000/1735], Loss: 0.1952,Int100_time:8.243775753180186 min\n",
      "Epoch [7/10], Step [1100/1735], Loss: 0.1755,Int100_time:9.082872076829274 min\n",
      "Epoch [7/10], Step [1200/1735], Loss: 0.2027,Int100_time:9.925115863482157 min\n",
      "Epoch [7/10], Step [1300/1735], Loss: 0.3047,Int100_time:10.762649420897166 min\n",
      "Epoch [7/10], Step [1400/1735], Loss: 0.2958,Int100_time:11.616074081261953 min\n",
      "Epoch [7/10], Step [1500/1735], Loss: 0.2081,Int100_time:12.481184418996175 min\n",
      "Epoch [7/10], Step [1600/1735], Loss: 0.2880,Int100_time:13.326291426022847 min\n",
      "Epoch [7/10], Step [1700/1735], Loss: 0.2285,Int100_time:14.172778805096945 min\n",
      "Epoch [7],Loss: 0.2478,Epoch_time:101.94660090208055 min\n",
      "Epoch [8/10], Step [100/1735], Loss: 0.2597,Int100_time:0.7840359171231588 min\n",
      "Epoch [8/10], Step [200/1735], Loss: 0.2051,Int100_time:1.5754008134206137 min\n",
      "Epoch [8/10], Step [300/1735], Loss: 0.1735,Int100_time:2.3750083446502686 min\n",
      "Epoch [8/10], Step [400/1735], Loss: 0.2397,Int100_time:3.1849889238675435 min\n",
      "Epoch [8/10], Step [500/1735], Loss: 0.1968,Int100_time:4.018500832716624 min\n",
      "Epoch [8/10], Step [600/1735], Loss: 0.2544,Int100_time:4.868461159865062 min\n",
      "Epoch [8/10], Step [700/1735], Loss: 0.2611,Int100_time:5.722297942638397 min\n",
      "Epoch [8/10], Step [800/1735], Loss: 0.1994,Int100_time:6.5582708040873205 min\n",
      "Epoch [8/10], Step [900/1735], Loss: 0.2347,Int100_time:7.401893560091654 min\n",
      "Epoch [8/10], Step [1000/1735], Loss: 0.1268,Int100_time:8.246736482779186 min\n",
      "Epoch [8/10], Step [1100/1735], Loss: 0.2279,Int100_time:9.088579893112183 min\n",
      "Epoch [8/10], Step [1200/1735], Loss: 0.1744,Int100_time:9.9382732073466 min\n",
      "Epoch [8/10], Step [1300/1735], Loss: 0.2345,Int100_time:10.777553530534108 min\n",
      "Epoch [8/10], Step [1400/1735], Loss: 0.1588,Int100_time:11.622091376781464 min\n",
      "Epoch [8/10], Step [1500/1735], Loss: 0.2410,Int100_time:12.48616691827774 min\n",
      "Epoch [8/10], Step [1600/1735], Loss: 0.2268,Int100_time:13.33737055460612 min\n",
      "Epoch [8/10], Step [1700/1735], Loss: 0.2213,Int100_time:14.176557807127635 min\n",
      "Epoch [8],Loss: 0.2375,Epoch_time:116.42224477529527 min\n",
      "Epoch [9/10], Step [100/1735], Loss: 0.1815,Int100_time:0.7829396605491639 min\n",
      "Epoch [9/10], Step [200/1735], Loss: 0.2381,Int100_time:1.5718167225519817 min\n",
      "Epoch [9/10], Step [300/1735], Loss: 0.1923,Int100_time:2.368218473593394 min\n",
      "Epoch [9/10], Step [400/1735], Loss: 0.1878,Int100_time:3.1837539394696552 min\n",
      "Epoch [9/10], Step [500/1735], Loss: 0.3004,Int100_time:4.011097939809163 min\n",
      "Epoch [9/10], Step [600/1735], Loss: 0.2665,Int100_time:4.852091983954112 min\n",
      "Epoch [9/10], Step [700/1735], Loss: 0.3102,Int100_time:6.3371161381403605 min\n",
      "Epoch [9/10], Step [800/1735], Loss: 0.2114,Int100_time:8.348097721735636 min\n",
      "Epoch [9/10], Step [900/1735], Loss: 0.1776,Int100_time:10.168876000245412 min\n",
      "Epoch [9/10], Step [1000/1735], Loss: 0.2376,Int100_time:11.153699382146199 min\n",
      "Epoch [9/10], Step [1100/1735], Loss: 0.2160,Int100_time:12.389283740520478 min\n",
      "Epoch [9/10], Step [1200/1735], Loss: 0.2650,Int100_time:13.235566000143686 min\n",
      "Epoch [9/10], Step [1300/1735], Loss: 0.1881,Int100_time:14.072587855656941 min\n",
      "Epoch [9/10], Step [1400/1735], Loss: 0.2458,Int100_time:14.935933597882588 min\n",
      "Epoch [9/10], Step [1500/1735], Loss: 0.2585,Int100_time:15.803909707069398 min\n",
      "Epoch [9/10], Step [1600/1735], Loss: 0.3263,Int100_time:16.660664586226144 min\n",
      "Epoch [9/10], Step [1700/1735], Loss: 0.2699,Int100_time:17.507551570733387 min\n",
      "Epoch [9],Loss: 0.3003,Epoch_time:134.2274905840556 min\n",
      "Epoch [10/10], Step [100/1735], Loss: 0.2851,Int100_time:0.7899187763532003 min\n",
      "Epoch [10/10], Step [200/1735], Loss: 0.2444,Int100_time:1.581304426987966 min\n",
      "Epoch [10/10], Step [300/1735], Loss: 0.2230,Int100_time:2.3946229298909505 min\n",
      "Epoch [10/10], Step [400/1735], Loss: 0.1882,Int100_time:3.2125884890556335 min\n",
      "Epoch [10/10], Step [500/1735], Loss: 0.2543,Int100_time:4.052833604812622 min\n",
      "Epoch [10/10], Step [600/1735], Loss: 0.2647,Int100_time:4.899235451221466 min\n",
      "Epoch [10/10], Step [700/1735], Loss: 0.1911,Int100_time:5.7450050989786785 min\n",
      "Epoch [10/10], Step [800/1735], Loss: 0.2341,Int100_time:6.581366801261902 min\n",
      "Epoch [10/10], Step [900/1735], Loss: 0.2940,Int100_time:7.421790468692779 min\n",
      "Epoch [10/10], Step [1000/1735], Loss: 0.2891,Int100_time:8.257021379470824 min\n",
      "Epoch [10/10], Step [1100/1735], Loss: 0.3422,Int100_time:9.089993480841319 min\n",
      "Epoch [10/10], Step [1200/1735], Loss: 0.2243,Int100_time:9.9268350203832 min\n",
      "Epoch [10/10], Step [1300/1735], Loss: 0.2168,Int100_time:11.114491287867228 min\n",
      "Epoch [10/10], Step [1400/1735], Loss: 0.2233,Int100_time:11.95080455938975 min\n",
      "Epoch [10/10], Step [1500/1735], Loss: 0.2087,Int100_time:12.785838373502095 min\n",
      "Epoch [10/10], Step [1600/1735], Loss: 0.1273,Int100_time:13.630671497186025 min\n",
      "Epoch [10/10], Step [1700/1735], Loss: 0.1870,Int100_time:15.050494643052419 min\n",
      "All_Epochs [10],Loss: 0.2367,Epoch_total_time:149.90201524893445 min\n"
     ]
    }
   ],
   "source": [
    "# Train the model\n",
    "import gc\n",
    "import time\n",
    "x=[]\n",
    "Epoch_time=0\n",
    "Int100_time=0\n",
    "Int100_time1=np.zeros(1735)\n",
    "\n",
    "total_step = len(loader_train)\n",
    "for epoch in range(num_epochs):\n",
    "    torch.cuda.synchronize()\n",
    "    start= time.time()\n",
    "    \n",
    "    for i, (images, labels) in enumerate(loader_train):\n",
    "        #print(images)\n",
    "        images = images.to(device)\n",
    "        labels = labels.to(device)\n",
    "        \n",
    "        # Forward pass\n",
    "        outputs = model(images)\n",
    "       # gc.collect()\n",
    "        #torch.cuda.empty_cache()\n",
    "        loss = criterion(outputs, labels)\n",
    "        \n",
    "        \n",
    "        # Backward and optimize\n",
    "        optimizer.zero_grad()\n",
    "        loss.backward()\n",
    "        optimizer.step()\n",
    "        \n",
    "        \n",
    "       \n",
    "        if (i+1) % 100 == 0:\n",
    "            torch.cuda.synchronize()\n",
    "            stop= time.time()\n",
    "            Int100_time=stop-start\n",
    "            Int100_time1[i]=Int100_time1[i]+Int100_time           \n",
    "            print ('Epoch [{}/{}], Step [{}/{}], Loss: {:.4f},Int100_time:{} min' \n",
    "                   .format(epoch+1, num_epochs, i+1, total_step, loss.item(),Int100_time/60))\n",
    "        elif (i+1) % 1735 == 0:\n",
    "            torch.cuda.synchronize()\n",
    "            stop= time.time()            \n",
    "            Epoch_time=Epoch_time+(stop-start)/60\n",
    "            if (epoch+1) % num_epochs == 0:\n",
    "                print ('All_Epochs [{}],Loss: {:.4f},Epoch_total_time:{} min' \n",
    "                   .format(num_epochs,loss.item(),Epoch_time))\n",
    "            else:\n",
    "                 torch.cuda.synchronize()\n",
    "                 print ('Epoch [{}],Loss: {:.4f},Epoch_time:{} min' \n",
    "                   .format(epoch+1,loss.item(),Epoch_time))\n",
    "            \n",
    "    \n"
   ]
  },
  {
   "cell_type": "code",
   "execution_count": null,
   "metadata": {
    "_uuid": "9e5394b140012fb796f43a8fd0b558625a1b073f",
    "gradient": {
     "editing": false,
     "execution_count": 16,
     "id": "b9f03de9-e094-4207-9e8b-ce182538b6e1",
     "kernelId": "333b5024-c52b-4c33-b852-f0f4966bb37b"
    },
    "id": "70evm24KDcrw",
    "outputId": "6dcc4fa1-c87e-4115-8ae0-c6753843e73a"
   },
   "outputs": [
    {
     "name": "stdout",
     "output_type": "stream",
     "text": [
      "Test Accuracy of the model on the test images: 90.54679758580308 %\n"
     ]
    }
   ],
   "source": [
    "# Test the model\n",
    "model.eval()  # eval mode (batchnorm uses moving mean/variance instead of mini-batch mean/variance)\n",
    "confusion_matrix = torch.zeros(2, 2)\n",
    "with torch.no_grad():\n",
    "    correct = 0\n",
    "    total = 0\n",
    "    for images, labels in loader_valid:\n",
    "        images = images.to(device)\n",
    "        labels = labels.to(device)\n",
    "        outputs = model(images)\n",
    "        _, predicted = torch.max(outputs.data, 1)\n",
    "        total += labels.size(0)\n",
    "        correct += (predicted == labels).sum().item()\n",
    "        for t, p in zip(labels.view(-1), predicted.view(-1)):\n",
    "                confusion_matrix[t.long(), p.long()] += 1\n",
    "                 \n",
    "    print('Test Accuracy of the model on the test images: {} %'.format(100 * correct / total))\n",
    "\n",
    "# Save the model checkpoint\n",
    "torch.save(model.state_dict(), 'model.ckpt')"
   ]
  },
  {
   "cell_type": "code",
   "execution_count": null,
   "metadata": {
    "gradient": {
     "editing": false,
     "execution_count": 17,
     "id": "deff7749-9860-4d28-8083-8d8f36757d15",
     "kernelId": "333b5024-c52b-4c33-b852-f0f4966bb37b"
    },
    "id": "ZEeqWX4yDcrw",
    "outputId": "c36bb1ff-e7cc-450a-a171-e12bd2b609f2"
   },
   "outputs": [
    {
     "name": "stdout",
     "output_type": "stream",
     "text": [
      "tensor([[37658.,  2090.],\n",
      "        [ 3157., 12600.]])\n"
     ]
    }
   ],
   "source": [
    "print(confusion_matrix)"
   ]
  },
  {
   "cell_type": "code",
   "execution_count": null,
   "metadata": {
    "gradient": {
     "editing": false,
     "execution_count": 15,
     "id": "91cc50ad-3ff8-4f3c-8690-8e6defd837d8",
     "kernelId": "333b5024-c52b-4c33-b852-f0f4966bb37b"
    }
   },
   "outputs": [
    {
     "name": "stdout",
     "output_type": "stream",
     "text": [
      "651\n",
      "201\n",
      "1\n"
     ]
    }
   ],
   "source": [
    "dataset = pd.read_csv('dataset.csv')\n",
    "x_Col = dataset.iloc[:, 2].values\n",
    "y_Col = dataset.iloc[:, 3].values\n",
    "labels_Col = dataset.iloc[:, 5].values\n",
    "print(x_Col[0])\n",
    "print(y_Col[0])\n",
    "print(labels_Col[0])"
   ]
  },
  {
   "cell_type": "code",
   "execution_count": null,
   "metadata": {
    "gradient": {
     "editing": false,
     "id": "446751a1-f3d9-49dc-889c-5e1670c460c3",
     "kernelId": "333b5024-c52b-4c33-b852-f0f4966bb37b"
    }
   },
   "outputs": [],
   "source": []
  }
 ],
 "metadata": {
  "accelerator": "GPU",
  "colab": {
   "name": "new_breast_histopathology.ipynb",
   "provenance": []
  },
  "kernelspec": {
   "display_name": "Python 3 (ipykernel)",
   "language": "python",
   "name": "python3"
  },
  "language_info": {
   "codemirror_mode": {
    "name": "ipython",
    "version": 3
   },
   "file_extension": ".py",
   "mimetype": "text/x-python",
   "name": "python",
   "nbconvert_exporter": "python",
   "pygments_lexer": "ipython3",
   "version": "3.8.12"
  }
 },
 "nbformat": 4,
 "nbformat_minor": 4
}
