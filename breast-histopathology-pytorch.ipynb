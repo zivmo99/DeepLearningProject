{
 "cells": [
  {
   "cell_type": "code",
   "execution_count": 1,
   "metadata": {
    "_uuid": "915e2efe0713031e10cffdb59f7d917b1130c4f8"
   },
   "outputs": [],
   "source": [
    "# Code extensively uses the kernel https://www.kaggle.com/bonhart/pytorch-cnn-from-scratch!\n",
    "\n",
    "# Thank you https://www.kaggle.com/bonhart"
   ]
  },
  {
   "cell_type": "code",
   "execution_count": 2,
   "metadata": {
    "_cell_guid": "b1076dfc-b9ad-4769-8c92-a6c4dae69d19",
    "_uuid": "8f2839f25d086af736a60e9eeb907d3b93b6e0e5"
   },
   "outputs": [],
   "source": [
    "# Libraries\n",
    "import os\n",
    "import numpy as np\n",
    "import pandas as pd\n",
    "import cv2\n",
    "import seaborn as sns\n",
    "import matplotlib.pyplot as plt\n",
    "%matplotlib inline\n",
    "\n",
    "from sklearn.model_selection import train_test_split\n",
    "from sklearn.metrics import classification_report\n",
    "from sklearn.metrics import confusion_matrix\n",
    "\n",
    "import torch \n",
    "import torch.nn as nn\n",
    "import torch.nn.functional as F\n",
    "import torchvision\n",
    "import torchvision.transforms as transforms\n",
    "from torch.utils.data import TensorDataset, DataLoader, Dataset"
   ]
  },
  {
   "cell_type": "code",
   "execution_count": 3,
   "metadata": {
    "_cell_guid": "79c7e3d0-c299-4dcb-8224-4455121ee9b0",
    "_uuid": "d629ff2d2480ee46fbb7e2d37f6b5fab8052498a"
   },
   "outputs": [],
   "source": [
    "from glob import glob\n",
    "imagePatches = glob('../input/IDC_regular_ps50_idx5/**/*.png', recursive=True)"
   ]
  },
  {
   "cell_type": "code",
   "execution_count": 4,
   "metadata": {
    "_uuid": "c89b4c5f80a1470df82928d50e545ad62e2987d6"
   },
   "outputs": [
    {
     "data": {
      "text/plain": [
       "277524"
      ]
     },
     "execution_count": 4,
     "metadata": {},
     "output_type": "execute_result"
    }
   ],
   "source": [
    "len(imagePatches)"
   ]
  },
  {
   "cell_type": "code",
   "execution_count": 5,
   "metadata": {
    "_uuid": "e8c6c579d1545b2de82440a0f5458c6479e520a9"
   },
   "outputs": [
    {
     "data": {
      "text/plain": [
       "'../input/IDC_regular_ps50_idx5/8956/0/8956_idx5_x2751_y1301_class0.png'"
      ]
     },
     "execution_count": 5,
     "metadata": {},
     "output_type": "execute_result"
    }
   ],
   "source": [
    "imagePatches[0]"
   ]
  },
  {
   "cell_type": "code",
   "execution_count": 6,
   "metadata": {
    "_uuid": "897952d56ed60f3acf6a8f26ca1cbfb11e36e6cd"
   },
   "outputs": [],
   "source": [
    "import fnmatch\n",
    "patternZero = '*class0.png'\n",
    "patternOne = '*class1.png'\n",
    "classZero = fnmatch.filter(imagePatches, patternZero)\n",
    "classOne = fnmatch.filter(imagePatches, patternOne)"
   ]
  },
  {
   "cell_type": "code",
   "execution_count": 7,
   "metadata": {
    "_uuid": "106e488540fccc30076aa08381c3ba0236d07cef"
   },
   "outputs": [],
   "source": [
    "y = []\n",
    "for img in imagePatches:\n",
    "    if img in classZero:\n",
    "        y.append(0)\n",
    "    elif img in classOne:\n",
    "        y.append(1)"
   ]
  },
  {
   "cell_type": "code",
   "execution_count": 8,
   "metadata": {
    "_uuid": "0489668124e3590a61343eac9f45d00d08894c8d"
   },
   "outputs": [],
   "source": [
    "images_df = pd.DataFrame()"
   ]
  },
  {
   "cell_type": "code",
   "execution_count": 9,
   "metadata": {
    "_uuid": "0853ca6328fe66cd4ccf935550c96d575f4e598b"
   },
   "outputs": [],
   "source": [
    "images_df[\"images\"] = imagePatches\n",
    "images_df[\"labels\"] = y"
   ]
  },
  {
   "cell_type": "code",
   "execution_count": 10,
   "metadata": {
    "_uuid": "e7d446abe34633dbe3e558505131c22bccd9fd6c"
   },
   "outputs": [
    {
     "data": {
      "text/html": [
       "<div>\n",
       "<style scoped>\n",
       "    .dataframe tbody tr th:only-of-type {\n",
       "        vertical-align: middle;\n",
       "    }\n",
       "\n",
       "    .dataframe tbody tr th {\n",
       "        vertical-align: top;\n",
       "    }\n",
       "\n",
       "    .dataframe thead th {\n",
       "        text-align: right;\n",
       "    }\n",
       "</style>\n",
       "<table border=\"1\" class=\"dataframe\">\n",
       "  <thead>\n",
       "    <tr style=\"text-align: right;\">\n",
       "      <th></th>\n",
       "      <th>images</th>\n",
       "      <th>labels</th>\n",
       "    </tr>\n",
       "  </thead>\n",
       "  <tbody>\n",
       "    <tr>\n",
       "      <th>0</th>\n",
       "      <td>../input/IDC_regular_ps50_idx5/8956/0/8956_idx...</td>\n",
       "      <td>0</td>\n",
       "    </tr>\n",
       "    <tr>\n",
       "      <th>1</th>\n",
       "      <td>../input/IDC_regular_ps50_idx5/8956/0/8956_idx...</td>\n",
       "      <td>0</td>\n",
       "    </tr>\n",
       "    <tr>\n",
       "      <th>2</th>\n",
       "      <td>../input/IDC_regular_ps50_idx5/8956/0/8956_idx...</td>\n",
       "      <td>0</td>\n",
       "    </tr>\n",
       "    <tr>\n",
       "      <th>3</th>\n",
       "      <td>../input/IDC_regular_ps50_idx5/8956/0/8956_idx...</td>\n",
       "      <td>0</td>\n",
       "    </tr>\n",
       "    <tr>\n",
       "      <th>4</th>\n",
       "      <td>../input/IDC_regular_ps50_idx5/8956/0/8956_idx...</td>\n",
       "      <td>0</td>\n",
       "    </tr>\n",
       "  </tbody>\n",
       "</table>\n",
       "</div>"
      ],
      "text/plain": [
       "                                              images  labels\n",
       "0  ../input/IDC_regular_ps50_idx5/8956/0/8956_idx...       0\n",
       "1  ../input/IDC_regular_ps50_idx5/8956/0/8956_idx...       0\n",
       "2  ../input/IDC_regular_ps50_idx5/8956/0/8956_idx...       0\n",
       "3  ../input/IDC_regular_ps50_idx5/8956/0/8956_idx...       0\n",
       "4  ../input/IDC_regular_ps50_idx5/8956/0/8956_idx...       0"
      ]
     },
     "execution_count": 10,
     "metadata": {},
     "output_type": "execute_result"
    }
   ],
   "source": [
    "images_df.head()"
   ]
  },
  {
   "cell_type": "code",
   "execution_count": 11,
   "metadata": {
    "_uuid": "bf791fae50824823380aa2c3cab7333880109853"
   },
   "outputs": [
    {
     "data": {
      "text/plain": [
       "labels\n",
       "0    198738\n",
       "1     78786\n",
       "Name: labels, dtype: int64"
      ]
     },
     "execution_count": 11,
     "metadata": {},
     "output_type": "execute_result"
    }
   ],
   "source": [
    "images_df.groupby(\"labels\")[\"labels\"].count()"
   ]
  },
  {
   "cell_type": "code",
   "execution_count": 12,
   "metadata": {
    "_uuid": "5b2bfe3dbeec54a5001834ea96ec0e24085f4cbf"
   },
   "outputs": [
    {
     "data": {
      "text/plain": [
       "(222019, 55505)"
      ]
     },
     "execution_count": 12,
     "metadata": {},
     "output_type": "execute_result"
    }
   ],
   "source": [
    "#Splitting data into train and val\n",
    "train, val = train_test_split(images_df, stratify=images_df.labels, test_size=0.2)\n",
    "len(train), len(val)"
   ]
  },
  {
   "cell_type": "code",
   "execution_count": 13,
   "metadata": {
    "_uuid": "c7d4df9265cf87377ec865636ae31567e05a33cb"
   },
   "outputs": [],
   "source": [
    "class MyDataset(Dataset):\n",
    "    def __init__(self, df_data,transform=None):\n",
    "        super().__init__()\n",
    "        self.df = df_data.values\n",
    "        \n",
    "        self.transform = transform\n",
    "\n",
    "    def __len__(self):\n",
    "        return len(self.df)\n",
    "    \n",
    "    def __getitem__(self, index):\n",
    "        img_path,label = self.df[index]\n",
    "        \n",
    "        image = cv2.imread(img_path)\n",
    "        image = cv2.resize(image, (50,50))\n",
    "        if self.transform is not None:\n",
    "            image = self.transform(image)\n",
    "        return image, label"
   ]
  },
  {
   "cell_type": "code",
   "execution_count": 14,
   "metadata": {
    "_uuid": "9517232a2dccf9405ec8da24a9884342a513ffff"
   },
   "outputs": [],
   "source": [
    "## Parameters for model\n",
    "\n",
    "# Hyper parameters\n",
    "num_epochs = 10\n",
    "num_classes = 2\n",
    "batch_size = 128\n",
    "learning_rate = 0.002\n",
    "\n",
    "# Device configuration\n",
    "device = torch.device('cuda:0' if torch.cuda.is_available() else 'cpu')"
   ]
  },
  {
   "cell_type": "code",
   "execution_count": 15,
   "metadata": {
    "_uuid": "50afc41fe1b9c6bdf12feb6315588f667f174854"
   },
   "outputs": [],
   "source": [
    "trans_train = transforms.Compose([transforms.ToPILImage(),\n",
    "                                  transforms.Pad(64, padding_mode='reflect'),\n",
    "                                  transforms.RandomHorizontalFlip(), \n",
    "                                  transforms.RandomVerticalFlip(),\n",
    "                                  transforms.RandomRotation(20), \n",
    "                                  transforms.ToTensor(),\n",
    "                                  transforms.Normalize(mean=[0.5, 0.5, 0.5],std=[0.5, 0.5, 0.5])])\n",
    "\n",
    "trans_valid = transforms.Compose([transforms.ToPILImage(),\n",
    "                                  transforms.Pad(64, padding_mode='reflect'),\n",
    "                                  transforms.ToTensor(),\n",
    "                                  transforms.Normalize(mean=[0.5, 0.5, 0.5],std=[0.5, 0.5, 0.5])])\n",
    "\n",
    "dataset_train = MyDataset(df_data=train, transform=trans_train)\n",
    "dataset_valid = MyDataset(df_data=val,transform=trans_valid)\n",
    "\n",
    "loader_train = DataLoader(dataset = dataset_train, batch_size=batch_size, shuffle=True, num_workers=0)\n",
    "loader_valid = DataLoader(dataset = dataset_valid, batch_size=batch_size//2, shuffle=False, num_workers=0)"
   ]
  },
  {
   "cell_type": "code",
   "execution_count": 16,
   "metadata": {
    "_uuid": "e15f2ad345704c1fe3ee6012287d22113ef70a7b"
   },
   "outputs": [],
   "source": [
    "class SimpleCNN(nn.Module):\n",
    "    def __init__(self):\n",
    "        # ancestor constructor call\n",
    "        super(SimpleCNN, self).__init__()\n",
    "        self.conv1 = nn.Conv2d(in_channels=3, out_channels=32, kernel_size=3, padding=2)\n",
    "        self.conv2 = nn.Conv2d(in_channels=32, out_channels=64, kernel_size=3, padding=2)\n",
    "        self.conv3 = nn.Conv2d(in_channels=64, out_channels=128, kernel_size=3, padding=2)\n",
    "        self.conv4 = nn.Conv2d(in_channels=128, out_channels=256, kernel_size=3, padding=2)\n",
    "        self.conv5 = nn.Conv2d(in_channels=256, out_channels=512, kernel_size=3, padding=2)\n",
    "        self.bn1 = nn.BatchNorm2d(32)\n",
    "        self.bn2 = nn.BatchNorm2d(64)\n",
    "        self.bn3 = nn.BatchNorm2d(128)\n",
    "        self.bn4 = nn.BatchNorm2d(256)\n",
    "        self.bn5 = nn.BatchNorm2d(512)\n",
    "        self.pool = nn.MaxPool2d(kernel_size=2, stride=2)\n",
    "        self.avg = nn.AvgPool2d(8)\n",
    "        self.fc = nn.Linear(512 * 1 * 1, 2) # !!!\n",
    "        \n",
    "    def forward(self, x):\n",
    "        x = self.pool(F.leaky_relu(self.bn1(self.conv1(x)))) # first convolutional layer then batchnorm, then activation then pooling layer.\n",
    "        x = self.pool(F.leaky_relu(self.bn2(self.conv2(x))))\n",
    "        x = self.pool(F.leaky_relu(self.bn3(self.conv3(x))))\n",
    "        x = self.pool(F.leaky_relu(self.bn4(self.conv4(x))))\n",
    "        x = self.pool(F.leaky_relu(self.bn5(self.conv5(x))))\n",
    "        x = self.avg(x)\n",
    "        #print(x.shape) # lifehack to find out the correct dimension for the Linear Layer\n",
    "        x = x.view(-1, 512 * 1 * 1) # !!!\n",
    "        x = self.fc(x)\n",
    "        return x"
   ]
  },
  {
   "cell_type": "code",
   "execution_count": 17,
   "metadata": {
    "_uuid": "0360156820e79f956b33e9fcc10bd3335fc395f5"
   },
   "outputs": [],
   "source": [
    "model = SimpleCNN().to(device)"
   ]
  },
  {
   "cell_type": "code",
   "execution_count": 18,
   "metadata": {
    "_uuid": "9e2051afd6bc198da29d20c77fb2082169a930af"
   },
   "outputs": [],
   "source": [
    "# Loss and optimizer\n",
    "criterion = nn.CrossEntropyLoss()\n",
    "optimizer = torch.optim.Adamax(model.parameters(), lr=learning_rate)"
   ]
  },
  {
   "cell_type": "code",
   "execution_count": 19,
   "metadata": {
    "_uuid": "1075be6e0d1c18d34fa1f0b1dd0ff28ffa93a4f9"
   },
   "outputs": [
    {
     "name": "stdout",
     "output_type": "stream",
     "text": [
      "Epoch [1/10], Step [100/1735], Loss: 0.3358\n",
      "Epoch [1/10], Step [200/1735], Loss: 0.3163\n",
      "Epoch [1/10], Step [300/1735], Loss: 0.3219\n",
      "Epoch [1/10], Step [400/1735], Loss: 0.3617\n",
      "Epoch [1/10], Step [500/1735], Loss: 0.3209\n",
      "Epoch [1/10], Step [600/1735], Loss: 0.4136\n",
      "Epoch [1/10], Step [700/1735], Loss: 0.2507\n",
      "Epoch [1/10], Step [800/1735], Loss: 0.3325\n",
      "Epoch [1/10], Step [900/1735], Loss: 0.3281\n",
      "Epoch [1/10], Step [1000/1735], Loss: 0.2555\n",
      "Epoch [1/10], Step [1100/1735], Loss: 0.2879\n",
      "Epoch [1/10], Step [1200/1735], Loss: 0.2242\n",
      "Epoch [1/10], Step [1300/1735], Loss: 0.2967\n",
      "Epoch [1/10], Step [1400/1735], Loss: 0.3049\n",
      "Epoch [1/10], Step [1500/1735], Loss: 0.3458\n",
      "Epoch [1/10], Step [1600/1735], Loss: 0.2801\n",
      "Epoch [1/10], Step [1700/1735], Loss: 0.2768\n",
      "Epoch [2/10], Step [100/1735], Loss: 0.3247\n",
      "Epoch [2/10], Step [200/1735], Loss: 0.3204\n",
      "Epoch [2/10], Step [300/1735], Loss: 0.2564\n",
      "Epoch [2/10], Step [400/1735], Loss: 0.3242\n",
      "Epoch [2/10], Step [500/1735], Loss: 0.3332\n",
      "Epoch [2/10], Step [600/1735], Loss: 0.3553\n",
      "Epoch [2/10], Step [700/1735], Loss: 0.3277\n",
      "Epoch [2/10], Step [800/1735], Loss: 0.3374\n",
      "Epoch [2/10], Step [900/1735], Loss: 0.3323\n",
      "Epoch [2/10], Step [1000/1735], Loss: 0.4336\n",
      "Epoch [2/10], Step [1100/1735], Loss: 0.2342\n",
      "Epoch [2/10], Step [1200/1735], Loss: 0.3015\n",
      "Epoch [2/10], Step [1300/1735], Loss: 0.3449\n",
      "Epoch [2/10], Step [1400/1735], Loss: 0.3406\n",
      "Epoch [2/10], Step [1500/1735], Loss: 0.3161\n",
      "Epoch [2/10], Step [1600/1735], Loss: 0.2662\n",
      "Epoch [2/10], Step [1700/1735], Loss: 0.2756\n",
      "Epoch [3/10], Step [100/1735], Loss: 0.2267\n",
      "Epoch [3/10], Step [200/1735], Loss: 0.2645\n",
      "Epoch [3/10], Step [300/1735], Loss: 0.2119\n",
      "Epoch [3/10], Step [400/1735], Loss: 0.2599\n",
      "Epoch [3/10], Step [500/1735], Loss: 0.2259\n",
      "Epoch [3/10], Step [600/1735], Loss: 0.2712\n",
      "Epoch [3/10], Step [700/1735], Loss: 0.2804\n",
      "Epoch [3/10], Step [800/1735], Loss: 0.2791\n",
      "Epoch [3/10], Step [900/1735], Loss: 0.3273\n",
      "Epoch [3/10], Step [1000/1735], Loss: 0.2637\n",
      "Epoch [3/10], Step [1100/1735], Loss: 0.1970\n",
      "Epoch [3/10], Step [1200/1735], Loss: 0.2722\n",
      "Epoch [3/10], Step [1300/1735], Loss: 0.2885\n",
      "Epoch [3/10], Step [1400/1735], Loss: 0.2069\n",
      "Epoch [3/10], Step [1500/1735], Loss: 0.3033\n",
      "Epoch [3/10], Step [1600/1735], Loss: 0.1937\n",
      "Epoch [3/10], Step [1700/1735], Loss: 0.2361\n",
      "Epoch [4/10], Step [100/1735], Loss: 0.2389\n",
      "Epoch [4/10], Step [200/1735], Loss: 0.2912\n",
      "Epoch [4/10], Step [300/1735], Loss: 0.2809\n",
      "Epoch [4/10], Step [400/1735], Loss: 0.1845\n",
      "Epoch [4/10], Step [500/1735], Loss: 0.3574\n",
      "Epoch [4/10], Step [600/1735], Loss: 0.2294\n",
      "Epoch [4/10], Step [700/1735], Loss: 0.2550\n",
      "Epoch [4/10], Step [800/1735], Loss: 0.2501\n",
      "Epoch [4/10], Step [900/1735], Loss: 0.2554\n",
      "Epoch [4/10], Step [1000/1735], Loss: 0.2880\n",
      "Epoch [4/10], Step [1100/1735], Loss: 0.2798\n",
      "Epoch [4/10], Step [1200/1735], Loss: 0.2200\n",
      "Epoch [4/10], Step [1300/1735], Loss: 0.2711\n",
      "Epoch [4/10], Step [1400/1735], Loss: 0.2336\n",
      "Epoch [4/10], Step [1500/1735], Loss: 0.2793\n",
      "Epoch [4/10], Step [1600/1735], Loss: 0.2340\n",
      "Epoch [4/10], Step [1700/1735], Loss: 0.2498\n",
      "Epoch [5/10], Step [100/1735], Loss: 0.2128\n",
      "Epoch [5/10], Step [200/1735], Loss: 0.2374\n",
      "Epoch [5/10], Step [300/1735], Loss: 0.2582\n",
      "Epoch [5/10], Step [400/1735], Loss: 0.2088\n",
      "Epoch [5/10], Step [500/1735], Loss: 0.2263\n",
      "Epoch [5/10], Step [600/1735], Loss: 0.2478\n",
      "Epoch [5/10], Step [700/1735], Loss: 0.2908\n",
      "Epoch [5/10], Step [800/1735], Loss: 0.2576\n",
      "Epoch [5/10], Step [900/1735], Loss: 0.2476\n",
      "Epoch [5/10], Step [1000/1735], Loss: 0.2802\n",
      "Epoch [5/10], Step [1100/1735], Loss: 0.2735\n",
      "Epoch [5/10], Step [1200/1735], Loss: 0.2189\n",
      "Epoch [5/10], Step [1300/1735], Loss: 0.2333\n",
      "Epoch [5/10], Step [1400/1735], Loss: 0.2785\n",
      "Epoch [5/10], Step [1500/1735], Loss: 0.3091\n",
      "Epoch [5/10], Step [1600/1735], Loss: 0.3176\n",
      "Epoch [5/10], Step [1700/1735], Loss: 0.2388\n",
      "Epoch [6/10], Step [100/1735], Loss: 0.2757\n",
      "Epoch [6/10], Step [200/1735], Loss: 0.3024\n",
      "Epoch [6/10], Step [300/1735], Loss: 0.1709\n",
      "Epoch [6/10], Step [400/1735], Loss: 0.1768\n",
      "Epoch [6/10], Step [500/1735], Loss: 0.1879\n",
      "Epoch [6/10], Step [600/1735], Loss: 0.2138\n",
      "Epoch [6/10], Step [700/1735], Loss: 0.2826\n",
      "Epoch [6/10], Step [800/1735], Loss: 0.2818\n",
      "Epoch [6/10], Step [900/1735], Loss: 0.1712\n",
      "Epoch [6/10], Step [1000/1735], Loss: 0.3272\n",
      "Epoch [6/10], Step [1100/1735], Loss: 0.2993\n",
      "Epoch [6/10], Step [1200/1735], Loss: 0.3041\n",
      "Epoch [6/10], Step [1300/1735], Loss: 0.1836\n",
      "Epoch [6/10], Step [1400/1735], Loss: 0.2320\n",
      "Epoch [6/10], Step [1500/1735], Loss: 0.2062\n",
      "Epoch [6/10], Step [1600/1735], Loss: 0.2446\n",
      "Epoch [6/10], Step [1700/1735], Loss: 0.2282\n",
      "Epoch [7/10], Step [100/1735], Loss: 0.1483\n",
      "Epoch [7/10], Step [200/1735], Loss: 0.2081\n",
      "Epoch [7/10], Step [300/1735], Loss: 0.2550\n",
      "Epoch [7/10], Step [400/1735], Loss: 0.2577\n",
      "Epoch [7/10], Step [500/1735], Loss: 0.2663\n",
      "Epoch [7/10], Step [600/1735], Loss: 0.2662\n",
      "Epoch [7/10], Step [700/1735], Loss: 0.2496\n",
      "Epoch [7/10], Step [800/1735], Loss: 0.2136\n",
      "Epoch [7/10], Step [900/1735], Loss: 0.2295\n",
      "Epoch [7/10], Step [1000/1735], Loss: 0.2185\n",
      "Epoch [7/10], Step [1100/1735], Loss: 0.4405\n",
      "Epoch [7/10], Step [1200/1735], Loss: 0.2089\n",
      "Epoch [7/10], Step [1300/1735], Loss: 0.1767\n",
      "Epoch [7/10], Step [1400/1735], Loss: 0.2030\n",
      "Epoch [7/10], Step [1500/1735], Loss: 0.2079\n",
      "Epoch [7/10], Step [1600/1735], Loss: 0.2609\n",
      "Epoch [7/10], Step [1700/1735], Loss: 0.2484\n",
      "Epoch [8/10], Step [100/1735], Loss: 0.2666\n",
      "Epoch [8/10], Step [200/1735], Loss: 0.2753\n",
      "Epoch [8/10], Step [300/1735], Loss: 0.3492\n",
      "Epoch [8/10], Step [400/1735], Loss: 0.1938\n",
      "Epoch [8/10], Step [500/1735], Loss: 0.2295\n",
      "Epoch [8/10], Step [600/1735], Loss: 0.2463\n",
      "Epoch [8/10], Step [700/1735], Loss: 0.2457\n",
      "Epoch [8/10], Step [800/1735], Loss: 0.2781\n",
      "Epoch [8/10], Step [900/1735], Loss: 0.2564\n",
      "Epoch [8/10], Step [1000/1735], Loss: 0.1532\n",
      "Epoch [8/10], Step [1100/1735], Loss: 0.2912\n",
      "Epoch [8/10], Step [1200/1735], Loss: 0.1621\n",
      "Epoch [8/10], Step [1300/1735], Loss: 0.2260\n",
      "Epoch [8/10], Step [1400/1735], Loss: 0.1995\n",
      "Epoch [8/10], Step [1500/1735], Loss: 0.1960\n",
      "Epoch [8/10], Step [1600/1735], Loss: 0.2496\n",
      "Epoch [8/10], Step [1700/1735], Loss: 0.2895\n",
      "Epoch [9/10], Step [100/1735], Loss: 0.1695\n",
      "Epoch [9/10], Step [200/1735], Loss: 0.2053\n",
      "Epoch [9/10], Step [300/1735], Loss: 0.2033\n",
      "Epoch [9/10], Step [400/1735], Loss: 0.1914\n",
      "Epoch [9/10], Step [500/1735], Loss: 0.1937\n",
      "Epoch [9/10], Step [600/1735], Loss: 0.2988\n",
      "Epoch [9/10], Step [700/1735], Loss: 0.1945\n",
      "Epoch [9/10], Step [800/1735], Loss: 0.2186\n",
      "Epoch [9/10], Step [900/1735], Loss: 0.2299\n",
      "Epoch [9/10], Step [1000/1735], Loss: 0.3069\n",
      "Epoch [9/10], Step [1100/1735], Loss: 0.2312\n",
      "Epoch [9/10], Step [1200/1735], Loss: 0.1905\n",
      "Epoch [9/10], Step [1300/1735], Loss: 0.1896\n",
      "Epoch [9/10], Step [1400/1735], Loss: 0.2736\n",
      "Epoch [9/10], Step [1500/1735], Loss: 0.2260\n",
      "Epoch [9/10], Step [1600/1735], Loss: 0.3605\n",
      "Epoch [9/10], Step [1700/1735], Loss: 0.2223\n",
      "Epoch [10/10], Step [100/1735], Loss: 0.2080\n",
      "Epoch [10/10], Step [200/1735], Loss: 0.2391\n",
      "Epoch [10/10], Step [300/1735], Loss: 0.1970\n",
      "Epoch [10/10], Step [400/1735], Loss: 0.3318\n",
      "Epoch [10/10], Step [500/1735], Loss: 0.2487\n",
      "Epoch [10/10], Step [600/1735], Loss: 0.2842\n",
      "Epoch [10/10], Step [700/1735], Loss: 0.2147\n",
      "Epoch [10/10], Step [800/1735], Loss: 0.1520\n",
      "Epoch [10/10], Step [900/1735], Loss: 0.2481\n",
      "Epoch [10/10], Step [1000/1735], Loss: 0.1803\n",
      "Epoch [10/10], Step [1100/1735], Loss: 0.2118\n",
      "Epoch [10/10], Step [1200/1735], Loss: 0.2377\n",
      "Epoch [10/10], Step [1300/1735], Loss: 0.2001\n",
      "Epoch [10/10], Step [1400/1735], Loss: 0.2510\n",
      "Epoch [10/10], Step [1500/1735], Loss: 0.2317\n",
      "Epoch [10/10], Step [1600/1735], Loss: 0.1958\n",
      "Epoch [10/10], Step [1700/1735], Loss: 0.1578\n"
     ]
    }
   ],
   "source": [
    "# Train the model\n",
    "total_step = len(loader_train)\n",
    "for epoch in range(num_epochs):\n",
    "    for i, (images, labels) in enumerate(loader_train):\n",
    "        images = images.to(device)\n",
    "        labels = labels.to(device)\n",
    "        \n",
    "        # Forward pass\n",
    "        outputs = model(images)\n",
    "        loss = criterion(outputs, labels)\n",
    "        \n",
    "        # Backward and optimize\n",
    "        optimizer.zero_grad()\n",
    "        loss.backward()\n",
    "        optimizer.step()\n",
    "        \n",
    "        if (i+1) % 100 == 0:\n",
    "            print ('Epoch [{}/{}], Step [{}/{}], Loss: {:.4f}' \n",
    "                   .format(epoch+1, num_epochs, i+1, total_step, loss.item()))"
   ]
  },
  {
   "cell_type": "code",
   "execution_count": 20,
   "metadata": {
    "_uuid": "9e5394b140012fb796f43a8fd0b558625a1b073f"
   },
   "outputs": [
    {
     "name": "stdout",
     "output_type": "stream",
     "text": [
      "Test Accuracy of the model on the test images: 90.91253040266642 %\n"
     ]
    }
   ],
   "source": [
    "# Test the model\n",
    "model.eval()  # eval mode (batchnorm uses moving mean/variance instead of mini-batch mean/variance)\n",
    "confusion_matrix = torch.zeros(2, 2)\n",
    "with torch.no_grad():\n",
    "    correct = 0\n",
    "    total = 0\n",
    "    for images, labels in loader_valid:\n",
    "        images = images.to(device)\n",
    "        labels = labels.to(device)\n",
    "        outputs = model(images)\n",
    "        _, predicted = torch.max(outputs.data, 1)\n",
    "        total += labels.size(0)\n",
    "        correct += (predicted == labels).sum().item()\n",
    "        for t, p in zip(labels.view(-1), predicted.view(-1)):\n",
    "                confusion_matrix[t.long(), p.long()] += 1\n",
    "                 \n",
    "    print('Test Accuracy of the model on the test images: {} %'.format(100 * correct / total))\n",
    "\n",
    "# Save the model checkpoint\n",
    "torch.save(model.state_dict(), 'model.ckpt')"
   ]
  },
  {
   "cell_type": "code",
   "execution_count": 21,
   "metadata": {},
   "outputs": [
    {
     "name": "stdout",
     "output_type": "stream",
     "text": [
      "tensor([[37734.,  2014.],\n",
      "        [ 3030., 12727.]])\n"
     ]
    }
   ],
   "source": [
    "print(confusion_matrix)"
   ]
  }
 ],
 "metadata": {
  "kernelspec": {
   "display_name": "Python 3",
   "language": "python",
   "name": "python3"
  },
  "language_info": {
   "codemirror_mode": {
    "name": "ipython",
    "version": 3
   },
   "file_extension": ".py",
   "mimetype": "text/x-python",
   "name": "python",
   "nbconvert_exporter": "python",
   "pygments_lexer": "ipython3",
   "version": "3.6.6"
  }
 },
 "nbformat": 4,
 "nbformat_minor": 1
}
